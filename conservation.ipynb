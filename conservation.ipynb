{
 "cells": [
  {
   "cell_type": "markdown",
   "metadata": {},
   "source": [
    "# Conservation of invariants and code stability\n",
    "\n",
    "This notebook aims at investigation the stability of the code as a function of input parameters and the conservation of invariants such as energy and momentum.\n"
   ]
  },
  {
   "cell_type": "code",
   "execution_count": 178,
   "metadata": {
    "ExecuteTime": {
     "end_time": "2021-03-02T09:26:19.813370Z",
     "start_time": "2021-03-02T09:26:19.802545Z"
    }
   },
   "outputs": [],
   "source": [
    "# some preliminary settings and functions\n",
    "\n",
    "import sys\n",
    "sys.path.append(\"/home/aunai/build_phare\")\n",
    "sys.path.append(\"/home/aunai/PHARE/pyphare/\")\n",
    "import os\n",
    "import numpy as np\n",
    "import pyphare\n",
    "from pyphare.pharesee.hierarchy import finest_data\n",
    "from pyphare.pharesee.hierarchy import hierarchy_from\n",
    "from pyphare.pharesee.plotting import zoom_effect\n",
    "import matplotlib.pyplot as plt\n",
    "from pyphare.pharesee.run import Run\n",
    "from dispersion import get_times\n",
    "from pyphare.pharesee.hierarchy import merge_particles\n",
    "%matplotlib widget\n"
   ]
  },
  {
   "cell_type": "code",
   "execution_count": 179,
   "metadata": {
    "ExecuteTime": {
     "end_time": "2021-03-02T09:26:20.211648Z",
     "start_time": "2021-03-02T09:26:20.202594Z"
    },
    "code_folding": [
     0
    ]
   },
   "outputs": [],
   "source": [
    "def plot_job(job, time, qty,**kwargs):\n",
    "    path = job\n",
    "    r = Run(path)\n",
    "    t=time        \n",
    "    B = r.GetB(t)\n",
    "    #N = r.GetNi(t)\n",
    "    #V = r.GetVi(t)\n",
    "    if qty in (\"Bx\",\"By\",\"Bz\"):\n",
    "        self = B\n",
    "    if qty == \"rho\":\n",
    "        self = N\n",
    "    if qty in (\"Vx\", \"Vy\", \"Vz\"):\n",
    "        self = V\n",
    "    fig, (ax1,ax2) = plt.subplots(nrows=2, figsize=(8,6), sharex=True)\n",
    "    colors = [\"k\", \"b\", \"r\"]\n",
    "    for ilvl, lvl in self.patch_levels.items():\n",
    "        for pidx, patch in enumerate(lvl.patches):\n",
    "            pdata  = patch.patch_datas[qty]\n",
    "            x,v = finest_data(pdata, ilvl, self)\n",
    "            ax1.plot(x, v,label=\"lev{} - patch{}\".format(ilvl, pidx),\n",
    "                     marker='o', markersize=2, color=colors[ilvl])\n",
    "\n",
    "    for ilvl,level in B.patch_levels.items():\n",
    "        for patch in level.patches:\n",
    "            dx = patch.dx\n",
    "            x0 = patch.origin[0]\n",
    "            x1 = (patch.box.upper[0]+1)*dx\n",
    "            ax2.axvspan(x0, x1, color='b',ec='k', alpha=0.2,\n",
    "                        ymin=ilvl/4, ymax=(ilvl+1)/4)\n",
    "\n",
    "    ax1.set_title(\"{} at t = {}\".format(job,t))\n",
    "\n",
    "    ax1.set_ylim(kwargs.get(\"ylim\",(-3.5, 3.5)))\n",
    "\n",
    "    ax1.set_xlim(kwargs.get(\"xlim\", (0,500)))\n",
    "\n",
    "    return fig, ax1, ax2"
   ]
  },
  {
   "cell_type": "code",
   "execution_count": 180,
   "metadata": {
    "ExecuteTime": {
     "end_time": "2021-03-02T09:26:20.613616Z",
     "start_time": "2021-03-02T09:26:20.608984Z"
    }
   },
   "outputs": [],
   "source": [
    "def kinetic_energy(particles):\n",
    "    return 0.5*np.sum((particles.v[:,0]**2 + particles.v[:,1]**2 + particles.v[:,2]**2)* particles.weights)\n",
    "\n",
    "def momentum(particles):\n",
    "    m = 1\n",
    "    return m*np.asarray([np.sum(v*particles.weights) for v in [particles.v[:,0], particles.v[:,1], particles.v[:,2]]])"
   ]
  },
  {
   "cell_type": "code",
   "execution_count": 360,
   "metadata": {
    "ExecuteTime": {
     "end_time": "2021-03-02T14:40:15.697908Z",
     "start_time": "2021-03-02T14:40:15.694134Z"
    }
   },
   "outputs": [],
   "source": [
    "def total_particles(parts, fun, lvlNbr=0):\n",
    "    for ilvl, lvl in parts.patch_levels.items():\n",
    "        if lvlNbr == ilvl:\n",
    "            tot = 0.\n",
    "            for ip, patch in enumerate(lvl.patches):\n",
    "                keys = list(patch.patch_datas.keys())\n",
    "                pdata = patch.patch_datas[keys[0]]\n",
    "                particles= pdata.dataset\n",
    "                per_patch = fun(particles)\n",
    "                #L = (pdata.layout.box.upper[0]-pdata.layout.box.lower[0]+1)*pdata.layout.dl[0]\n",
    "                tot += per_patch\n",
    "    return tot    "
   ]
  },
  {
   "cell_type": "code",
   "execution_count": 361,
   "metadata": {
    "ExecuteTime": {
     "end_time": "2021-03-02T14:40:17.490295Z",
     "start_time": "2021-03-02T14:40:17.483652Z"
    }
   },
   "outputs": [],
   "source": [
    "def total_kinetic(parts, lvlNbr=0):\n",
    "    return total_particles(parts, kinetic_energy, lvlNbr)\n",
    "\n",
    "def total_momentum(parts, lvlNbr=0):\n",
    "    return total_particles(parts, momentum, lvlNbr)\n",
    "\n",
    "def mag_energy(B, lvlNbr=0):\n",
    "    for ilvl, lvl in B.patch_levels.items():\n",
    "        if lvlNbr == ilvl:\n",
    "            tot = 0.\n",
    "            for ip, patch in enumerate(lvl.patches):\n",
    "                pdata = patch.patch_datas[\"Bx\"]\n",
    "                bx = patch.patch_datas[\"Bx\"].dataset[5:-5]\n",
    "                bytmp = patch.patch_datas[\"By\"].dataset[4:-4]\n",
    "                bztmp = patch.patch_datas[\"Bz\"].dataset[4:-4]\n",
    "                by = 0.5*(bytmp[1:]+bytmp[:-1])\n",
    "                bz = 0.5*(bztmp[1:]+bztmp[:-1])\n",
    "                per_patch = np.sum((bx**2 + by**2 + bz**2)*0.5*pdata.layout.dl[0])\n",
    "                L = (pdata.layout.box.upper[0]-pdata.layout.box.lower[0]+1)*pdata.layout.dl[0]\n",
    "                tot +=  per_patch\n",
    "        return tot"
   ]
  },
  {
   "cell_type": "markdown",
   "metadata": {},
   "source": [
    "$$ E_B = \\int_0^LB^2/2dx  = \\sum_{i=0}^{n_x-1}B_i^2/2dx$$\n",
    "\n",
    "$$E_k = \\sum_{p=0}^{npart} 0.5*w_p*v_p^2 $$"
   ]
  },
  {
   "cell_type": "code",
   "execution_count": 362,
   "metadata": {
    "ExecuteTime": {
     "end_time": "2021-03-02T14:40:23.998175Z",
     "start_time": "2021-03-02T14:40:23.988986Z"
    }
   },
   "outputs": [],
   "source": [
    "def energies(path):\n",
    "    r = Run(path)\n",
    "    times = get_times(r.path+\"/EM_B.h5\")\n",
    "    Bnrj = np.zeros_like(times)\n",
    "    K = np.zeros_like(times)\n",
    "    for it,t in enumerate(times):\n",
    "        B = r.GetB(t)\n",
    "        protons = r.GetParticles(t, \"protons\")\n",
    "        Bnrj[it] = mag_energy(B)\n",
    "        K[it] = total_kinetic(protons)    \n",
    "    return r, Bnrj, K, times\n",
    "\n",
    "def avg_interval(t1, t2, times):\n",
    "    return [np.argmin(np.abs(times-t)) for t in (t1,t2)]\n",
    "\n",
    "\n",
    "def plot_energies_abs(times, Bnrj, K, t1, t2):\n",
    "    fig, ax1 =plt.subplots()\n",
    "    ax1.plot(times, Bnrj, label=\"magnetic energy\")\n",
    "    ax2 = plt.twinx(ax1)\n",
    "    ax2.plot(times, K, label=\"total kinetic\", color=\"r\")\n",
    "    fig.legend()\n",
    "    ax1.axvspan(t1, t2, color=\"b\", alpha=0.3)\n",
    "    ax1.set_xlim((t1,times[-1]))\n",
    "\n",
    "    \n",
    "def plot_energies_rel(times, Bnrj, K, t1, t2):\n",
    "    fig, ax = plt.subplots()\n",
    "    it1, it2 = avg_interval(t1, t2, times)\n",
    "    B0 = np.mean(Bnrj[it1:it2+1])\n",
    "    K0 = np.mean(K[it1:it2+1])\n",
    "    ax.plot(times, np.abs(Bnrj-B0)/B0*100, label=\"magnetic energy\")\n",
    "    ax.plot(times, np.abs(K-K0)/K0*100, label=\"total kinetic\")\n",
    "    ax.legend()\n",
    "    ax.set_yscale(\"log\")\n",
    "    ax.set_xlabel(\"x\")\n",
    "    ax.set_title(\"relative (%) variation of the energies\")\n",
    "    ax.set_xlim((t1,times[-1]))"
   ]
  },
  {
   "cell_type": "markdown",
   "metadata": {
    "heading_collapsed": true
   },
   "source": [
    "## run001 : test run to load and plot particle data\n",
    "\n",
    "The run has a uniform density n=1, B=Bx=1, Vth=0.3, there are 400 cells with 100 particles per cell. See [input script](/home/aunai/phare_jobs/tests/conservation/run001/conserv.py)"
   ]
  },
  {
   "cell_type": "code",
   "execution_count": 287,
   "metadata": {
    "ExecuteTime": {
     "end_time": "2021-03-02T12:49:51.193742Z",
     "start_time": "2021-03-02T12:49:45.889827Z"
    },
    "hidden": true
   },
   "outputs": [],
   "source": [
    "r1, Bnrj1, K1, times1 = energies(\"/home/aunai/phare_jobs/tests/conservation/run001/\")"
   ]
  },
  {
   "cell_type": "code",
   "execution_count": 301,
   "metadata": {
    "ExecuteTime": {
     "end_time": "2021-03-02T12:54:32.958572Z",
     "start_time": "2021-03-02T12:54:32.925808Z"
    },
    "hidden": true
   },
   "outputs": [
    {
     "data": {
      "application/vnd.jupyter.widget-view+json": {
       "model_id": "47e23137815940c2a2af2599f67bdd51",
       "version_major": 2,
       "version_minor": 0
      },
      "text/plain": [
       "Canvas(toolbar=Toolbar(toolitems=[('Home', 'Reset original view', 'home', 'home'), ('Back', 'Back to previous …"
      ]
     },
     "metadata": {},
     "output_type": "display_data"
    }
   ],
   "source": [
    "plot_energies_abs(times1, Bnrj1, K1, 0,0.1)"
   ]
  },
  {
   "cell_type": "code",
   "execution_count": 302,
   "metadata": {
    "ExecuteTime": {
     "end_time": "2021-03-02T12:54:54.469564Z",
     "start_time": "2021-03-02T12:54:54.444856Z"
    },
    "hidden": true
   },
   "outputs": [
    {
     "data": {
      "application/vnd.jupyter.widget-view+json": {
       "model_id": "f1c64dc4b10f4b1ea2acde8b8e1ba58e",
       "version_major": 2,
       "version_minor": 0
      },
      "text/plain": [
       "Canvas(toolbar=Toolbar(toolitems=[('Home', 'Reset original view', 'home', 'home'), ('Back', 'Back to previous …"
      ]
     },
     "metadata": {},
     "output_type": "display_data"
    }
   ],
   "source": [
    "plot_energies_rel(times1, Bnrj1, K1, 0,0.1)"
   ]
  },
  {
   "cell_type": "code",
   "execution_count": 191,
   "metadata": {
    "ExecuteTime": {
     "end_time": "2021-03-02T09:27:17.112452Z",
     "start_time": "2021-03-02T09:27:14.083005Z"
    },
    "hidden": true
   },
   "outputs": [],
   "source": [
    "mom = np.zeros_like(times)\n",
    "for it,t in enumerate(times):\n",
    "    protons = r.GetParticles(t, \"protons\")\n",
    "    P = total_momentum(protons)\n",
    "    mom[it] = np.sqrt(P[0]**2 + P[1]**2 + P[2]**2)"
   ]
  },
  {
   "cell_type": "code",
   "execution_count": 203,
   "metadata": {
    "ExecuteTime": {
     "end_time": "2021-03-02T09:29:47.119890Z",
     "start_time": "2021-03-02T09:29:47.093765Z"
    },
    "hidden": true
   },
   "outputs": [
    {
     "data": {
      "application/vnd.jupyter.widget-view+json": {
       "model_id": "76016c00153b4f1fa5729889fe8cffc0",
       "version_major": 2,
       "version_minor": 0
      },
      "text/plain": [
       "Canvas(toolbar=Toolbar(toolitems=[('Home', 'Reset original view', 'home', 'home'), ('Back', 'Back to previous …"
      ]
     },
     "metadata": {},
     "output_type": "display_data"
    },
    {
     "data": {
      "text/plain": [
       "Text(0.5, 1.0, 'relative (%) variation of the total momentum')"
      ]
     },
     "execution_count": 203,
     "metadata": {},
     "output_type": "execute_result"
    }
   ],
   "source": [
    "fig, ax = plt.subplots()\n",
    "ax.plot(times, np.abs(mom - mom[0])/mom[0]*100, label=\"total mometum\")\n",
    "ax.legend()\n",
    "ax.set_yscale(\"log\")\n",
    "ax.set_xlabel(\"t\")\n",
    "ax.set_title(\"relative (%) variation of the total momentum\")"
   ]
  },
  {
   "cell_type": "code",
   "execution_count": 204,
   "metadata": {
    "ExecuteTime": {
     "end_time": "2021-03-02T09:29:56.318410Z",
     "start_time": "2021-03-02T09:29:56.291242Z"
    },
    "hidden": true
   },
   "outputs": [
    {
     "data": {
      "application/vnd.jupyter.widget-view+json": {
       "model_id": "69db3cace7b14c9e84a2db2158118029",
       "version_major": 2,
       "version_minor": 0
      },
      "text/plain": [
       "Canvas(toolbar=Toolbar(toolitems=[('Home', 'Reset original view', 'home', 'home'), ('Back', 'Back to previous …"
      ]
     },
     "metadata": {},
     "output_type": "display_data"
    },
    {
     "data": {
      "text/plain": [
       "Text(0.5, 1.0, 'temporal variation of the total momentum amplitude')"
      ]
     },
     "execution_count": 204,
     "metadata": {},
     "output_type": "execute_result"
    }
   ],
   "source": [
    "fig, ax = plt.subplots()\n",
    "ax.plot(times, mom, label=\"total mometum\")\n",
    "ax.legend()\n",
    "ax.set_xlabel(\"t\")\n",
    "ax.set_title(\"temporal variation of the total momentum amplitude\")"
   ]
  },
  {
   "cell_type": "markdown",
   "metadata": {
    "heading_collapsed": true
   },
   "source": [
    "##  Run002\n",
    "\n",
    "The run has a uniform density n=1, B=Bx=1, Vth=0.3, there are 400 cells with 100 particles per cell. See [input script](/home/aunai/phare_jobs/tests/conservation/run002/conserv.py) It is the same run as run001 just evolved for a longer time"
   ]
  },
  {
   "cell_type": "code",
   "execution_count": null,
   "metadata": {
    "hidden": true
   },
   "outputs": [],
   "source": [
    "r2, Bnrj2, K2, times2 = energies(\"/home/aunai/phare_jobs/tests/conservation/run002/\")"
   ]
  },
  {
   "cell_type": "code",
   "execution_count": 304,
   "metadata": {
    "ExecuteTime": {
     "end_time": "2021-03-02T12:56:53.456312Z",
     "start_time": "2021-03-02T12:56:53.422668Z"
    },
    "hidden": true
   },
   "outputs": [
    {
     "data": {
      "application/vnd.jupyter.widget-view+json": {
       "model_id": "2713f5b17efb4b649166e9f8e318c86f",
       "version_major": 2,
       "version_minor": 0
      },
      "text/plain": [
       "Canvas(toolbar=Toolbar(toolitems=[('Home', 'Reset original view', 'home', 'home'), ('Back', 'Back to previous …"
      ]
     },
     "metadata": {},
     "output_type": "display_data"
    }
   ],
   "source": [
    "plot_energies_abs(times2, Bnrj2, K2, 2, 5)"
   ]
  },
  {
   "cell_type": "code",
   "execution_count": 303,
   "metadata": {
    "ExecuteTime": {
     "end_time": "2021-03-02T12:56:38.679495Z",
     "start_time": "2021-03-02T12:56:38.655143Z"
    },
    "hidden": true
   },
   "outputs": [
    {
     "data": {
      "application/vnd.jupyter.widget-view+json": {
       "model_id": "3ac34ac917d34c8990a0b76e2820558b",
       "version_major": 2,
       "version_minor": 0
      },
      "text/plain": [
       "Canvas(toolbar=Toolbar(toolitems=[('Home', 'Reset original view', 'home', 'home'), ('Back', 'Back to previous …"
      ]
     },
     "metadata": {},
     "output_type": "display_data"
    }
   ],
   "source": [
    "plot_energies_rel(times2, Bnrj2, K2, 2, 5)"
   ]
  },
  {
   "cell_type": "code",
   "execution_count": 218,
   "metadata": {
    "ExecuteTime": {
     "end_time": "2021-03-02T09:45:57.802862Z",
     "start_time": "2021-03-02T09:45:57.731674Z"
    },
    "hidden": true
   },
   "outputs": [
    {
     "name": "stderr",
     "output_type": "stream",
     "text": [
      "<ipython-input-179-b063a0291c60>:14: RuntimeWarning: More than 20 figures have been opened. Figures created through the pyplot interface (`matplotlib.pyplot.figure`) are retained until explicitly closed and may consume too much memory. (To control this warning, see the rcParam `figure.max_open_warning`).\n",
      "  fig, (ax1,ax2) = plt.subplots(nrows=2, figsize=(8,6), sharex=True)\n"
     ]
    },
    {
     "data": {
      "application/vnd.jupyter.widget-view+json": {
       "model_id": "47d4a577020d4aa282486212e11d12af",
       "version_major": 2,
       "version_minor": 0
      },
      "text/plain": [
       "Canvas(toolbar=Toolbar(toolitems=[('Home', 'Reset original view', 'home', 'home'), ('Back', 'Back to previous …"
      ]
     },
     "metadata": {},
     "output_type": "display_data"
    },
    {
     "data": {
      "text/plain": [
       "(<Figure size 800x600 with 2 Axes>,\n",
       " <matplotlib.axes._subplots.AxesSubplot at 0x7f096d6c7a60>,\n",
       " <matplotlib.axes._subplots.AxesSubplot at 0x7f096d6c7a00>)"
      ]
     },
     "execution_count": 218,
     "metadata": {},
     "output_type": "execute_result"
    }
   ],
   "source": [
    "plot_job(r.path, 40.000000, \"By\", xlim=(0,80), marker=\"none\", ylim=(-0.1,0.1))"
   ]
  },
  {
   "cell_type": "markdown",
   "metadata": {
    "heading_collapsed": true
   },
   "source": [
    "## Run003"
   ]
  },
  {
   "cell_type": "code",
   "execution_count": null,
   "metadata": {
    "hidden": true
   },
   "outputs": [],
   "source": [
    "r3, Bnrj3, K3, times3 = energies(\"/home/aunai/phare_jobs/tests/conservation/run003\")"
   ]
  },
  {
   "cell_type": "code",
   "execution_count": 279,
   "metadata": {
    "ExecuteTime": {
     "end_time": "2021-03-02T12:42:46.910553Z",
     "start_time": "2021-03-02T12:42:46.876482Z"
    },
    "hidden": true
   },
   "outputs": [
    {
     "name": "stderr",
     "output_type": "stream",
     "text": [
      "<ipython-input-278-985c359aa819>:18: RuntimeWarning: More than 20 figures have been opened. Figures created through the pyplot interface (`matplotlib.pyplot.figure`) are retained until explicitly closed and may consume too much memory. (To control this warning, see the rcParam `figure.max_open_warning`).\n",
      "  fig, ax1 =plt.subplots()\n"
     ]
    },
    {
     "data": {
      "application/vnd.jupyter.widget-view+json": {
       "model_id": "ed6273c904cb4123863690a15da9b8bf",
       "version_major": 2,
       "version_minor": 0
      },
      "text/plain": [
       "Canvas(toolbar=Toolbar(toolitems=[('Home', 'Reset original view', 'home', 'home'), ('Back', 'Back to previous …"
      ]
     },
     "metadata": {},
     "output_type": "display_data"
    }
   ],
   "source": [
    "plot_energies_abs(times3, Bnrj3, K3, t1, t2)"
   ]
  },
  {
   "cell_type": "code",
   "execution_count": 280,
   "metadata": {
    "ExecuteTime": {
     "end_time": "2021-03-02T12:43:03.245530Z",
     "start_time": "2021-03-02T12:43:03.221092Z"
    },
    "hidden": true
   },
   "outputs": [
    {
     "name": "stderr",
     "output_type": "stream",
     "text": [
      "<ipython-input-278-985c359aa819>:28: RuntimeWarning: More than 20 figures have been opened. Figures created through the pyplot interface (`matplotlib.pyplot.figure`) are retained until explicitly closed and may consume too much memory. (To control this warning, see the rcParam `figure.max_open_warning`).\n",
      "  fig, ax = plt.subplots()\n"
     ]
    },
    {
     "data": {
      "application/vnd.jupyter.widget-view+json": {
       "model_id": "f2780e7f2b884cccbb36fab296a867f8",
       "version_major": 2,
       "version_minor": 0
      },
      "text/plain": [
       "Canvas(toolbar=Toolbar(toolitems=[('Home', 'Reset original view', 'home', 'home'), ('Back', 'Back to previous …"
      ]
     },
     "metadata": {},
     "output_type": "display_data"
    }
   ],
   "source": [
    "plot_energies_rel(times3, Bnrj3, K3, t1, t2)"
   ]
  },
  {
   "cell_type": "markdown",
   "metadata": {
    "heading_collapsed": true
   },
   "source": [
    "## Run004"
   ]
  },
  {
   "cell_type": "code",
   "execution_count": 377,
   "metadata": {
    "ExecuteTime": {
     "end_time": "2021-03-02T14:44:38.417211Z",
     "start_time": "2021-03-02T14:44:25.838981Z"
    },
    "hidden": true
   },
   "outputs": [],
   "source": [
    "r4, Bnrj4, K4, times4 = energies(\"/home/aunai/phare_jobs/tests/conservation/run004\")"
   ]
  },
  {
   "cell_type": "code",
   "execution_count": 378,
   "metadata": {
    "ExecuteTime": {
     "end_time": "2021-03-02T14:44:38.766913Z",
     "start_time": "2021-03-02T14:44:38.731609Z"
    },
    "hidden": true
   },
   "outputs": [
    {
     "name": "stderr",
     "output_type": "stream",
     "text": [
      "<ipython-input-362-925fd584528c>:18: RuntimeWarning: More than 20 figures have been opened. Figures created through the pyplot interface (`matplotlib.pyplot.figure`) are retained until explicitly closed and may consume too much memory. (To control this warning, see the rcParam `figure.max_open_warning`).\n",
      "  fig, ax1 =plt.subplots()\n"
     ]
    },
    {
     "data": {
      "application/vnd.jupyter.widget-view+json": {
       "model_id": "6266f9251aa24639a333c74fa85d2f23",
       "version_major": 2,
       "version_minor": 0
      },
      "text/plain": [
       "Canvas(toolbar=Toolbar(toolitems=[('Home', 'Reset original view', 'home', 'home'), ('Back', 'Back to previous …"
      ]
     },
     "metadata": {},
     "output_type": "display_data"
    }
   ],
   "source": [
    "plot_energies_abs(times4, Bnrj4, K4, t1, t2)"
   ]
  },
  {
   "cell_type": "code",
   "execution_count": 379,
   "metadata": {
    "ExecuteTime": {
     "end_time": "2021-03-02T14:44:39.073850Z",
     "start_time": "2021-03-02T14:44:39.044805Z"
    },
    "hidden": true
   },
   "outputs": [
    {
     "name": "stderr",
     "output_type": "stream",
     "text": [
      "<ipython-input-362-925fd584528c>:28: RuntimeWarning: More than 20 figures have been opened. Figures created through the pyplot interface (`matplotlib.pyplot.figure`) are retained until explicitly closed and may consume too much memory. (To control this warning, see the rcParam `figure.max_open_warning`).\n",
      "  fig, ax = plt.subplots()\n"
     ]
    },
    {
     "data": {
      "application/vnd.jupyter.widget-view+json": {
       "model_id": "c3dd41e1db574ab6a2ff07e12b2f07ba",
       "version_major": 2,
       "version_minor": 0
      },
      "text/plain": [
       "Canvas(toolbar=Toolbar(toolitems=[('Home', 'Reset original view', 'home', 'home'), ('Back', 'Back to previous …"
      ]
     },
     "metadata": {},
     "output_type": "display_data"
    }
   ],
   "source": [
    "plot_energies_rel(times4, Bnrj4, K4, t1, t2)"
   ]
  },
  {
   "cell_type": "markdown",
   "metadata": {
    "heading_collapsed": true
   },
   "source": [
    "## Run005"
   ]
  },
  {
   "cell_type": "code",
   "execution_count": 380,
   "metadata": {
    "ExecuteTime": {
     "end_time": "2021-03-02T14:45:13.114141Z",
     "start_time": "2021-03-02T14:44:48.335676Z"
    },
    "hidden": true
   },
   "outputs": [],
   "source": [
    "r5, Bnrj5, K5, times5 = energies(\"/home/aunai/phare_jobs/tests/conservation/run005\")"
   ]
  },
  {
   "cell_type": "code",
   "execution_count": 381,
   "metadata": {
    "ExecuteTime": {
     "end_time": "2021-03-02T14:45:13.469510Z",
     "start_time": "2021-03-02T14:45:13.435060Z"
    },
    "hidden": true
   },
   "outputs": [
    {
     "name": "stderr",
     "output_type": "stream",
     "text": [
      "<ipython-input-362-925fd584528c>:18: RuntimeWarning: More than 20 figures have been opened. Figures created through the pyplot interface (`matplotlib.pyplot.figure`) are retained until explicitly closed and may consume too much memory. (To control this warning, see the rcParam `figure.max_open_warning`).\n",
      "  fig, ax1 =plt.subplots()\n"
     ]
    },
    {
     "data": {
      "application/vnd.jupyter.widget-view+json": {
       "model_id": "d5460c766d8141ce9814da03594a00e0",
       "version_major": 2,
       "version_minor": 0
      },
      "text/plain": [
       "Canvas(toolbar=Toolbar(toolitems=[('Home', 'Reset original view', 'home', 'home'), ('Back', 'Back to previous …"
      ]
     },
     "metadata": {},
     "output_type": "display_data"
    }
   ],
   "source": [
    "plot_energies_abs(times5, Bnrj5, K5, t1, t2)"
   ]
  },
  {
   "cell_type": "code",
   "execution_count": 382,
   "metadata": {
    "ExecuteTime": {
     "end_time": "2021-03-02T14:45:13.765322Z",
     "start_time": "2021-03-02T14:45:13.740610Z"
    },
    "hidden": true
   },
   "outputs": [
    {
     "name": "stderr",
     "output_type": "stream",
     "text": [
      "<ipython-input-362-925fd584528c>:28: RuntimeWarning: More than 20 figures have been opened. Figures created through the pyplot interface (`matplotlib.pyplot.figure`) are retained until explicitly closed and may consume too much memory. (To control this warning, see the rcParam `figure.max_open_warning`).\n",
      "  fig, ax = plt.subplots()\n"
     ]
    },
    {
     "data": {
      "application/vnd.jupyter.widget-view+json": {
       "model_id": "efca6a2ddc3a48af9b9e3fc774d90250",
       "version_major": 2,
       "version_minor": 0
      },
      "text/plain": [
       "Canvas(toolbar=Toolbar(toolitems=[('Home', 'Reset original view', 'home', 'home'), ('Back', 'Back to previous …"
      ]
     },
     "metadata": {},
     "output_type": "display_data"
    }
   ],
   "source": [
    "plot_energies_rel(times5, Bnrj5, K5, t1, t2)"
   ]
  },
  {
   "cell_type": "markdown",
   "metadata": {
    "heading_collapsed": true
   },
   "source": [
    "## Run006"
   ]
  },
  {
   "cell_type": "code",
   "execution_count": 366,
   "metadata": {
    "ExecuteTime": {
     "end_time": "2021-03-02T14:41:51.164194Z",
     "start_time": "2021-03-02T14:41:44.750802Z"
    },
    "hidden": true
   },
   "outputs": [],
   "source": [
    "r6, Bnrj6, K6, times6 = energies(\"/home/aunai/phare_jobs/tests/conservation/run006\")"
   ]
  },
  {
   "cell_type": "code",
   "execution_count": 367,
   "metadata": {
    "ExecuteTime": {
     "end_time": "2021-03-02T14:41:51.503589Z",
     "start_time": "2021-03-02T14:41:51.469180Z"
    },
    "hidden": true
   },
   "outputs": [
    {
     "name": "stderr",
     "output_type": "stream",
     "text": [
      "<ipython-input-362-925fd584528c>:18: RuntimeWarning: More than 20 figures have been opened. Figures created through the pyplot interface (`matplotlib.pyplot.figure`) are retained until explicitly closed and may consume too much memory. (To control this warning, see the rcParam `figure.max_open_warning`).\n",
      "  fig, ax1 =plt.subplots()\n"
     ]
    },
    {
     "data": {
      "application/vnd.jupyter.widget-view+json": {
       "model_id": "1235031cf2c042edb7e7d22cdf8bb5a5",
       "version_major": 2,
       "version_minor": 0
      },
      "text/plain": [
       "Canvas(toolbar=Toolbar(toolitems=[('Home', 'Reset original view', 'home', 'home'), ('Back', 'Back to previous …"
      ]
     },
     "metadata": {},
     "output_type": "display_data"
    }
   ],
   "source": [
    "plot_energies_abs(times6, Bnrj6, K6, t1, t2)"
   ]
  },
  {
   "cell_type": "code",
   "execution_count": 368,
   "metadata": {
    "ExecuteTime": {
     "end_time": "2021-03-02T14:41:51.799310Z",
     "start_time": "2021-03-02T14:41:51.774808Z"
    },
    "hidden": true
   },
   "outputs": [
    {
     "name": "stderr",
     "output_type": "stream",
     "text": [
      "<ipython-input-362-925fd584528c>:28: RuntimeWarning: More than 20 figures have been opened. Figures created through the pyplot interface (`matplotlib.pyplot.figure`) are retained until explicitly closed and may consume too much memory. (To control this warning, see the rcParam `figure.max_open_warning`).\n",
      "  fig, ax = plt.subplots()\n"
     ]
    },
    {
     "data": {
      "application/vnd.jupyter.widget-view+json": {
       "model_id": "07998ac91daf417493f952302e3ac2ab",
       "version_major": 2,
       "version_minor": 0
      },
      "text/plain": [
       "Canvas(toolbar=Toolbar(toolitems=[('Home', 'Reset original view', 'home', 'home'), ('Back', 'Back to previous …"
      ]
     },
     "metadata": {},
     "output_type": "display_data"
    }
   ],
   "source": [
    "plot_energies_rel(times6, Bnrj6, K6, t1, t2)"
   ]
  },
  {
   "cell_type": "markdown",
   "metadata": {
    "heading_collapsed": true
   },
   "source": [
    "## Run007"
   ]
  },
  {
   "cell_type": "code",
   "execution_count": 372,
   "metadata": {
    "ExecuteTime": {
     "end_time": "2021-03-02T14:43:50.622076Z",
     "start_time": "2021-03-02T14:43:44.271036Z"
    },
    "hidden": true
   },
   "outputs": [],
   "source": [
    "r7, Bnrj7, K7, times7 = energies(\"/home/aunai/phare_jobs/tests/conservation/run007\")"
   ]
  },
  {
   "cell_type": "code",
   "execution_count": 373,
   "metadata": {
    "ExecuteTime": {
     "end_time": "2021-03-02T14:43:50.961968Z",
     "start_time": "2021-03-02T14:43:50.927546Z"
    },
    "hidden": true
   },
   "outputs": [
    {
     "name": "stderr",
     "output_type": "stream",
     "text": [
      "<ipython-input-362-925fd584528c>:18: RuntimeWarning: More than 20 figures have been opened. Figures created through the pyplot interface (`matplotlib.pyplot.figure`) are retained until explicitly closed and may consume too much memory. (To control this warning, see the rcParam `figure.max_open_warning`).\n",
      "  fig, ax1 =plt.subplots()\n"
     ]
    },
    {
     "data": {
      "application/vnd.jupyter.widget-view+json": {
       "model_id": "d0f5c45093f1499b9f400e951ae0e331",
       "version_major": 2,
       "version_minor": 0
      },
      "text/plain": [
       "Canvas(toolbar=Toolbar(toolitems=[('Home', 'Reset original view', 'home', 'home'), ('Back', 'Back to previous …"
      ]
     },
     "metadata": {},
     "output_type": "display_data"
    }
   ],
   "source": [
    "plot_energies_abs(times7, Bnrj7, K7, t1, t2)"
   ]
  },
  {
   "cell_type": "code",
   "execution_count": 327,
   "metadata": {
    "ExecuteTime": {
     "end_time": "2021-03-02T13:29:16.822330Z",
     "start_time": "2021-03-02T13:29:16.798195Z"
    },
    "hidden": true,
    "scrolled": false
   },
   "outputs": [
    {
     "name": "stderr",
     "output_type": "stream",
     "text": [
      "<ipython-input-300-925fd584528c>:28: RuntimeWarning: More than 20 figures have been opened. Figures created through the pyplot interface (`matplotlib.pyplot.figure`) are retained until explicitly closed and may consume too much memory. (To control this warning, see the rcParam `figure.max_open_warning`).\n",
      "  fig, ax = plt.subplots()\n"
     ]
    },
    {
     "data": {
      "application/vnd.jupyter.widget-view+json": {
       "model_id": "f6f5a544ccce41a79534031766ea6220",
       "version_major": 2,
       "version_minor": 0
      },
      "text/plain": [
       "Canvas(toolbar=Toolbar(toolitems=[('Home', 'Reset original view', 'home', 'home'), ('Back', 'Back to previous …"
      ]
     },
     "metadata": {},
     "output_type": "display_data"
    }
   ],
   "source": [
    "plot_energies_rel(times7, Bnrj7, K7, t1, t2)"
   ]
  },
  {
   "cell_type": "markdown",
   "metadata": {
    "heading_collapsed": true
   },
   "source": [
    "## Run008"
   ]
  },
  {
   "cell_type": "code",
   "execution_count": 374,
   "metadata": {
    "ExecuteTime": {
     "end_time": "2021-03-02T14:44:06.586019Z",
     "start_time": "2021-03-02T14:43:59.943921Z"
    },
    "hidden": true
   },
   "outputs": [
    {
     "name": "stderr",
     "output_type": "stream",
     "text": [
      "<ipython-input-362-925fd584528c>:18: RuntimeWarning: More than 20 figures have been opened. Figures created through the pyplot interface (`matplotlib.pyplot.figure`) are retained until explicitly closed and may consume too much memory. (To control this warning, see the rcParam `figure.max_open_warning`).\n",
      "  fig, ax1 =plt.subplots()\n"
     ]
    },
    {
     "data": {
      "application/vnd.jupyter.widget-view+json": {
       "model_id": "5d15f07af1824f90b9b66a97fe1eedb3",
       "version_major": 2,
       "version_minor": 0
      },
      "text/plain": [
       "Canvas(toolbar=Toolbar(toolitems=[('Home', 'Reset original view', 'home', 'home'), ('Back', 'Back to previous …"
      ]
     },
     "metadata": {},
     "output_type": "display_data"
    },
    {
     "name": "stderr",
     "output_type": "stream",
     "text": [
      "<ipython-input-362-925fd584528c>:28: RuntimeWarning: More than 20 figures have been opened. Figures created through the pyplot interface (`matplotlib.pyplot.figure`) are retained until explicitly closed and may consume too much memory. (To control this warning, see the rcParam `figure.max_open_warning`).\n",
      "  fig, ax = plt.subplots()\n"
     ]
    },
    {
     "data": {
      "application/vnd.jupyter.widget-view+json": {
       "model_id": "836f1162405f4a57ac1fa0b1928d0392",
       "version_major": 2,
       "version_minor": 0
      },
      "text/plain": [
       "Canvas(toolbar=Toolbar(toolitems=[('Home', 'Reset original view', 'home', 'home'), ('Back', 'Back to previous …"
      ]
     },
     "metadata": {},
     "output_type": "display_data"
    }
   ],
   "source": [
    "r8, Bnrj8, K8, times8 = energies(\"/home/aunai/phare_jobs/tests/conservation/run008\")\n",
    "plot_energies_abs(times8, Bnrj8, K8, t1, t2)\n",
    "plot_energies_rel(times8, Bnrj8, K8, t1, t2)"
   ]
  },
  {
   "cell_type": "markdown",
   "metadata": {
    "heading_collapsed": true
   },
   "source": [
    "## Run009"
   ]
  },
  {
   "cell_type": "code",
   "execution_count": 369,
   "metadata": {
    "ExecuteTime": {
     "end_time": "2021-03-02T14:43:02.194257Z",
     "start_time": "2021-03-02T14:42:13.135454Z"
    },
    "hidden": true
   },
   "outputs": [
    {
     "name": "stderr",
     "output_type": "stream",
     "text": [
      "<ipython-input-362-925fd584528c>:18: RuntimeWarning: More than 20 figures have been opened. Figures created through the pyplot interface (`matplotlib.pyplot.figure`) are retained until explicitly closed and may consume too much memory. (To control this warning, see the rcParam `figure.max_open_warning`).\n",
      "  fig, ax1 =plt.subplots()\n"
     ]
    },
    {
     "data": {
      "application/vnd.jupyter.widget-view+json": {
       "model_id": "87fa631a44d74084adac912ca50d1350",
       "version_major": 2,
       "version_minor": 0
      },
      "text/plain": [
       "Canvas(toolbar=Toolbar(toolitems=[('Home', 'Reset original view', 'home', 'home'), ('Back', 'Back to previous …"
      ]
     },
     "metadata": {},
     "output_type": "display_data"
    },
    {
     "name": "stderr",
     "output_type": "stream",
     "text": [
      "<ipython-input-362-925fd584528c>:28: RuntimeWarning: More than 20 figures have been opened. Figures created through the pyplot interface (`matplotlib.pyplot.figure`) are retained until explicitly closed and may consume too much memory. (To control this warning, see the rcParam `figure.max_open_warning`).\n",
      "  fig, ax = plt.subplots()\n"
     ]
    },
    {
     "data": {
      "application/vnd.jupyter.widget-view+json": {
       "model_id": "f108c11bf11443828d7f976693a21b26",
       "version_major": 2,
       "version_minor": 0
      },
      "text/plain": [
       "Canvas(toolbar=Toolbar(toolitems=[('Home', 'Reset original view', 'home', 'home'), ('Back', 'Back to previous …"
      ]
     },
     "metadata": {},
     "output_type": "display_data"
    }
   ],
   "source": [
    "r9, Bnrj9, K9, times9 = energies(\"/home/aunai/phare_jobs/tests/conservation/run009\")\n",
    "plot_energies_abs(times9, Bnrj9, K9, t1, t2)\n",
    "plot_energies_rel(times9, Bnrj9, K9, t1, t2)"
   ]
  },
  {
   "cell_type": "markdown",
   "metadata": {
    "heading_collapsed": true
   },
   "source": [
    "## Run010"
   ]
  },
  {
   "cell_type": "code",
   "execution_count": 351,
   "metadata": {
    "ExecuteTime": {
     "end_time": "2021-03-02T14:14:19.373919Z",
     "start_time": "2021-03-02T14:13:30.246780Z"
    },
    "hidden": true
   },
   "outputs": [
    {
     "name": "stderr",
     "output_type": "stream",
     "text": [
      "<ipython-input-300-925fd584528c>:18: RuntimeWarning: More than 20 figures have been opened. Figures created through the pyplot interface (`matplotlib.pyplot.figure`) are retained until explicitly closed and may consume too much memory. (To control this warning, see the rcParam `figure.max_open_warning`).\n",
      "  fig, ax1 =plt.subplots()\n"
     ]
    },
    {
     "data": {
      "application/vnd.jupyter.widget-view+json": {
       "model_id": "7dd6e5fb0f5746168c5714dd94e95a8a",
       "version_major": 2,
       "version_minor": 0
      },
      "text/plain": [
       "Canvas(toolbar=Toolbar(toolitems=[('Home', 'Reset original view', 'home', 'home'), ('Back', 'Back to previous …"
      ]
     },
     "metadata": {},
     "output_type": "display_data"
    },
    {
     "name": "stderr",
     "output_type": "stream",
     "text": [
      "<ipython-input-300-925fd584528c>:28: RuntimeWarning: More than 20 figures have been opened. Figures created through the pyplot interface (`matplotlib.pyplot.figure`) are retained until explicitly closed and may consume too much memory. (To control this warning, see the rcParam `figure.max_open_warning`).\n",
      "  fig, ax = plt.subplots()\n"
     ]
    },
    {
     "data": {
      "application/vnd.jupyter.widget-view+json": {
       "model_id": "9368ca808b2e4624ae439a313de2fc77",
       "version_major": 2,
       "version_minor": 0
      },
      "text/plain": [
       "Canvas(toolbar=Toolbar(toolitems=[('Home', 'Reset original view', 'home', 'home'), ('Back', 'Back to previous …"
      ]
     },
     "metadata": {},
     "output_type": "display_data"
    }
   ],
   "source": [
    "r10, Bnrj10, K10, times10 = energies(\"/home/aunai/phare_jobs/tests/conservation/run010\")\n",
    "plot_energies_abs(times10, Bnrj10, K10, t1, t2)\n",
    "plot_energies_rel(times10, Bnrj10, K10, t1, t2)"
   ]
  },
  {
   "cell_type": "code",
   "execution_count": 354,
   "metadata": {
    "ExecuteTime": {
     "end_time": "2021-03-02T14:16:55.895594Z",
     "start_time": "2021-03-02T14:16:55.851690Z"
    },
    "hidden": true
   },
   "outputs": [
    {
     "name": "stderr",
     "output_type": "stream",
     "text": [
      "<ipython-input-179-b063a0291c60>:14: RuntimeWarning: More than 20 figures have been opened. Figures created through the pyplot interface (`matplotlib.pyplot.figure`) are retained until explicitly closed and may consume too much memory. (To control this warning, see the rcParam `figure.max_open_warning`).\n",
      "  fig, (ax1,ax2) = plt.subplots(nrows=2, figsize=(8,6), sharex=True)\n"
     ]
    },
    {
     "data": {
      "application/vnd.jupyter.widget-view+json": {
       "model_id": "5d23550aa9a04be89fd3b247a40be9b2",
       "version_major": 2,
       "version_minor": 0
      },
      "text/plain": [
       "Canvas(toolbar=Toolbar(toolitems=[('Home', 'Reset original view', 'home', 'home'), ('Back', 'Back to previous …"
      ]
     },
     "metadata": {},
     "output_type": "display_data"
    },
    {
     "data": {
      "text/plain": [
       "(<Figure size 800x600 with 2 Axes>,\n",
       " <matplotlib.axes._subplots.AxesSubplot at 0x7f09692d5550>,\n",
       " <matplotlib.axes._subplots.AxesSubplot at 0x7f09692d5520>)"
      ]
     },
     "execution_count": 354,
     "metadata": {},
     "output_type": "execute_result"
    }
   ],
   "source": [
    "plot_job(r.path, 49.000000, \"By\", xlim=(0,20), marker=\"none\", ylim=(-0.1,0.1))"
   ]
  },
  {
   "cell_type": "markdown",
   "metadata": {
    "heading_collapsed": true
   },
   "source": [
    "## Run011"
   ]
  },
  {
   "cell_type": "code",
   "execution_count": 370,
   "metadata": {
    "ExecuteTime": {
     "end_time": "2021-03-02T14:43:18.312040Z",
     "start_time": "2021-03-02T14:43:15.528925Z"
    },
    "hidden": true
   },
   "outputs": [
    {
     "name": "stderr",
     "output_type": "stream",
     "text": [
      "<ipython-input-362-925fd584528c>:18: RuntimeWarning: More than 20 figures have been opened. Figures created through the pyplot interface (`matplotlib.pyplot.figure`) are retained until explicitly closed and may consume too much memory. (To control this warning, see the rcParam `figure.max_open_warning`).\n",
      "  fig, ax1 =plt.subplots()\n"
     ]
    },
    {
     "data": {
      "application/vnd.jupyter.widget-view+json": {
       "model_id": "24894fc291254453976ce4ecb2637610",
       "version_major": 2,
       "version_minor": 0
      },
      "text/plain": [
       "Canvas(toolbar=Toolbar(toolitems=[('Home', 'Reset original view', 'home', 'home'), ('Back', 'Back to previous …"
      ]
     },
     "metadata": {},
     "output_type": "display_data"
    },
    {
     "name": "stderr",
     "output_type": "stream",
     "text": [
      "<ipython-input-362-925fd584528c>:28: RuntimeWarning: More than 20 figures have been opened. Figures created through the pyplot interface (`matplotlib.pyplot.figure`) are retained until explicitly closed and may consume too much memory. (To control this warning, see the rcParam `figure.max_open_warning`).\n",
      "  fig, ax = plt.subplots()\n"
     ]
    },
    {
     "data": {
      "application/vnd.jupyter.widget-view+json": {
       "model_id": "c01581583a704075befbb0ea36002942",
       "version_major": 2,
       "version_minor": 0
      },
      "text/plain": [
       "Canvas(toolbar=Toolbar(toolitems=[('Home', 'Reset original view', 'home', 'home'), ('Back', 'Back to previous …"
      ]
     },
     "metadata": {},
     "output_type": "display_data"
    }
   ],
   "source": [
    "r11, Bnrj11, K11, times11 = energies(\"/home/aunai/phare_jobs/tests/conservation/run011\")\n",
    "plot_energies_abs(times11, Bnrj11, K11, t1, t2)\n",
    "plot_energies_rel(times11, Bnrj11, K11, t1, t2)"
   ]
  },
  {
   "cell_type": "markdown",
   "metadata": {
    "heading_collapsed": true
   },
   "source": [
    "## Run012"
   ]
  },
  {
   "cell_type": "code",
   "execution_count": 384,
   "metadata": {
    "ExecuteTime": {
     "end_time": "2021-03-02T14:55:17.995082Z",
     "start_time": "2021-03-02T14:55:11.546351Z"
    },
    "hidden": true
   },
   "outputs": [
    {
     "name": "stderr",
     "output_type": "stream",
     "text": [
      "<ipython-input-362-925fd584528c>:18: RuntimeWarning: More than 20 figures have been opened. Figures created through the pyplot interface (`matplotlib.pyplot.figure`) are retained until explicitly closed and may consume too much memory. (To control this warning, see the rcParam `figure.max_open_warning`).\n",
      "  fig, ax1 =plt.subplots()\n"
     ]
    },
    {
     "data": {
      "application/vnd.jupyter.widget-view+json": {
       "model_id": "1a3aa3a6ae094f3799cf5e68c38e1507",
       "version_major": 2,
       "version_minor": 0
      },
      "text/plain": [
       "Canvas(toolbar=Toolbar(toolitems=[('Home', 'Reset original view', 'home', 'home'), ('Back', 'Back to previous …"
      ]
     },
     "metadata": {},
     "output_type": "display_data"
    },
    {
     "name": "stderr",
     "output_type": "stream",
     "text": [
      "<ipython-input-362-925fd584528c>:28: RuntimeWarning: More than 20 figures have been opened. Figures created through the pyplot interface (`matplotlib.pyplot.figure`) are retained until explicitly closed and may consume too much memory. (To control this warning, see the rcParam `figure.max_open_warning`).\n",
      "  fig, ax = plt.subplots()\n"
     ]
    },
    {
     "data": {
      "application/vnd.jupyter.widget-view+json": {
       "model_id": "8a5bdc92aff340e88ed6f3d6d68debf1",
       "version_major": 2,
       "version_minor": 0
      },
      "text/plain": [
       "Canvas(toolbar=Toolbar(toolitems=[('Home', 'Reset original view', 'home', 'home'), ('Back', 'Back to previous …"
      ]
     },
     "metadata": {},
     "output_type": "display_data"
    }
   ],
   "source": [
    "r12, Bnrj12, K12, times12 = energies(\"/home/aunai/phare_jobs/tests/conservation/run012\")\n",
    "plot_energies_abs(times12, Bnrj12, K12, t1, t2)\n",
    "plot_energies_rel(times12, Bnrj12, K12, t1, t2)"
   ]
  },
  {
   "cell_type": "markdown",
   "metadata": {
    "heading_collapsed": true
   },
   "source": [
    "## Run013"
   ]
  },
  {
   "cell_type": "code",
   "execution_count": 385,
   "metadata": {
    "ExecuteTime": {
     "end_time": "2021-03-02T14:55:24.671481Z",
     "start_time": "2021-03-02T14:55:18.291062Z"
    },
    "hidden": true
   },
   "outputs": [
    {
     "name": "stderr",
     "output_type": "stream",
     "text": [
      "<ipython-input-362-925fd584528c>:18: RuntimeWarning: More than 20 figures have been opened. Figures created through the pyplot interface (`matplotlib.pyplot.figure`) are retained until explicitly closed and may consume too much memory. (To control this warning, see the rcParam `figure.max_open_warning`).\n",
      "  fig, ax1 =plt.subplots()\n"
     ]
    },
    {
     "data": {
      "application/vnd.jupyter.widget-view+json": {
       "model_id": "ec5dd886660b469a8e1070951a005a38",
       "version_major": 2,
       "version_minor": 0
      },
      "text/plain": [
       "Canvas(toolbar=Toolbar(toolitems=[('Home', 'Reset original view', 'home', 'home'), ('Back', 'Back to previous …"
      ]
     },
     "metadata": {},
     "output_type": "display_data"
    },
    {
     "name": "stderr",
     "output_type": "stream",
     "text": [
      "<ipython-input-362-925fd584528c>:28: RuntimeWarning: More than 20 figures have been opened. Figures created through the pyplot interface (`matplotlib.pyplot.figure`) are retained until explicitly closed and may consume too much memory. (To control this warning, see the rcParam `figure.max_open_warning`).\n",
      "  fig, ax = plt.subplots()\n"
     ]
    },
    {
     "data": {
      "application/vnd.jupyter.widget-view+json": {
       "model_id": "1baeabf37ba74a16b2459d10a6f850af",
       "version_major": 2,
       "version_minor": 0
      },
      "text/plain": [
       "Canvas(toolbar=Toolbar(toolitems=[('Home', 'Reset original view', 'home', 'home'), ('Back', 'Back to previous …"
      ]
     },
     "metadata": {},
     "output_type": "display_data"
    }
   ],
   "source": [
    "r13, Bnrj13, K13, times13 = energies(\"/home/aunai/phare_jobs/tests/conservation/run013\")\n",
    "plot_energies_abs(times13, Bnrj13, K13, t1, t2)\n",
    "plot_energies_rel(times13, Bnrj13, K13, t1, t2)"
   ]
  },
  {
   "cell_type": "markdown",
   "metadata": {
    "heading_collapsed": true
   },
   "source": [
    "## Run014"
   ]
  },
  {
   "cell_type": "code",
   "execution_count": 386,
   "metadata": {
    "ExecuteTime": {
     "end_time": "2021-03-02T14:55:31.383917Z",
     "start_time": "2021-03-02T14:55:24.988466Z"
    },
    "hidden": true
   },
   "outputs": [
    {
     "name": "stderr",
     "output_type": "stream",
     "text": [
      "<ipython-input-362-925fd584528c>:18: RuntimeWarning: More than 20 figures have been opened. Figures created through the pyplot interface (`matplotlib.pyplot.figure`) are retained until explicitly closed and may consume too much memory. (To control this warning, see the rcParam `figure.max_open_warning`).\n",
      "  fig, ax1 =plt.subplots()\n"
     ]
    },
    {
     "data": {
      "application/vnd.jupyter.widget-view+json": {
       "model_id": "0977aa89c5fc4017810cb2ec82dfb443",
       "version_major": 2,
       "version_minor": 0
      },
      "text/plain": [
       "Canvas(toolbar=Toolbar(toolitems=[('Home', 'Reset original view', 'home', 'home'), ('Back', 'Back to previous …"
      ]
     },
     "metadata": {},
     "output_type": "display_data"
    },
    {
     "name": "stderr",
     "output_type": "stream",
     "text": [
      "<ipython-input-362-925fd584528c>:28: RuntimeWarning: More than 20 figures have been opened. Figures created through the pyplot interface (`matplotlib.pyplot.figure`) are retained until explicitly closed and may consume too much memory. (To control this warning, see the rcParam `figure.max_open_warning`).\n",
      "  fig, ax = plt.subplots()\n"
     ]
    },
    {
     "data": {
      "application/vnd.jupyter.widget-view+json": {
       "model_id": "7f61a5d2e012490290d24ad400c4d79c",
       "version_major": 2,
       "version_minor": 0
      },
      "text/plain": [
       "Canvas(toolbar=Toolbar(toolitems=[('Home', 'Reset original view', 'home', 'home'), ('Back', 'Back to previous …"
      ]
     },
     "metadata": {},
     "output_type": "display_data"
    }
   ],
   "source": [
    "r14, Bnrj14, K14, times14 = energies(\"/home/aunai/phare_jobs/tests/conservation/run014\")\n",
    "plot_energies_abs(times14, Bnrj14, K14, t1, t2)\n",
    "plot_energies_rel(times14, Bnrj14, K14, t1, t2)"
   ]
  },
  {
   "cell_type": "markdown",
   "metadata": {
    "heading_collapsed": true
   },
   "source": [
    "## Run015"
   ]
  },
  {
   "cell_type": "code",
   "execution_count": 392,
   "metadata": {
    "ExecuteTime": {
     "end_time": "2021-03-02T15:13:30.355409Z",
     "start_time": "2021-03-02T15:13:23.945290Z"
    },
    "hidden": true
   },
   "outputs": [
    {
     "name": "stderr",
     "output_type": "stream",
     "text": [
      "<ipython-input-362-925fd584528c>:18: RuntimeWarning: More than 20 figures have been opened. Figures created through the pyplot interface (`matplotlib.pyplot.figure`) are retained until explicitly closed and may consume too much memory. (To control this warning, see the rcParam `figure.max_open_warning`).\n",
      "  fig, ax1 =plt.subplots()\n"
     ]
    },
    {
     "data": {
      "application/vnd.jupyter.widget-view+json": {
       "model_id": "016f930c060d4794880019c5cca62b16",
       "version_major": 2,
       "version_minor": 0
      },
      "text/plain": [
       "Canvas(toolbar=Toolbar(toolitems=[('Home', 'Reset original view', 'home', 'home'), ('Back', 'Back to previous …"
      ]
     },
     "metadata": {},
     "output_type": "display_data"
    },
    {
     "name": "stderr",
     "output_type": "stream",
     "text": [
      "<ipython-input-362-925fd584528c>:28: RuntimeWarning: More than 20 figures have been opened. Figures created through the pyplot interface (`matplotlib.pyplot.figure`) are retained until explicitly closed and may consume too much memory. (To control this warning, see the rcParam `figure.max_open_warning`).\n",
      "  fig, ax = plt.subplots()\n"
     ]
    },
    {
     "data": {
      "application/vnd.jupyter.widget-view+json": {
       "model_id": "831ffd8d4ab24f3692ca8c6a7fbfa057",
       "version_major": 2,
       "version_minor": 0
      },
      "text/plain": [
       "Canvas(toolbar=Toolbar(toolitems=[('Home', 'Reset original view', 'home', 'home'), ('Back', 'Back to previous …"
      ]
     },
     "metadata": {},
     "output_type": "display_data"
    }
   ],
   "source": [
    "r15, Bnrj15, K15, times15 = energies(\"/home/aunai/phare_jobs/tests/conservation/run015\")\n",
    "plot_energies_abs(times15, Bnrj15, K15, t1, t2)\n",
    "plot_energies_rel(times15, Bnrj15, K15, t1, t2)"
   ]
  },
  {
   "cell_type": "markdown",
   "metadata": {
    "heading_collapsed": true
   },
   "source": [
    "## Run016"
   ]
  },
  {
   "cell_type": "code",
   "execution_count": 394,
   "metadata": {
    "ExecuteTime": {
     "end_time": "2021-03-02T15:17:45.805392Z",
     "start_time": "2021-03-02T15:17:39.464016Z"
    },
    "hidden": true
   },
   "outputs": [
    {
     "name": "stderr",
     "output_type": "stream",
     "text": [
      "<ipython-input-362-925fd584528c>:18: RuntimeWarning: More than 20 figures have been opened. Figures created through the pyplot interface (`matplotlib.pyplot.figure`) are retained until explicitly closed and may consume too much memory. (To control this warning, see the rcParam `figure.max_open_warning`).\n",
      "  fig, ax1 =plt.subplots()\n"
     ]
    },
    {
     "data": {
      "application/vnd.jupyter.widget-view+json": {
       "model_id": "4ace0224b20a4ff4aa4f14daa66ce27c",
       "version_major": 2,
       "version_minor": 0
      },
      "text/plain": [
       "Canvas(toolbar=Toolbar(toolitems=[('Home', 'Reset original view', 'home', 'home'), ('Back', 'Back to previous …"
      ]
     },
     "metadata": {},
     "output_type": "display_data"
    },
    {
     "name": "stderr",
     "output_type": "stream",
     "text": [
      "<ipython-input-362-925fd584528c>:28: RuntimeWarning: More than 20 figures have been opened. Figures created through the pyplot interface (`matplotlib.pyplot.figure`) are retained until explicitly closed and may consume too much memory. (To control this warning, see the rcParam `figure.max_open_warning`).\n",
      "  fig, ax = plt.subplots()\n"
     ]
    },
    {
     "data": {
      "application/vnd.jupyter.widget-view+json": {
       "model_id": "101758aeb66e45798e684d15e082449d",
       "version_major": 2,
       "version_minor": 0
      },
      "text/plain": [
       "Canvas(toolbar=Toolbar(toolitems=[('Home', 'Reset original view', 'home', 'home'), ('Back', 'Back to previous …"
      ]
     },
     "metadata": {},
     "output_type": "display_data"
    }
   ],
   "source": [
    "r16, Bnrj16, K16, times16 = energies(\"/home/aunai/phare_jobs/tests/conservation/run016\")\n",
    "plot_energies_abs(times16, Bnrj16, K16, t1, t2)\n",
    "plot_energies_rel(times16, Bnrj16, K16, t1, t2)"
   ]
  },
  {
   "cell_type": "markdown",
   "metadata": {
    "heading_collapsed": true
   },
   "source": [
    "## Effect of the time step"
   ]
  },
  {
   "cell_type": "code",
   "execution_count": 383,
   "metadata": {
    "ExecuteTime": {
     "end_time": "2021-03-02T14:45:28.825339Z",
     "start_time": "2021-03-02T14:45:28.793539Z"
    },
    "hidden": true
   },
   "outputs": [
    {
     "name": "stderr",
     "output_type": "stream",
     "text": [
      "<ipython-input-383-dd9c3b8d2157>:1: RuntimeWarning: More than 20 figures have been opened. Figures created through the pyplot interface (`matplotlib.pyplot.figure`) are retained until explicitly closed and may consume too much memory. (To control this warning, see the rcParam `figure.max_open_warning`).\n",
      "  fig, ax = plt.subplots()\n"
     ]
    },
    {
     "data": {
      "application/vnd.jupyter.widget-view+json": {
       "model_id": "882eabd9dd5d4554ac72b491eb87b65a",
       "version_major": 2,
       "version_minor": 0
      },
      "text/plain": [
       "Canvas(toolbar=Toolbar(toolitems=[('Home', 'Reset original view', 'home', 'home'), ('Back', 'Back to previous …"
      ]
     },
     "metadata": {},
     "output_type": "display_data"
    },
    {
     "data": {
      "text/plain": [
       "Text(0, 0.5, '$\\\\Delta K$ (%)')"
      ]
     },
     "execution_count": 383,
     "metadata": {},
     "output_type": "execute_result"
    }
   ],
   "source": [
    "fig, ax = plt.subplots()\n",
    "for times, K, dt in ((times4, K4, \"0.001\"),\n",
    "                     (times5, K5, \"0.0005\"),\n",
    "                     (times6, K6, \"0.002\")):\n",
    "    ax.plot(times, np.abs(K-K[0])/K[0]*100, label=dt)\n",
    "ax.legend()\n",
    "ax.set_title(\"kinetic energy evolution as a function of time for varying dt\")\n",
    "ax.set_xlabel(\"t\")\n",
    "ax.set_ylabel(r\"$\\Delta K$ (%)\")"
   ]
  },
  {
   "cell_type": "code",
   "execution_count": 324,
   "metadata": {
    "ExecuteTime": {
     "end_time": "2021-03-02T13:27:38.381926Z",
     "start_time": "2021-03-02T13:27:38.355638Z"
    },
    "hidden": true
   },
   "outputs": [
    {
     "name": "stderr",
     "output_type": "stream",
     "text": [
      "<ipython-input-324-41e1d918d834>:1: RuntimeWarning: More than 20 figures have been opened. Figures created through the pyplot interface (`matplotlib.pyplot.figure`) are retained until explicitly closed and may consume too much memory. (To control this warning, see the rcParam `figure.max_open_warning`).\n",
      "  fig, ax = plt.subplots()\n"
     ]
    },
    {
     "data": {
      "application/vnd.jupyter.widget-view+json": {
       "model_id": "3e12205f95394bf9b22a56e828f969a7",
       "version_major": 2,
       "version_minor": 0
      },
      "text/plain": [
       "Canvas(toolbar=Toolbar(toolitems=[('Home', 'Reset original view', 'home', 'home'), ('Back', 'Back to previous …"
      ]
     },
     "metadata": {},
     "output_type": "display_data"
    },
    {
     "data": {
      "text/plain": [
       "Text(0.5, 0, 't')"
      ]
     },
     "execution_count": 324,
     "metadata": {},
     "output_type": "execute_result"
    }
   ],
   "source": [
    "fig, ax = plt.subplots()\n",
    "for times, K, dt in ((times4, Bnrj4, \"0.001\"),\n",
    "                     (times5, Bnrj5, \"0.0005\"),\n",
    "                     (times6, Bnrj6, \"0.002\")):\n",
    "    ax.plot(times, K-K[0], label=dt)\n",
    "ax.legend()\n",
    "ax.set_title(\"magnetic energy evolution as a function of time for varying dt\")\n",
    "ax.set_xlabel(\"t\")"
   ]
  },
  {
   "cell_type": "markdown",
   "metadata": {
    "heading_collapsed": true
   },
   "source": [
    "## Effect of the interpolation order"
   ]
  },
  {
   "cell_type": "code",
   "execution_count": 375,
   "metadata": {
    "ExecuteTime": {
     "end_time": "2021-03-02T14:44:12.036542Z",
     "start_time": "2021-03-02T14:44:12.008879Z"
    },
    "hidden": true
   },
   "outputs": [
    {
     "name": "stderr",
     "output_type": "stream",
     "text": [
      "<ipython-input-375-1abaa0c97e6a>:1: RuntimeWarning: More than 20 figures have been opened. Figures created through the pyplot interface (`matplotlib.pyplot.figure`) are retained until explicitly closed and may consume too much memory. (To control this warning, see the rcParam `figure.max_open_warning`).\n",
      "  fig, ax = plt.subplots()\n"
     ]
    },
    {
     "data": {
      "application/vnd.jupyter.widget-view+json": {
       "model_id": "cc9644200c4843ffb00ca9372d32abc7",
       "version_major": 2,
       "version_minor": 0
      },
      "text/plain": [
       "Canvas(toolbar=Toolbar(toolitems=[('Home', 'Reset original view', 'home', 'home'), ('Back', 'Back to previous …"
      ]
     },
     "metadata": {},
     "output_type": "display_data"
    },
    {
     "data": {
      "text/plain": [
       "Text(0, 0.5, '$\\\\Delta K$ (%)')"
      ]
     },
     "execution_count": 375,
     "metadata": {},
     "output_type": "execute_result"
    }
   ],
   "source": [
    "fig, ax = plt.subplots()\n",
    "for times, K, interp in ((times7, K7, \"2\"),\n",
    "                     (times6, K6, \"1\"),\n",
    "                     (times8, K8, \"3\")   ):\n",
    "    ax.plot(times, np.abs(K-K[0])/K[0]*100, label=interp)\n",
    "ax.legend()\n",
    "ax.set_title(\"kinetic energy evolution as a function of time for varying interp order\")\n",
    "ax.set_xlabel(\"t\")\n",
    "ax.set_ylabel(r\"$\\Delta K$ (%)\")"
   ]
  },
  {
   "cell_type": "code",
   "execution_count": 376,
   "metadata": {
    "ExecuteTime": {
     "end_time": "2021-03-02T14:44:12.979593Z",
     "start_time": "2021-03-02T14:44:12.951158Z"
    },
    "hidden": true
   },
   "outputs": [
    {
     "name": "stderr",
     "output_type": "stream",
     "text": [
      "<ipython-input-376-b4f405789c79>:1: RuntimeWarning: More than 20 figures have been opened. Figures created through the pyplot interface (`matplotlib.pyplot.figure`) are retained until explicitly closed and may consume too much memory. (To control this warning, see the rcParam `figure.max_open_warning`).\n",
      "  fig, ax = plt.subplots()\n"
     ]
    },
    {
     "data": {
      "application/vnd.jupyter.widget-view+json": {
       "model_id": "2525d4343ce24459b088025392c8e0ed",
       "version_major": 2,
       "version_minor": 0
      },
      "text/plain": [
       "Canvas(toolbar=Toolbar(toolitems=[('Home', 'Reset original view', 'home', 'home'), ('Back', 'Back to previous …"
      ]
     },
     "metadata": {},
     "output_type": "display_data"
    },
    {
     "data": {
      "text/plain": [
       "Text(0, 0.5, '$\\\\Delta E_B$ (%)')"
      ]
     },
     "execution_count": 376,
     "metadata": {},
     "output_type": "execute_result"
    }
   ],
   "source": [
    "fig, ax = plt.subplots()\n",
    "for times, K, interp in ((times7, Bnrj7, \"2\"),\n",
    "                     (times6, Bnrj6, \"1\"),\n",
    "                     (times8, Bnrj8, \"3\")   ):\n",
    "    ax.plot(times, np.abs(K-K[0])/K[0]*100, label=interp)\n",
    "ax.legend()\n",
    "ax.set_title(\"Magnetic energy evolution as a function of time for varying interp order\")\n",
    "ax.set_xlabel(\"t\")\n",
    "ax.set_ylabel(r\"$\\Delta E_B$ (%)\")"
   ]
  },
  {
   "cell_type": "markdown",
   "metadata": {
    "heading_collapsed": true
   },
   "source": [
    "## Effect of the mesh size"
   ]
  },
  {
   "cell_type": "code",
   "execution_count": 387,
   "metadata": {
    "ExecuteTime": {
     "end_time": "2021-03-02T14:58:17.738791Z",
     "start_time": "2021-03-02T14:58:17.709946Z"
    },
    "hidden": true
   },
   "outputs": [
    {
     "name": "stderr",
     "output_type": "stream",
     "text": [
      "<ipython-input-387-e536260f50b2>:1: RuntimeWarning: More than 20 figures have been opened. Figures created through the pyplot interface (`matplotlib.pyplot.figure`) are retained until explicitly closed and may consume too much memory. (To control this warning, see the rcParam `figure.max_open_warning`).\n",
      "  fig, ax = plt.subplots()\n"
     ]
    },
    {
     "data": {
      "application/vnd.jupyter.widget-view+json": {
       "model_id": "3bcfd2dc59c340f49d6004c67ed28588",
       "version_major": 2,
       "version_minor": 0
      },
      "text/plain": [
       "Canvas(toolbar=Toolbar(toolitems=[('Home', 'Reset original view', 'home', 'home'), ('Back', 'Back to previous …"
      ]
     },
     "metadata": {},
     "output_type": "display_data"
    },
    {
     "data": {
      "text/plain": [
       "Text(0, 0.5, '$\\\\Delta K$ (%)')"
      ]
     },
     "execution_count": 387,
     "metadata": {},
     "output_type": "execute_result"
    }
   ],
   "source": [
    "fig, ax = plt.subplots()\n",
    "for times, K, interp in ((times9, K9, \"dx=0.1 (dt=0.0005)\"),\n",
    "                        (times6, K6, \"dx= 0.2 (dt=0.002)\"),\n",
    "                        (times5, K5, \"dx= 0.2 (dt=0.0005)\"),\n",
    "                        (times11, K11, \"dx=0.3 (dt=0.002)\")):\n",
    "    ax.plot(times, np.abs(K-K[0])/K[0]*100, label=interp)\n",
    "ax.legend()\n",
    "ax.set_title(\"kinetic energy evolution as a function of time for varying dx\")\n",
    "ax.set_xlabel(\"t\")\n",
    "ax.set_ylabel(r\"$\\Delta K$ (%)\")"
   ]
  },
  {
   "cell_type": "code",
   "execution_count": 388,
   "metadata": {
    "ExecuteTime": {
     "end_time": "2021-03-02T14:58:19.032152Z",
     "start_time": "2021-03-02T14:58:19.004283Z"
    },
    "hidden": true
   },
   "outputs": [
    {
     "name": "stderr",
     "output_type": "stream",
     "text": [
      "<ipython-input-388-6b1863b932aa>:1: RuntimeWarning: More than 20 figures have been opened. Figures created through the pyplot interface (`matplotlib.pyplot.figure`) are retained until explicitly closed and may consume too much memory. (To control this warning, see the rcParam `figure.max_open_warning`).\n",
      "  fig, ax = plt.subplots()\n"
     ]
    },
    {
     "data": {
      "application/vnd.jupyter.widget-view+json": {
       "model_id": "640dcdf1ae1544bbbac0cba638eeff57",
       "version_major": 2,
       "version_minor": 0
      },
      "text/plain": [
       "Canvas(toolbar=Toolbar(toolitems=[('Home', 'Reset original view', 'home', 'home'), ('Back', 'Back to previous …"
      ]
     },
     "metadata": {},
     "output_type": "display_data"
    },
    {
     "data": {
      "text/plain": [
       "Text(0, 0.5, '$\\\\Delta E_B$ (%)')"
      ]
     },
     "execution_count": 388,
     "metadata": {},
     "output_type": "execute_result"
    }
   ],
   "source": [
    "fig, ax = plt.subplots()\n",
    "for times, K, interp in ((times9, Bnrj9, \"dx=0.1 (dt=0.0005)\"),\n",
    "                        (times6, Bnrj6, \"dx= 0.2 (dt=0.002)\"),\n",
    "                        (times5, Bnrj5, \"dx= 0.2 (dt=0.0005)\")):\n",
    "    ax.plot(times, np.abs(K-K[0])/K[0]*100, label=interp)\n",
    "ax.legend()\n",
    "ax.set_title(\"Magnetic energy evolution as a function of time for varying dx\")\n",
    "ax.set_xlabel(\"t\")\n",
    "ax.set_ylabel(r\"$\\Delta E_B$ (%)\")"
   ]
  },
  {
   "cell_type": "markdown",
   "metadata": {
    "heading_collapsed": true
   },
   "source": [
    "## Effect of the thermal velocity"
   ]
  },
  {
   "cell_type": "code",
   "execution_count": 395,
   "metadata": {
    "ExecuteTime": {
     "end_time": "2021-03-02T15:18:13.571019Z",
     "start_time": "2021-03-02T15:18:13.541020Z"
    },
    "hidden": true
   },
   "outputs": [
    {
     "name": "stderr",
     "output_type": "stream",
     "text": [
      "<ipython-input-395-069e83d52c21>:1: RuntimeWarning: More than 20 figures have been opened. Figures created through the pyplot interface (`matplotlib.pyplot.figure`) are retained until explicitly closed and may consume too much memory. (To control this warning, see the rcParam `figure.max_open_warning`).\n",
      "  fig, ax = plt.subplots()\n"
     ]
    },
    {
     "data": {
      "application/vnd.jupyter.widget-view+json": {
       "model_id": "cca52141171645f6a3963ab6ed9b9c6e",
       "version_major": 2,
       "version_minor": 0
      },
      "text/plain": [
       "Canvas(toolbar=Toolbar(toolitems=[('Home', 'Reset original view', 'home', 'home'), ('Back', 'Back to previous …"
      ]
     },
     "metadata": {},
     "output_type": "display_data"
    }
   ],
   "source": [
    "fig, ax = plt.subplots()\n",
    "for times, K, interp in ((times6, K6, \"Vth=1\"),\n",
    "                        (times12, K12, \"Vth=0.3\"),\n",
    "                        (times13, K13, \"Vth=0.1\"),\n",
    "                        (times14, K14, \"Vth=2\"),\n",
    "                        (times15, K15, \"Vth=0.05\"),\n",
    "                        (times16, K16, \"Vth=0.01\")\n",
    "                        ):\n",
    "    ax.plot(times, np.abs(K-K[0])/K[0]*100, label=interp)\n",
    "ax.legend()\n",
    "ax.set_title(\"kinetic energy evolution as a function of time for varying Vth, dx=0.2\")\n",
    "ax.set_xlabel(\"t\")\n",
    "ax.set_ylabel(r\"$\\Delta K$ (%)\")\n",
    "ax.set_yscale(\"log\")"
   ]
  },
  {
   "cell_type": "code",
   "execution_count": null,
   "metadata": {
    "hidden": true
   },
   "outputs": [],
   "source": []
  }
 ],
 "metadata": {
  "kernelspec": {
   "display_name": "Python 3.8",
   "language": "python",
   "name": "python38"
  },
  "language_info": {
   "codemirror_mode": {
    "name": "ipython",
    "version": 3
   },
   "file_extension": ".py",
   "mimetype": "text/x-python",
   "name": "python",
   "nbconvert_exporter": "python",
   "pygments_lexer": "ipython3",
   "version": "3.8.5"
  },
  "varInspector": {
   "cols": {
    "lenName": 16,
    "lenType": 16,
    "lenVar": 40
   },
   "kernels_config": {
    "python": {
     "delete_cmd_postfix": "",
     "delete_cmd_prefix": "del ",
     "library": "var_list.py",
     "varRefreshCmd": "print(var_dic_list())"
    },
    "r": {
     "delete_cmd_postfix": ") ",
     "delete_cmd_prefix": "rm(",
     "library": "var_list.r",
     "varRefreshCmd": "cat(var_dic_list()) "
    }
   },
   "types_to_exclude": [
    "module",
    "function",
    "builtin_function_or_method",
    "instance",
    "_Feature"
   ],
   "window_display": false
  }
 },
 "nbformat": 4,
 "nbformat_minor": 4
}
