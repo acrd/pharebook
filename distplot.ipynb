{
 "cells": [
  {
   "cell_type": "markdown",
   "metadata": {},
   "source": [
    "# Plotting phase space\n",
    "\n"
   ]
  },
  {
   "cell_type": "code",
   "execution_count": 1,
   "metadata": {
    "ExecuteTime": {
     "end_time": "2021-03-12T13:27:11.635021Z",
     "start_time": "2021-03-12T13:27:11.615345Z"
    }
   },
   "outputs": [],
   "source": [
    "# some preliminary settings and functions\n",
    "\n",
    "import sys\n",
    "sys.path.append(\"/home/aunai/build_phare\")\n",
    "sys.path.append(\"/home/aunai/PHARE/pyphare/\")\n",
    "import os\n",
    "import numpy as np\n",
    "import pyphare\n",
    "from pyphare.pharesee.hierarchy import amr_grid, finest_part_data\n",
    "import pyphare.core.box as boxm\n",
    "import matplotlib.pyplot as plt\n",
    "from pyphare.pharesee.run import Run\n",
    "%matplotlib widget"
   ]
  },
  {
   "cell_type": "markdown",
   "metadata": {
    "ExecuteTime": {
     "end_time": "2021-03-05T09:24:43.087460Z",
     "start_time": "2021-03-05T09:24:43.040565Z"
    }
   },
   "source": [
    "## loading particles and visualizing the phase space"
   ]
  },
  {
   "cell_type": "code",
   "execution_count": 2,
   "metadata": {
    "ExecuteTime": {
     "end_time": "2021-03-12T13:27:16.161564Z",
     "start_time": "2021-03-12T13:27:16.093728Z"
    }
   },
   "outputs": [],
   "source": [
    "r2 = Run(\"/home/aunai/phare_jobs/tests/phase_space/run002/\")\n",
    "ions = r2.GetParticles(9.95, [\"protons\", \"beam\"])"
   ]
  },
  {
   "cell_type": "code",
   "execution_count": 3,
   "metadata": {},
   "outputs": [],
   "source": [
    "parts = finest_part_data(ions)"
   ]
  },
  {
   "cell_type": "code",
   "execution_count": 4,
   "metadata": {},
   "outputs": [
    {
     "data": {
      "text/plain": [
       "(0.0006172010675072671, 19.997860407829286)"
      ]
     },
     "execution_count": 4,
     "metadata": {},
     "output_type": "execute_result"
    }
   ],
   "source": [
    "parts[\"protons_domain\"].x.min(), parts[\"protons_domain\"].x.max()"
   ]
  },
  {
   "cell_type": "code",
   "execution_count": 5,
   "metadata": {},
   "outputs": [],
   "source": [
    "from pyphare.pharesee.plotting import dist_plot"
   ]
  },
  {
   "cell_type": "code",
   "execution_count": 6,
   "metadata": {},
   "outputs": [
    {
     "data": {
      "application/vnd.jupyter.widget-view+json": {
       "model_id": "9272479cf51947cf8c3b92d4b952b6ce",
       "version_major": 2,
       "version_minor": 0
      },
      "text/plain": [
       "Canvas(toolbar=Toolbar(toolitems=[('Home', 'Reset original view', 'home', 'home'), ('Back', 'Back to previous …"
      ]
     },
     "metadata": {},
     "output_type": "display_data"
    },
    {
     "name": "stderr",
     "output_type": "stream",
     "text": [
      "No handles with labels found to put in legend.\n"
     ]
    },
    {
     "data": {
      "text/plain": [
       "(<Figure size 640x480 with 2 Axes>,\n",
       " <matplotlib.axes._subplots.AxesSubplot at 0x7f1bd7f641f0>)"
      ]
     },
     "execution_count": 6,
     "metadata": {},
     "output_type": "execute_result"
    }
   ],
   "source": [
    "dist_plot(parts[\"protons_domain\"], axis=(\"x\", 'Vx'))"
   ]
  },
  {
   "cell_type": "code",
   "execution_count": 8,
   "metadata": {
    "ExecuteTime": {
     "end_time": "2021-03-12T13:30:05.224140Z",
     "start_time": "2021-03-12T13:30:05.185127Z"
    }
   },
   "outputs": [
    {
     "data": {
      "application/vnd.jupyter.widget-view+json": {
       "model_id": "e3e29e105ec54ad4a8374fb8a3461145",
       "version_major": 2,
       "version_minor": 0
      },
      "text/plain": [
       "Canvas(toolbar=Toolbar(toolitems=[('Home', 'Reset original view', 'home', 'home'), ('Back', 'Back to previous …"
      ]
     },
     "metadata": {},
     "output_type": "display_data"
    },
    {
     "name": "stderr",
     "output_type": "stream",
     "text": [
      "No handles with labels found to put in legend.\n"
     ]
    },
    {
     "data": {
      "text/plain": [
       "({'protons_domain': <pyphare.pharesee.particles.Particles at 0x7f1bd57ec370>,\n",
       "  'beam_domain': <pyphare.pharesee.particles.Particles at 0x7f1bd5793ee0>},\n",
       " (<Figure size 1000x400 with 2 Axes>,\n",
       "  <matplotlib.axes._subplots.AxesSubplot at 0x7f1bd591a190>))"
      ]
     },
     "execution_count": 8,
     "metadata": {},
     "output_type": "execute_result"
    }
   ],
   "source": [
    "fig, ax = plt.subplots(figsize=(10,4))\n",
    "ions.dist_plot(axis=(\"x\", \"Vx\"), # default [Vx,Vy]\n",
    "               ax=ax,            # default creates the figure\n",
    "               norm = 0.2,     # max value, min is 0\n",
    "               # finest=False,  # only consider finest particles possible\n",
    "               # levels=(0,)    # default is (0,), tuple of all levels to overplot\n",
    "               bulk=True,        # draw line(s) at mean vel. on vel. axis\n",
    "               xlim=(0,20),     # default takes full data range\n",
    "               #ylim=(-2,2),     # default takes full data range\n",
    "               #sigma = (1,1),   # gaussian filter 2D\n",
    "               #filename=myImage.png, # will save result in file\n",
    "               title=\"Two stream\", # figure title\n",
    "               #xlabel=\"my x label\", # default is name of chosen axis[0]\n",
    "               #ylabel= \"my y label\", # default is name of chosen axis[1]\n",
    "               # kde = True,     # default False, draws kernel density estimate contours               \n",
    "              )"
   ]
  },
  {
   "cell_type": "code",
   "execution_count": 27,
   "metadata": {
    "ExecuteTime": {
     "end_time": "2021-03-12T13:30:14.315586Z",
     "start_time": "2021-03-12T13:30:14.265222Z"
    }
   },
   "outputs": [
    {
     "data": {
      "application/vnd.jupyter.widget-view+json": {
       "model_id": "95500075ab264befa04d3f142854bf7b",
       "version_major": 2,
       "version_minor": 0
      },
      "text/plain": [
       "Canvas(toolbar=Toolbar(toolitems=[('Home', 'Reset original view', 'home', 'home'), ('Back', 'Back to previous …"
      ]
     },
     "metadata": {},
     "output_type": "display_data"
    },
    {
     "name": "stderr",
     "output_type": "stream",
     "text": [
      "No handles with labels found to put in legend.\n"
     ]
    },
    {
     "data": {
      "text/plain": [
       "({'protons_domain': <pyphare.pharesee.particles.Particles at 0x7fd65386b5b0>,\n",
       "  'beam_domain': <pyphare.pharesee.particles.Particles at 0x7fd6539cb9a0>},\n",
       " (<Figure size 1000x400 with 2 Axes>,\n",
       "  <matplotlib.axes._subplots.AxesSubplot at 0x7fd65388d310>))"
      ]
     },
     "execution_count": 27,
     "metadata": {},
     "output_type": "execute_result"
    }
   ],
   "source": [
    "fig, ax = plt.subplots(figsize=(10,4))\n",
    "ions.dist_plot(axis=(\"x\", \"Vx\"), # default [Vx,Vy]\n",
    "               ax=ax,            # default creates the figure\n",
    "               norm = 0.15,     # max value, min is 0\n",
    "               finest=True,     # only consider finest particles possible\n",
    "               # levels=(0,)    # default is (0,), tuple of all levels to overplot\n",
    "               bulk=True,        # draw line(s) at mean vel. on vel. axis\n",
    "               #xlim=(0,20),     # default takes full data range\n",
    "               #ylim=(-2,2),     # default takes full data range\n",
    "               #sigma = (1,1),   # gaussian filter 2D\n",
    "               #filename=myImage.png, # will save result in file\n",
    "               title=\"Two stream\", # figure title\n",
    "               #xlabel=\"my x label\", # default is name of chosen axis[0]\n",
    "               #ylabel= \"my y label\", # default is name of chosen axis[1]\n",
    "               # kde = True,     # default False, draws kernel density estimate contours               \n",
    "              )"
   ]
  },
  {
   "cell_type": "code",
   "execution_count": 7,
   "metadata": {},
   "outputs": [],
   "source": [
    "particles = finest_part_data(ions)"
   ]
  },
  {
   "cell_type": "code",
   "execution_count": 10,
   "metadata": {
    "ExecuteTime": {
     "end_time": "2021-03-12T14:12:17.609135Z",
     "start_time": "2021-03-12T14:12:17.602767Z"
    }
   },
   "outputs": [],
   "source": [
    "h,xf = np.histogram(particles[\"protons_domain\"].x, bins=50,#amr_grid(ions, 9.95),\n",
    "                   weights=particles[\"protons_domain\"].weights/particles[\"protons_domain\"].dl[:,0])"
   ]
  },
  {
   "cell_type": "code",
   "execution_count": 11,
   "metadata": {
    "ExecuteTime": {
     "end_time": "2021-03-12T14:12:18.248288Z",
     "start_time": "2021-03-12T14:12:18.051813Z"
    }
   },
   "outputs": [
    {
     "data": {
      "application/vnd.jupyter.widget-view+json": {
       "model_id": "53d80f09d0d447b8b80c4c444ac26d77",
       "version_major": 2,
       "version_minor": 0
      },
      "text/plain": [
       "Canvas(toolbar=Toolbar(toolitems=[('Home', 'Reset original view', 'home', 'home'), ('Back', 'Back to previous …"
      ]
     },
     "metadata": {},
     "output_type": "display_data"
    },
    {
     "data": {
      "text/plain": [
       "[<matplotlib.lines.Line2D at 0x7fd653f08430>]"
      ]
     },
     "execution_count": 11,
     "metadata": {},
     "output_type": "execute_result"
    }
   ],
   "source": [
    "plt.figure()\n",
    "plt.plot(0.5*(xf[1:]+xf[:-1]),h/1+0*np.diff(xf))"
   ]
  },
  {
   "cell_type": "code",
   "execution_count": 18,
   "metadata": {
    "ExecuteTime": {
     "end_time": "2021-03-11T15:45:50.785615Z",
     "start_time": "2021-03-11T15:45:50.759976Z"
    }
   },
   "outputs": [
    {
     "data": {
      "application/javascript": [
       "/* Put everything inside the global mpl namespace */\n",
       "window.mpl = {};\n",
       "\n",
       "\n",
       "mpl.get_websocket_type = function() {\n",
       "    if (typeof(WebSocket) !== 'undefined') {\n",
       "        return WebSocket;\n",
       "    } else if (typeof(MozWebSocket) !== 'undefined') {\n",
       "        return MozWebSocket;\n",
       "    } else {\n",
       "        alert('Your browser does not have WebSocket support. ' +\n",
       "              'Please try Chrome, Safari or Firefox ≥ 6. ' +\n",
       "              'Firefox 4 and 5 are also supported but you ' +\n",
       "              'have to enable WebSockets in about:config.');\n",
       "    };\n",
       "}\n",
       "\n",
       "mpl.figure = function(figure_id, websocket, ondownload, parent_element) {\n",
       "    this.id = figure_id;\n",
       "\n",
       "    this.ws = websocket;\n",
       "\n",
       "    this.supports_binary = (this.ws.binaryType != undefined);\n",
       "\n",
       "    if (!this.supports_binary) {\n",
       "        var warnings = document.getElementById(\"mpl-warnings\");\n",
       "        if (warnings) {\n",
       "            warnings.style.display = 'block';\n",
       "            warnings.textContent = (\n",
       "                \"This browser does not support binary websocket messages. \" +\n",
       "                    \"Performance may be slow.\");\n",
       "        }\n",
       "    }\n",
       "\n",
       "    this.imageObj = new Image();\n",
       "\n",
       "    this.context = undefined;\n",
       "    this.message = undefined;\n",
       "    this.canvas = undefined;\n",
       "    this.rubberband_canvas = undefined;\n",
       "    this.rubberband_context = undefined;\n",
       "    this.format_dropdown = undefined;\n",
       "\n",
       "    this.image_mode = 'full';\n",
       "\n",
       "    this.root = $('<div/>');\n",
       "    this._root_extra_style(this.root)\n",
       "    this.root.attr('style', 'display: inline-block');\n",
       "\n",
       "    $(parent_element).append(this.root);\n",
       "\n",
       "    this._init_header(this);\n",
       "    this._init_canvas(this);\n",
       "    this._init_toolbar(this);\n",
       "\n",
       "    var fig = this;\n",
       "\n",
       "    this.waiting = false;\n",
       "\n",
       "    this.ws.onopen =  function () {\n",
       "            fig.send_message(\"supports_binary\", {value: fig.supports_binary});\n",
       "            fig.send_message(\"send_image_mode\", {});\n",
       "            if (mpl.ratio != 1) {\n",
       "                fig.send_message(\"set_dpi_ratio\", {'dpi_ratio': mpl.ratio});\n",
       "            }\n",
       "            fig.send_message(\"refresh\", {});\n",
       "        }\n",
       "\n",
       "    this.imageObj.onload = function() {\n",
       "            if (fig.image_mode == 'full') {\n",
       "                // Full images could contain transparency (where diff images\n",
       "                // almost always do), so we need to clear the canvas so that\n",
       "                // there is no ghosting.\n",
       "                fig.context.clearRect(0, 0, fig.canvas.width, fig.canvas.height);\n",
       "            }\n",
       "            fig.context.drawImage(fig.imageObj, 0, 0);\n",
       "        };\n",
       "\n",
       "    this.imageObj.onunload = function() {\n",
       "        fig.ws.close();\n",
       "    }\n",
       "\n",
       "    this.ws.onmessage = this._make_on_message_function(this);\n",
       "\n",
       "    this.ondownload = ondownload;\n",
       "}\n",
       "\n",
       "mpl.figure.prototype._init_header = function() {\n",
       "    var titlebar = $(\n",
       "        '<div class=\"ui-dialog-titlebar ui-widget-header ui-corner-all ' +\n",
       "        'ui-helper-clearfix\"/>');\n",
       "    var titletext = $(\n",
       "        '<div class=\"ui-dialog-title\" style=\"width: 100%; ' +\n",
       "        'text-align: center; padding: 3px;\"/>');\n",
       "    titlebar.append(titletext)\n",
       "    this.root.append(titlebar);\n",
       "    this.header = titletext[0];\n",
       "}\n",
       "\n",
       "\n",
       "\n",
       "mpl.figure.prototype._canvas_extra_style = function(canvas_div) {\n",
       "\n",
       "}\n",
       "\n",
       "\n",
       "mpl.figure.prototype._root_extra_style = function(canvas_div) {\n",
       "\n",
       "}\n",
       "\n",
       "mpl.figure.prototype._init_canvas = function() {\n",
       "    var fig = this;\n",
       "\n",
       "    var canvas_div = $('<div/>');\n",
       "\n",
       "    canvas_div.attr('style', 'position: relative; clear: both; outline: 0');\n",
       "\n",
       "    function canvas_keyboard_event(event) {\n",
       "        return fig.key_event(event, event['data']);\n",
       "    }\n",
       "\n",
       "    canvas_div.keydown('key_press', canvas_keyboard_event);\n",
       "    canvas_div.keyup('key_release', canvas_keyboard_event);\n",
       "    this.canvas_div = canvas_div\n",
       "    this._canvas_extra_style(canvas_div)\n",
       "    this.root.append(canvas_div);\n",
       "\n",
       "    var canvas = $('<canvas/>');\n",
       "    canvas.addClass('mpl-canvas');\n",
       "    canvas.attr('style', \"left: 0; top: 0; z-index: 0; outline: 0\")\n",
       "\n",
       "    this.canvas = canvas[0];\n",
       "    this.context = canvas[0].getContext(\"2d\");\n",
       "\n",
       "    var backingStore = this.context.backingStorePixelRatio ||\n",
       "\tthis.context.webkitBackingStorePixelRatio ||\n",
       "\tthis.context.mozBackingStorePixelRatio ||\n",
       "\tthis.context.msBackingStorePixelRatio ||\n",
       "\tthis.context.oBackingStorePixelRatio ||\n",
       "\tthis.context.backingStorePixelRatio || 1;\n",
       "\n",
       "    mpl.ratio = (window.devicePixelRatio || 1) / backingStore;\n",
       "\n",
       "    var rubberband = $('<canvas/>');\n",
       "    rubberband.attr('style', \"position: absolute; left: 0; top: 0; z-index: 1;\")\n",
       "\n",
       "    var pass_mouse_events = true;\n",
       "\n",
       "    canvas_div.resizable({\n",
       "        start: function(event, ui) {\n",
       "            pass_mouse_events = false;\n",
       "        },\n",
       "        resize: function(event, ui) {\n",
       "            fig.request_resize(ui.size.width, ui.size.height);\n",
       "        },\n",
       "        stop: function(event, ui) {\n",
       "            pass_mouse_events = true;\n",
       "            fig.request_resize(ui.size.width, ui.size.height);\n",
       "        },\n",
       "    });\n",
       "\n",
       "    function mouse_event_fn(event) {\n",
       "        if (pass_mouse_events)\n",
       "            return fig.mouse_event(event, event['data']);\n",
       "    }\n",
       "\n",
       "    rubberband.mousedown('button_press', mouse_event_fn);\n",
       "    rubberband.mouseup('button_release', mouse_event_fn);\n",
       "    // Throttle sequential mouse events to 1 every 20ms.\n",
       "    rubberband.mousemove('motion_notify', mouse_event_fn);\n",
       "\n",
       "    rubberband.mouseenter('figure_enter', mouse_event_fn);\n",
       "    rubberband.mouseleave('figure_leave', mouse_event_fn);\n",
       "\n",
       "    canvas_div.on(\"wheel\", function (event) {\n",
       "        event = event.originalEvent;\n",
       "        event['data'] = 'scroll'\n",
       "        if (event.deltaY < 0) {\n",
       "            event.step = 1;\n",
       "        } else {\n",
       "            event.step = -1;\n",
       "        }\n",
       "        mouse_event_fn(event);\n",
       "    });\n",
       "\n",
       "    canvas_div.append(canvas);\n",
       "    canvas_div.append(rubberband);\n",
       "\n",
       "    this.rubberband = rubberband;\n",
       "    this.rubberband_canvas = rubberband[0];\n",
       "    this.rubberband_context = rubberband[0].getContext(\"2d\");\n",
       "    this.rubberband_context.strokeStyle = \"#000000\";\n",
       "\n",
       "    this._resize_canvas = function(width, height) {\n",
       "        // Keep the size of the canvas, canvas container, and rubber band\n",
       "        // canvas in synch.\n",
       "        canvas_div.css('width', width)\n",
       "        canvas_div.css('height', height)\n",
       "\n",
       "        canvas.attr('width', width * mpl.ratio);\n",
       "        canvas.attr('height', height * mpl.ratio);\n",
       "        canvas.attr('style', 'width: ' + width + 'px; height: ' + height + 'px;');\n",
       "\n",
       "        rubberband.attr('width', width);\n",
       "        rubberband.attr('height', height);\n",
       "    }\n",
       "\n",
       "    // Set the figure to an initial 600x600px, this will subsequently be updated\n",
       "    // upon first draw.\n",
       "    this._resize_canvas(600, 600);\n",
       "\n",
       "    // Disable right mouse context menu.\n",
       "    $(this.rubberband_canvas).bind(\"contextmenu\",function(e){\n",
       "        return false;\n",
       "    });\n",
       "\n",
       "    function set_focus () {\n",
       "        canvas.focus();\n",
       "        canvas_div.focus();\n",
       "    }\n",
       "\n",
       "    window.setTimeout(set_focus, 100);\n",
       "}\n",
       "\n",
       "mpl.figure.prototype._init_toolbar = function() {\n",
       "    var fig = this;\n",
       "\n",
       "    var nav_element = $('<div/>');\n",
       "    nav_element.attr('style', 'width: 100%');\n",
       "    this.root.append(nav_element);\n",
       "\n",
       "    // Define a callback function for later on.\n",
       "    function toolbar_event(event) {\n",
       "        return fig.toolbar_button_onclick(event['data']);\n",
       "    }\n",
       "    function toolbar_mouse_event(event) {\n",
       "        return fig.toolbar_button_onmouseover(event['data']);\n",
       "    }\n",
       "\n",
       "    for(var toolbar_ind in mpl.toolbar_items) {\n",
       "        var name = mpl.toolbar_items[toolbar_ind][0];\n",
       "        var tooltip = mpl.toolbar_items[toolbar_ind][1];\n",
       "        var image = mpl.toolbar_items[toolbar_ind][2];\n",
       "        var method_name = mpl.toolbar_items[toolbar_ind][3];\n",
       "\n",
       "        if (!name) {\n",
       "            // put a spacer in here.\n",
       "            continue;\n",
       "        }\n",
       "        var button = $('<button/>');\n",
       "        button.addClass('ui-button ui-widget ui-state-default ui-corner-all ' +\n",
       "                        'ui-button-icon-only');\n",
       "        button.attr('role', 'button');\n",
       "        button.attr('aria-disabled', 'false');\n",
       "        button.click(method_name, toolbar_event);\n",
       "        button.mouseover(tooltip, toolbar_mouse_event);\n",
       "\n",
       "        var icon_img = $('<span/>');\n",
       "        icon_img.addClass('ui-button-icon-primary ui-icon');\n",
       "        icon_img.addClass(image);\n",
       "        icon_img.addClass('ui-corner-all');\n",
       "\n",
       "        var tooltip_span = $('<span/>');\n",
       "        tooltip_span.addClass('ui-button-text');\n",
       "        tooltip_span.html(tooltip);\n",
       "\n",
       "        button.append(icon_img);\n",
       "        button.append(tooltip_span);\n",
       "\n",
       "        nav_element.append(button);\n",
       "    }\n",
       "\n",
       "    var fmt_picker_span = $('<span/>');\n",
       "\n",
       "    var fmt_picker = $('<select/>');\n",
       "    fmt_picker.addClass('mpl-toolbar-option ui-widget ui-widget-content');\n",
       "    fmt_picker_span.append(fmt_picker);\n",
       "    nav_element.append(fmt_picker_span);\n",
       "    this.format_dropdown = fmt_picker[0];\n",
       "\n",
       "    for (var ind in mpl.extensions) {\n",
       "        var fmt = mpl.extensions[ind];\n",
       "        var option = $(\n",
       "            '<option/>', {selected: fmt === mpl.default_extension}).html(fmt);\n",
       "        fmt_picker.append(option);\n",
       "    }\n",
       "\n",
       "    // Add hover states to the ui-buttons\n",
       "    $( \".ui-button\" ).hover(\n",
       "        function() { $(this).addClass(\"ui-state-hover\");},\n",
       "        function() { $(this).removeClass(\"ui-state-hover\");}\n",
       "    );\n",
       "\n",
       "    var status_bar = $('<span class=\"mpl-message\"/>');\n",
       "    nav_element.append(status_bar);\n",
       "    this.message = status_bar[0];\n",
       "}\n",
       "\n",
       "mpl.figure.prototype.request_resize = function(x_pixels, y_pixels) {\n",
       "    // Request matplotlib to resize the figure. Matplotlib will then trigger a resize in the client,\n",
       "    // which will in turn request a refresh of the image.\n",
       "    this.send_message('resize', {'width': x_pixels, 'height': y_pixels});\n",
       "}\n",
       "\n",
       "mpl.figure.prototype.send_message = function(type, properties) {\n",
       "    properties['type'] = type;\n",
       "    properties['figure_id'] = this.id;\n",
       "    this.ws.send(JSON.stringify(properties));\n",
       "}\n",
       "\n",
       "mpl.figure.prototype.send_draw_message = function() {\n",
       "    if (!this.waiting) {\n",
       "        this.waiting = true;\n",
       "        this.ws.send(JSON.stringify({type: \"draw\", figure_id: this.id}));\n",
       "    }\n",
       "}\n",
       "\n",
       "\n",
       "mpl.figure.prototype.handle_save = function(fig, msg) {\n",
       "    var format_dropdown = fig.format_dropdown;\n",
       "    var format = format_dropdown.options[format_dropdown.selectedIndex].value;\n",
       "    fig.ondownload(fig, format);\n",
       "}\n",
       "\n",
       "\n",
       "mpl.figure.prototype.handle_resize = function(fig, msg) {\n",
       "    var size = msg['size'];\n",
       "    if (size[0] != fig.canvas.width || size[1] != fig.canvas.height) {\n",
       "        fig._resize_canvas(size[0], size[1]);\n",
       "        fig.send_message(\"refresh\", {});\n",
       "    };\n",
       "}\n",
       "\n",
       "mpl.figure.prototype.handle_rubberband = function(fig, msg) {\n",
       "    var x0 = msg['x0'] / mpl.ratio;\n",
       "    var y0 = (fig.canvas.height - msg['y0']) / mpl.ratio;\n",
       "    var x1 = msg['x1'] / mpl.ratio;\n",
       "    var y1 = (fig.canvas.height - msg['y1']) / mpl.ratio;\n",
       "    x0 = Math.floor(x0) + 0.5;\n",
       "    y0 = Math.floor(y0) + 0.5;\n",
       "    x1 = Math.floor(x1) + 0.5;\n",
       "    y1 = Math.floor(y1) + 0.5;\n",
       "    var min_x = Math.min(x0, x1);\n",
       "    var min_y = Math.min(y0, y1);\n",
       "    var width = Math.abs(x1 - x0);\n",
       "    var height = Math.abs(y1 - y0);\n",
       "\n",
       "    fig.rubberband_context.clearRect(\n",
       "        0, 0, fig.canvas.width / mpl.ratio, fig.canvas.height / mpl.ratio);\n",
       "\n",
       "    fig.rubberband_context.strokeRect(min_x, min_y, width, height);\n",
       "}\n",
       "\n",
       "mpl.figure.prototype.handle_figure_label = function(fig, msg) {\n",
       "    // Updates the figure title.\n",
       "    fig.header.textContent = msg['label'];\n",
       "}\n",
       "\n",
       "mpl.figure.prototype.handle_cursor = function(fig, msg) {\n",
       "    var cursor = msg['cursor'];\n",
       "    switch(cursor)\n",
       "    {\n",
       "    case 0:\n",
       "        cursor = 'pointer';\n",
       "        break;\n",
       "    case 1:\n",
       "        cursor = 'default';\n",
       "        break;\n",
       "    case 2:\n",
       "        cursor = 'crosshair';\n",
       "        break;\n",
       "    case 3:\n",
       "        cursor = 'move';\n",
       "        break;\n",
       "    }\n",
       "    fig.rubberband_canvas.style.cursor = cursor;\n",
       "}\n",
       "\n",
       "mpl.figure.prototype.handle_message = function(fig, msg) {\n",
       "    fig.message.textContent = msg['message'];\n",
       "}\n",
       "\n",
       "mpl.figure.prototype.handle_draw = function(fig, msg) {\n",
       "    // Request the server to send over a new figure.\n",
       "    fig.send_draw_message();\n",
       "}\n",
       "\n",
       "mpl.figure.prototype.handle_image_mode = function(fig, msg) {\n",
       "    fig.image_mode = msg['mode'];\n",
       "}\n",
       "\n",
       "mpl.figure.prototype.updated_canvas_event = function() {\n",
       "    // Called whenever the canvas gets updated.\n",
       "    this.send_message(\"ack\", {});\n",
       "}\n",
       "\n",
       "// A function to construct a web socket function for onmessage handling.\n",
       "// Called in the figure constructor.\n",
       "mpl.figure.prototype._make_on_message_function = function(fig) {\n",
       "    return function socket_on_message(evt) {\n",
       "        if (evt.data instanceof Blob) {\n",
       "            /* FIXME: We get \"Resource interpreted as Image but\n",
       "             * transferred with MIME type text/plain:\" errors on\n",
       "             * Chrome.  But how to set the MIME type?  It doesn't seem\n",
       "             * to be part of the websocket stream */\n",
       "            evt.data.type = \"image/png\";\n",
       "\n",
       "            /* Free the memory for the previous frames */\n",
       "            if (fig.imageObj.src) {\n",
       "                (window.URL || window.webkitURL).revokeObjectURL(\n",
       "                    fig.imageObj.src);\n",
       "            }\n",
       "\n",
       "            fig.imageObj.src = (window.URL || window.webkitURL).createObjectURL(\n",
       "                evt.data);\n",
       "            fig.updated_canvas_event();\n",
       "            fig.waiting = false;\n",
       "            return;\n",
       "        }\n",
       "        else if (typeof evt.data === 'string' && evt.data.slice(0, 21) == \"data:image/png;base64\") {\n",
       "            fig.imageObj.src = evt.data;\n",
       "            fig.updated_canvas_event();\n",
       "            fig.waiting = false;\n",
       "            return;\n",
       "        }\n",
       "\n",
       "        var msg = JSON.parse(evt.data);\n",
       "        var msg_type = msg['type'];\n",
       "\n",
       "        // Call the  \"handle_{type}\" callback, which takes\n",
       "        // the figure and JSON message as its only arguments.\n",
       "        try {\n",
       "            var callback = fig[\"handle_\" + msg_type];\n",
       "        } catch (e) {\n",
       "            console.log(\"No handler for the '\" + msg_type + \"' message type: \", msg);\n",
       "            return;\n",
       "        }\n",
       "\n",
       "        if (callback) {\n",
       "            try {\n",
       "                // console.log(\"Handling '\" + msg_type + \"' message: \", msg);\n",
       "                callback(fig, msg);\n",
       "            } catch (e) {\n",
       "                console.log(\"Exception inside the 'handler_\" + msg_type + \"' callback:\", e, e.stack, msg);\n",
       "            }\n",
       "        }\n",
       "    };\n",
       "}\n",
       "\n",
       "// from http://stackoverflow.com/questions/1114465/getting-mouse-location-in-canvas\n",
       "mpl.findpos = function(e) {\n",
       "    //this section is from http://www.quirksmode.org/js/events_properties.html\n",
       "    var targ;\n",
       "    if (!e)\n",
       "        e = window.event;\n",
       "    if (e.target)\n",
       "        targ = e.target;\n",
       "    else if (e.srcElement)\n",
       "        targ = e.srcElement;\n",
       "    if (targ.nodeType == 3) // defeat Safari bug\n",
       "        targ = targ.parentNode;\n",
       "\n",
       "    // jQuery normalizes the pageX and pageY\n",
       "    // pageX,Y are the mouse positions relative to the document\n",
       "    // offset() returns the position of the element relative to the document\n",
       "    var x = e.pageX - $(targ).offset().left;\n",
       "    var y = e.pageY - $(targ).offset().top;\n",
       "\n",
       "    return {\"x\": x, \"y\": y};\n",
       "};\n",
       "\n",
       "/*\n",
       " * return a copy of an object with only non-object keys\n",
       " * we need this to avoid circular references\n",
       " * http://stackoverflow.com/a/24161582/3208463\n",
       " */\n",
       "function simpleKeys (original) {\n",
       "  return Object.keys(original).reduce(function (obj, key) {\n",
       "    if (typeof original[key] !== 'object')\n",
       "        obj[key] = original[key]\n",
       "    return obj;\n",
       "  }, {});\n",
       "}\n",
       "\n",
       "mpl.figure.prototype.mouse_event = function(event, name) {\n",
       "    var canvas_pos = mpl.findpos(event)\n",
       "\n",
       "    if (name === 'button_press')\n",
       "    {\n",
       "        this.canvas.focus();\n",
       "        this.canvas_div.focus();\n",
       "    }\n",
       "\n",
       "    var x = canvas_pos.x * mpl.ratio;\n",
       "    var y = canvas_pos.y * mpl.ratio;\n",
       "\n",
       "    this.send_message(name, {x: x, y: y, button: event.button,\n",
       "                             step: event.step,\n",
       "                             guiEvent: simpleKeys(event)});\n",
       "\n",
       "    /* This prevents the web browser from automatically changing to\n",
       "     * the text insertion cursor when the button is pressed.  We want\n",
       "     * to control all of the cursor setting manually through the\n",
       "     * 'cursor' event from matplotlib */\n",
       "    event.preventDefault();\n",
       "    return false;\n",
       "}\n",
       "\n",
       "mpl.figure.prototype._key_event_extra = function(event, name) {\n",
       "    // Handle any extra behaviour associated with a key event\n",
       "}\n",
       "\n",
       "mpl.figure.prototype.key_event = function(event, name) {\n",
       "\n",
       "    // Prevent repeat events\n",
       "    if (name == 'key_press')\n",
       "    {\n",
       "        if (event.which === this._key)\n",
       "            return;\n",
       "        else\n",
       "            this._key = event.which;\n",
       "    }\n",
       "    if (name == 'key_release')\n",
       "        this._key = null;\n",
       "\n",
       "    var value = '';\n",
       "    if (event.ctrlKey && event.which != 17)\n",
       "        value += \"ctrl+\";\n",
       "    if (event.altKey && event.which != 18)\n",
       "        value += \"alt+\";\n",
       "    if (event.shiftKey && event.which != 16)\n",
       "        value += \"shift+\";\n",
       "\n",
       "    value += 'k';\n",
       "    value += event.which.toString();\n",
       "\n",
       "    this._key_event_extra(event, name);\n",
       "\n",
       "    this.send_message(name, {key: value,\n",
       "                             guiEvent: simpleKeys(event)});\n",
       "    return false;\n",
       "}\n",
       "\n",
       "mpl.figure.prototype.toolbar_button_onclick = function(name) {\n",
       "    if (name == 'download') {\n",
       "        this.handle_save(this, null);\n",
       "    } else {\n",
       "        this.send_message(\"toolbar_button\", {name: name});\n",
       "    }\n",
       "};\n",
       "\n",
       "mpl.figure.prototype.toolbar_button_onmouseover = function(tooltip) {\n",
       "    this.message.textContent = tooltip;\n",
       "};\n",
       "mpl.toolbar_items = [[\"Home\", \"Reset original view\", \"fa fa-home icon-home\", \"home\"], [\"Back\", \"Back to previous view\", \"fa fa-arrow-left icon-arrow-left\", \"back\"], [\"Forward\", \"Forward to next view\", \"fa fa-arrow-right icon-arrow-right\", \"forward\"], [\"\", \"\", \"\", \"\"], [\"Pan\", \"Pan axes with left mouse, zoom with right\", \"fa fa-arrows icon-move\", \"pan\"], [\"Zoom\", \"Zoom to rectangle\", \"fa fa-square-o icon-check-empty\", \"zoom\"], [\"\", \"\", \"\", \"\"], [\"Download\", \"Download plot\", \"fa fa-floppy-o icon-save\", \"download\"]];\n",
       "\n",
       "mpl.extensions = [\"eps\", \"jpeg\", \"pdf\", \"png\", \"ps\", \"raw\", \"svg\", \"tif\"];\n",
       "\n",
       "mpl.default_extension = \"png\";var comm_websocket_adapter = function(comm) {\n",
       "    // Create a \"websocket\"-like object which calls the given IPython comm\n",
       "    // object with the appropriate methods. Currently this is a non binary\n",
       "    // socket, so there is still some room for performance tuning.\n",
       "    var ws = {};\n",
       "\n",
       "    ws.close = function() {\n",
       "        comm.close()\n",
       "    };\n",
       "    ws.send = function(m) {\n",
       "        //console.log('sending', m);\n",
       "        comm.send(m);\n",
       "    };\n",
       "    // Register the callback with on_msg.\n",
       "    comm.on_msg(function(msg) {\n",
       "        //console.log('receiving', msg['content']['data'], msg);\n",
       "        // Pass the mpl event to the overridden (by mpl) onmessage function.\n",
       "        ws.onmessage(msg['content']['data'])\n",
       "    });\n",
       "    return ws;\n",
       "}\n",
       "\n",
       "mpl.mpl_figure_comm = function(comm, msg) {\n",
       "    // This is the function which gets called when the mpl process\n",
       "    // starts-up an IPython Comm through the \"matplotlib\" channel.\n",
       "\n",
       "    var id = msg.content.data.id;\n",
       "    // Get hold of the div created by the display call when the Comm\n",
       "    // socket was opened in Python.\n",
       "    var element = $(\"#\" + id);\n",
       "    var ws_proxy = comm_websocket_adapter(comm)\n",
       "\n",
       "    function ondownload(figure, format) {\n",
       "        window.open(figure.imageObj.src);\n",
       "    }\n",
       "\n",
       "    var fig = new mpl.figure(id, ws_proxy,\n",
       "                           ondownload,\n",
       "                           element.get(0));\n",
       "\n",
       "    // Call onopen now - mpl needs it, as it is assuming we've passed it a real\n",
       "    // web socket which is closed, not our websocket->open comm proxy.\n",
       "    ws_proxy.onopen();\n",
       "\n",
       "    fig.parent_element = element.get(0);\n",
       "    fig.cell_info = mpl.find_output_cell(\"<div id='\" + id + \"'></div>\");\n",
       "    if (!fig.cell_info) {\n",
       "        console.error(\"Failed to find cell for figure\", id, fig);\n",
       "        return;\n",
       "    }\n",
       "\n",
       "    var output_index = fig.cell_info[2]\n",
       "    var cell = fig.cell_info[0];\n",
       "\n",
       "};\n",
       "\n",
       "mpl.figure.prototype.handle_close = function(fig, msg) {\n",
       "    var width = fig.canvas.width/mpl.ratio\n",
       "    fig.root.unbind('remove')\n",
       "\n",
       "    // Update the output cell to use the data from the current canvas.\n",
       "    fig.push_to_output();\n",
       "    var dataURL = fig.canvas.toDataURL();\n",
       "    // Re-enable the keyboard manager in IPython - without this line, in FF,\n",
       "    // the notebook keyboard shortcuts fail.\n",
       "    IPython.keyboard_manager.enable()\n",
       "    $(fig.parent_element).html('<img src=\"' + dataURL + '\" width=\"' + width + '\">');\n",
       "    fig.close_ws(fig, msg);\n",
       "}\n",
       "\n",
       "mpl.figure.prototype.close_ws = function(fig, msg){\n",
       "    fig.send_message('closing', msg);\n",
       "    // fig.ws.close()\n",
       "}\n",
       "\n",
       "mpl.figure.prototype.push_to_output = function(remove_interactive) {\n",
       "    // Turn the data on the canvas into data in the output cell.\n",
       "    var width = this.canvas.width/mpl.ratio\n",
       "    var dataURL = this.canvas.toDataURL();\n",
       "    this.cell_info[1]['text/html'] = '<img src=\"' + dataURL + '\" width=\"' + width + '\">';\n",
       "}\n",
       "\n",
       "mpl.figure.prototype.updated_canvas_event = function() {\n",
       "    // Tell IPython that the notebook contents must change.\n",
       "    IPython.notebook.set_dirty(true);\n",
       "    this.send_message(\"ack\", {});\n",
       "    var fig = this;\n",
       "    // Wait a second, then push the new image to the DOM so\n",
       "    // that it is saved nicely (might be nice to debounce this).\n",
       "    setTimeout(function () { fig.push_to_output() }, 1000);\n",
       "}\n",
       "\n",
       "mpl.figure.prototype._init_toolbar = function() {\n",
       "    var fig = this;\n",
       "\n",
       "    var nav_element = $('<div/>');\n",
       "    nav_element.attr('style', 'width: 100%');\n",
       "    this.root.append(nav_element);\n",
       "\n",
       "    // Define a callback function for later on.\n",
       "    function toolbar_event(event) {\n",
       "        return fig.toolbar_button_onclick(event['data']);\n",
       "    }\n",
       "    function toolbar_mouse_event(event) {\n",
       "        return fig.toolbar_button_onmouseover(event['data']);\n",
       "    }\n",
       "\n",
       "    for(var toolbar_ind in mpl.toolbar_items){\n",
       "        var name = mpl.toolbar_items[toolbar_ind][0];\n",
       "        var tooltip = mpl.toolbar_items[toolbar_ind][1];\n",
       "        var image = mpl.toolbar_items[toolbar_ind][2];\n",
       "        var method_name = mpl.toolbar_items[toolbar_ind][3];\n",
       "\n",
       "        if (!name) { continue; };\n",
       "\n",
       "        var button = $('<button class=\"btn btn-default\" href=\"#\" title=\"' + name + '\"><i class=\"fa ' + image + ' fa-lg\"></i></button>');\n",
       "        button.click(method_name, toolbar_event);\n",
       "        button.mouseover(tooltip, toolbar_mouse_event);\n",
       "        nav_element.append(button);\n",
       "    }\n",
       "\n",
       "    // Add the status bar.\n",
       "    var status_bar = $('<span class=\"mpl-message\" style=\"text-align:right; float: right;\"/>');\n",
       "    nav_element.append(status_bar);\n",
       "    this.message = status_bar[0];\n",
       "\n",
       "    // Add the close button to the window.\n",
       "    var buttongrp = $('<div class=\"btn-group inline pull-right\"></div>');\n",
       "    var button = $('<button class=\"btn btn-mini btn-primary\" href=\"#\" title=\"Stop Interaction\"><i class=\"fa fa-power-off icon-remove icon-large\"></i></button>');\n",
       "    button.click(function (evt) { fig.handle_close(fig, {}); } );\n",
       "    button.mouseover('Stop Interaction', toolbar_mouse_event);\n",
       "    buttongrp.append(button);\n",
       "    var titlebar = this.root.find($('.ui-dialog-titlebar'));\n",
       "    titlebar.prepend(buttongrp);\n",
       "}\n",
       "\n",
       "mpl.figure.prototype._root_extra_style = function(el){\n",
       "    var fig = this\n",
       "    el.on(\"remove\", function(){\n",
       "\tfig.close_ws(fig, {});\n",
       "    });\n",
       "}\n",
       "\n",
       "mpl.figure.prototype._canvas_extra_style = function(el){\n",
       "    // this is important to make the div 'focusable\n",
       "    el.attr('tabindex', 0)\n",
       "    // reach out to IPython and tell the keyboard manager to turn it's self\n",
       "    // off when our div gets focus\n",
       "\n",
       "    // location in version 3\n",
       "    if (IPython.notebook.keyboard_manager) {\n",
       "        IPython.notebook.keyboard_manager.register_events(el);\n",
       "    }\n",
       "    else {\n",
       "        // location in version 2\n",
       "        IPython.keyboard_manager.register_events(el);\n",
       "    }\n",
       "\n",
       "}\n",
       "\n",
       "mpl.figure.prototype._key_event_extra = function(event, name) {\n",
       "    var manager = IPython.notebook.keyboard_manager;\n",
       "    if (!manager)\n",
       "        manager = IPython.keyboard_manager;\n",
       "\n",
       "    // Check for shift+enter\n",
       "    if (event.shiftKey && event.which == 13) {\n",
       "        this.canvas_div.blur();\n",
       "        // select the cell after this one\n",
       "        var index = IPython.notebook.find_cell_index(this.cell_info[0]);\n",
       "        IPython.notebook.select(index + 1);\n",
       "    }\n",
       "}\n",
       "\n",
       "mpl.figure.prototype.handle_save = function(fig, msg) {\n",
       "    fig.ondownload(fig, null);\n",
       "}\n",
       "\n",
       "\n",
       "mpl.find_output_cell = function(html_output) {\n",
       "    // Return the cell and output element which can be found *uniquely* in the notebook.\n",
       "    // Note - this is a bit hacky, but it is done because the \"notebook_saving.Notebook\"\n",
       "    // IPython event is triggered only after the cells have been serialised, which for\n",
       "    // our purposes (turning an active figure into a static one), is too late.\n",
       "    var cells = IPython.notebook.get_cells();\n",
       "    var ncells = cells.length;\n",
       "    for (var i=0; i<ncells; i++) {\n",
       "        var cell = cells[i];\n",
       "        if (cell.cell_type === 'code'){\n",
       "            for (var j=0; j<cell.output_area.outputs.length; j++) {\n",
       "                var data = cell.output_area.outputs[j];\n",
       "                if (data.data) {\n",
       "                    // IPython >= 3 moved mimebundle to data attribute of output\n",
       "                    data = data.data;\n",
       "                }\n",
       "                if (data['text/html'] == html_output) {\n",
       "                    return [cell, data, j];\n",
       "                }\n",
       "            }\n",
       "        }\n",
       "    }\n",
       "}\n",
       "\n",
       "// Register the function which deals with the matplotlib target/channel.\n",
       "// The kernel may be null if the page has been refreshed.\n",
       "if (IPython.notebook.kernel != null) {\n",
       "    IPython.notebook.kernel.comm_manager.register_target('matplotlib', mpl.mpl_figure_comm);\n",
       "}\n"
      ],
      "text/plain": [
       "<IPython.core.display.Javascript object>"
      ]
     },
     "metadata": {},
     "output_type": "display_data"
    },
    {
     "data": {
      "text/html": [
       "<img src=\"data:image/png;base64,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\" width=\"1000\">"
      ],
      "text/plain": [
       "<IPython.core.display.HTML object>"
      ]
     },
     "metadata": {},
     "output_type": "display_data"
    },
    {
     "data": {
      "text/plain": [
       "(-1.2, 1.3)"
      ]
     },
     "execution_count": 18,
     "metadata": {},
     "output_type": "execute_result"
    }
   ],
   "source": [
    "plt.figure(figsize=(10,4))\n",
    "plt.scatter(particles[\"protons_domain\"].x,\n",
    "            particles[\"protons_domain\"].v[:,0],\n",
    "            s=particles[\"protons_domain\"].weights*1000)\n",
    "plt.scatter(particles[\"beam_domain\"].x,\n",
    "            particles[\"beam_domain\"].v[:,0],\n",
    "            s=particles[\"beam_domain\"].weights*1000)\n",
    "plt.xlim((2,10))\n",
    "plt.ylim((-1.2,1.3))"
   ]
  },
  {
   "cell_type": "code",
   "execution_count": 12,
   "metadata": {},
   "outputs": [
    {
     "data": {
      "application/vnd.jupyter.widget-view+json": {
       "model_id": "5e224a2e5f3940ebb338f20b3b231b48",
       "version_major": 2,
       "version_minor": 0
      },
      "text/plain": [
       "Canvas(toolbar=Toolbar(toolitems=[('Home', 'Reset original view', 'home', 'home'), ('Back', 'Back to previous …"
      ]
     },
     "metadata": {},
     "output_type": "display_data"
    },
    {
     "data": {
      "text/plain": [
       "(-1.2, 1.3)"
      ]
     },
     "execution_count": 12,
     "metadata": {},
     "output_type": "execute_result"
    }
   ],
   "source": [
    "plt.figure(figsize=(10,4))\n",
    "plt.scatter(particles95[\"protons_domain\"].x,\n",
    "            particles95[\"protons_domain\"].v[:,0],\n",
    "            s=particles95[\"protons_domain\"].weights*1000)\n",
    "plt.scatter(particles95[\"beam_domain\"].x,\n",
    "            particles95[\"beam_domain\"].v[:,0],\n",
    "            s=particles95[\"beam_domain\"].weights*1000)\n",
    "plt.xlim((2.5,9.5))\n",
    "plt.ylim((-1.2,1.3))"
   ]
  },
  {
   "cell_type": "code",
   "execution_count": 13,
   "metadata": {},
   "outputs": [],
   "source": [
    "plt.close(\"all\")"
   ]
  },
  {
   "cell_type": "code",
   "execution_count": 15,
   "metadata": {},
   "outputs": [
    {
     "data": {
      "application/vnd.jupyter.widget-view+json": {
       "model_id": "501d59a58cb44f7b8bcdb61048957f9a",
       "version_major": 2,
       "version_minor": 0
      },
      "text/plain": [
       "Canvas(toolbar=Toolbar(toolitems=[('Home', 'Reset original view', 'home', 'home'), ('Back', 'Back to previous …"
      ]
     },
     "metadata": {},
     "output_type": "display_data"
    },
    {
     "data": {
      "application/vnd.jupyter.widget-view+json": {
       "model_id": "a08e56eeafc24b3185213d8eed9c57de",
       "version_major": 2,
       "version_minor": 0
      },
      "text/plain": [
       "Canvas(toolbar=Toolbar(toolitems=[('Home', 'Reset original view', 'home', 'home'), ('Back', 'Back to previous …"
      ]
     },
     "metadata": {},
     "output_type": "display_data"
    },
    {
     "data": {
      "application/vnd.jupyter.widget-view+json": {
       "model_id": "86e1a1d27b8b4fe798399b16144a425f",
       "version_major": 2,
       "version_minor": 0
      },
      "text/plain": [
       "Canvas(toolbar=Toolbar(toolitems=[('Home', 'Reset original view', 'home', 'home'), ('Back', 'Back to previous …"
      ]
     },
     "metadata": {},
     "output_type": "display_data"
    },
    {
     "data": {
      "application/vnd.jupyter.widget-view+json": {
       "model_id": "92db23f19f7c4d2bb6003fed94eadfb4",
       "version_major": 2,
       "version_minor": 0
      },
      "text/plain": [
       "Canvas(toolbar=Toolbar(toolitems=[('Home', 'Reset original view', 'home', 'home'), ('Back', 'Back to previous …"
      ]
     },
     "metadata": {},
     "output_type": "display_data"
    },
    {
     "data": {
      "application/vnd.jupyter.widget-view+json": {
       "model_id": "3e7e1642d22e48469a720d4d153bd020",
       "version_major": 2,
       "version_minor": 0
      },
      "text/plain": [
       "Canvas(toolbar=Toolbar(toolitems=[('Home', 'Reset original view', 'home', 'home'), ('Back', 'Back to previous …"
      ]
     },
     "metadata": {},
     "output_type": "display_data"
    },
    {
     "data": {
      "application/vnd.jupyter.widget-view+json": {
       "model_id": "5560ae1c3e79494aabffcee2f4e79c01",
       "version_major": 2,
       "version_minor": 0
      },
      "text/plain": [
       "Canvas(toolbar=Toolbar(toolitems=[('Home', 'Reset original view', 'home', 'home'), ('Back', 'Back to previous …"
      ]
     },
     "metadata": {},
     "output_type": "display_data"
    },
    {
     "data": {
      "application/vnd.jupyter.widget-view+json": {
       "model_id": "c55517d87b9e49a6a621b93e225f9230",
       "version_major": 2,
       "version_minor": 0
      },
      "text/plain": [
       "Canvas(toolbar=Toolbar(toolitems=[('Home', 'Reset original view', 'home', 'home'), ('Back', 'Back to previous …"
      ]
     },
     "metadata": {},
     "output_type": "display_data"
    },
    {
     "data": {
      "application/vnd.jupyter.widget-view+json": {
       "model_id": "4dfaa8b1ca3445cdba9771ae5e6a41d3",
       "version_major": 2,
       "version_minor": 0
      },
      "text/plain": [
       "Canvas(toolbar=Toolbar(toolitems=[('Home', 'Reset original view', 'home', 'home'), ('Back', 'Back to previous …"
      ]
     },
     "metadata": {},
     "output_type": "display_data"
    },
    {
     "data": {
      "application/vnd.jupyter.widget-view+json": {
       "model_id": "d12069dbb04e42fc8b0d9c273aa8b675",
       "version_major": 2,
       "version_minor": 0
      },
      "text/plain": [
       "Canvas(toolbar=Toolbar(toolitems=[('Home', 'Reset original view', 'home', 'home'), ('Back', 'Back to previous …"
      ]
     },
     "metadata": {},
     "output_type": "display_data"
    },
    {
     "data": {
      "application/vnd.jupyter.widget-view+json": {
       "model_id": "57262797b964483a8b27e15f36cbeb2d",
       "version_major": 2,
       "version_minor": 0
      },
      "text/plain": [
       "Canvas(toolbar=Toolbar(toolitems=[('Home', 'Reset original view', 'home', 'home'), ('Back', 'Back to previous …"
      ]
     },
     "metadata": {},
     "output_type": "display_data"
    },
    {
     "data": {
      "application/vnd.jupyter.widget-view+json": {
       "model_id": "8f1c51b9437a49b39ebd65844edfc961",
       "version_major": 2,
       "version_minor": 0
      },
      "text/plain": [
       "Canvas(toolbar=Toolbar(toolitems=[('Home', 'Reset original view', 'home', 'home'), ('Back', 'Back to previous …"
      ]
     },
     "metadata": {},
     "output_type": "display_data"
    },
    {
     "data": {
      "application/vnd.jupyter.widget-view+json": {
       "model_id": "1b0361250b714ce498799d89ff9c58ba",
       "version_major": 2,
       "version_minor": 0
      },
      "text/plain": [
       "Canvas(toolbar=Toolbar(toolitems=[('Home', 'Reset original view', 'home', 'home'), ('Back', 'Back to previous …"
      ]
     },
     "metadata": {},
     "output_type": "display_data"
    },
    {
     "data": {
      "application/vnd.jupyter.widget-view+json": {
       "model_id": "fc716248813b42f69c43be8ee328a88b",
       "version_major": 2,
       "version_minor": 0
      },
      "text/plain": [
       "Canvas(toolbar=Toolbar(toolitems=[('Home', 'Reset original view', 'home', 'home'), ('Back', 'Back to previous …"
      ]
     },
     "metadata": {},
     "output_type": "display_data"
    },
    {
     "data": {
      "application/vnd.jupyter.widget-view+json": {
       "model_id": "7d0d9f0b273d454cb5e5fde16a568aa0",
       "version_major": 2,
       "version_minor": 0
      },
      "text/plain": [
       "Canvas(toolbar=Toolbar(toolitems=[('Home', 'Reset original view', 'home', 'home'), ('Back', 'Back to previous …"
      ]
     },
     "metadata": {},
     "output_type": "display_data"
    },
    {
     "data": {
      "application/vnd.jupyter.widget-view+json": {
       "model_id": "52ee550229e0445ebc7142fe890d07ae",
       "version_major": 2,
       "version_minor": 0
      },
      "text/plain": [
       "Canvas(toolbar=Toolbar(toolitems=[('Home', 'Reset original view', 'home', 'home'), ('Back', 'Back to previous …"
      ]
     },
     "metadata": {},
     "output_type": "display_data"
    },
    {
     "data": {
      "application/vnd.jupyter.widget-view+json": {
       "model_id": "f13637d21502406688d37c99d6e51710",
       "version_major": 2,
       "version_minor": 0
      },
      "text/plain": [
       "Canvas(toolbar=Toolbar(toolitems=[('Home', 'Reset original view', 'home', 'home'), ('Back', 'Back to previous …"
      ]
     },
     "metadata": {},
     "output_type": "display_data"
    },
    {
     "data": {
      "application/vnd.jupyter.widget-view+json": {
       "model_id": "a9a0015c7b614b14871a73b5ea4983a5",
       "version_major": 2,
       "version_minor": 0
      },
      "text/plain": [
       "Canvas(toolbar=Toolbar(toolitems=[('Home', 'Reset original view', 'home', 'home'), ('Back', 'Back to previous …"
      ]
     },
     "metadata": {},
     "output_type": "display_data"
    },
    {
     "data": {
      "application/vnd.jupyter.widget-view+json": {
       "model_id": "4f8467bb0d07471eaa76ce121384ec73",
       "version_major": 2,
       "version_minor": 0
      },
      "text/plain": [
       "Canvas(toolbar=Toolbar(toolitems=[('Home', 'Reset original view', 'home', 'home'), ('Back', 'Back to previous …"
      ]
     },
     "metadata": {},
     "output_type": "display_data"
    },
    {
     "data": {
      "application/vnd.jupyter.widget-view+json": {
       "model_id": "d0e61916f3724dd89da2cb0404fd899a",
       "version_major": 2,
       "version_minor": 0
      },
      "text/plain": [
       "Canvas(toolbar=Toolbar(toolitems=[('Home', 'Reset original view', 'home', 'home'), ('Back', 'Back to previous …"
      ]
     },
     "metadata": {},
     "output_type": "display_data"
    },
    {
     "data": {
      "application/vnd.jupyter.widget-view+json": {
       "model_id": "c2ba1db217a84f3681dbf3f9e444746f",
       "version_major": 2,
       "version_minor": 0
      },
      "text/plain": [
       "Canvas(toolbar=Toolbar(toolitems=[('Home', 'Reset original view', 'home', 'home'), ('Back', 'Back to previous …"
      ]
     },
     "metadata": {},
     "output_type": "display_data"
    },
    {
     "data": {
      "application/vnd.jupyter.widget-view+json": {
       "model_id": "80b3128179b24fb38da8499bdd145091",
       "version_major": 2,
       "version_minor": 0
      },
      "text/plain": [
       "Canvas(toolbar=Toolbar(toolitems=[('Home', 'Reset original view', 'home', 'home'), ('Back', 'Back to previous …"
      ]
     },
     "metadata": {},
     "output_type": "display_data"
    },
    {
     "data": {
      "application/vnd.jupyter.widget-view+json": {
       "model_id": "bbe2009ca1e745e4abe64f89394e06cd",
       "version_major": 2,
       "version_minor": 0
      },
      "text/plain": [
       "Canvas(toolbar=Toolbar(toolitems=[('Home', 'Reset original view', 'home', 'home'), ('Back', 'Back to previous …"
      ]
     },
     "metadata": {},
     "output_type": "display_data"
    },
    {
     "data": {
      "application/vnd.jupyter.widget-view+json": {
       "model_id": "603e3badd0f94c3aa3cce4b21c5f1394",
       "version_major": 2,
       "version_minor": 0
      },
      "text/plain": [
       "Canvas(toolbar=Toolbar(toolitems=[('Home', 'Reset original view', 'home', 'home'), ('Back', 'Back to previous …"
      ]
     },
     "metadata": {},
     "output_type": "display_data"
    },
    {
     "data": {
      "application/vnd.jupyter.widget-view+json": {
       "model_id": "efe68d39a2574fab9a188d24375865d0",
       "version_major": 2,
       "version_minor": 0
      },
      "text/plain": [
       "Canvas(toolbar=Toolbar(toolitems=[('Home', 'Reset original view', 'home', 'home'), ('Back', 'Back to previous …"
      ]
     },
     "metadata": {},
     "output_type": "display_data"
    },
    {
     "data": {
      "application/vnd.jupyter.widget-view+json": {
       "model_id": "75424e3b3f4d491e9749036368f49e44",
       "version_major": 2,
       "version_minor": 0
      },
      "text/plain": [
       "Canvas(toolbar=Toolbar(toolitems=[('Home', 'Reset original view', 'home', 'home'), ('Back', 'Back to previous …"
      ]
     },
     "metadata": {},
     "output_type": "display_data"
    },
    {
     "data": {
      "application/vnd.jupyter.widget-view+json": {
       "model_id": "71a1cee6bc3e4017823c242b755bf174",
       "version_major": 2,
       "version_minor": 0
      },
      "text/plain": [
       "Canvas(toolbar=Toolbar(toolitems=[('Home', 'Reset original view', 'home', 'home'), ('Back', 'Back to previous …"
      ]
     },
     "metadata": {},
     "output_type": "display_data"
    },
    {
     "data": {
      "application/vnd.jupyter.widget-view+json": {
       "model_id": "2abe7546adec41cf82df27f3ada8c643",
       "version_major": 2,
       "version_minor": 0
      },
      "text/plain": [
       "Canvas(toolbar=Toolbar(toolitems=[('Home', 'Reset original view', 'home', 'home'), ('Back', 'Back to previous …"
      ]
     },
     "metadata": {},
     "output_type": "display_data"
    },
    {
     "data": {
      "application/vnd.jupyter.widget-view+json": {
       "model_id": "ed8114f0d63d45e28ffff98bdb6fa613",
       "version_major": 2,
       "version_minor": 0
      },
      "text/plain": [
       "Canvas(toolbar=Toolbar(toolitems=[('Home', 'Reset original view', 'home', 'home'), ('Back', 'Back to previous …"
      ]
     },
     "metadata": {},
     "output_type": "display_data"
    },
    {
     "data": {
      "application/vnd.jupyter.widget-view+json": {
       "model_id": "0757a9c03a7a4c5aa559a02ffa1ec67c",
       "version_major": 2,
       "version_minor": 0
      },
      "text/plain": [
       "Canvas(toolbar=Toolbar(toolitems=[('Home', 'Reset original view', 'home', 'home'), ('Back', 'Back to previous …"
      ]
     },
     "metadata": {},
     "output_type": "display_data"
    },
    {
     "data": {
      "application/vnd.jupyter.widget-view+json": {
       "model_id": "1b6583acbaf9451dab3bb6ac27e6ff29",
       "version_major": 2,
       "version_minor": 0
      },
      "text/plain": [
       "Canvas(toolbar=Toolbar(toolitems=[('Home', 'Reset original view', 'home', 'home'), ('Back', 'Back to previous …"
      ]
     },
     "metadata": {},
     "output_type": "display_data"
    },
    {
     "data": {
      "application/vnd.jupyter.widget-view+json": {
       "model_id": "736091787d7b47038d2c924ef387b51a",
       "version_major": 2,
       "version_minor": 0
      },
      "text/plain": [
       "Canvas(toolbar=Toolbar(toolitems=[('Home', 'Reset original view', 'home', 'home'), ('Back', 'Back to previous …"
      ]
     },
     "metadata": {},
     "output_type": "display_data"
    },
    {
     "data": {
      "application/vnd.jupyter.widget-view+json": {
       "model_id": "7f5fc9f1622946a398a7cffa17adaf7c",
       "version_major": 2,
       "version_minor": 0
      },
      "text/plain": [
       "Canvas(toolbar=Toolbar(toolitems=[('Home', 'Reset original view', 'home', 'home'), ('Back', 'Back to previous …"
      ]
     },
     "metadata": {},
     "output_type": "display_data"
    },
    {
     "data": {
      "application/vnd.jupyter.widget-view+json": {
       "model_id": "ff6a9be90f6e4bba90993222368435a7",
       "version_major": 2,
       "version_minor": 0
      },
      "text/plain": [
       "Canvas(toolbar=Toolbar(toolitems=[('Home', 'Reset original view', 'home', 'home'), ('Back', 'Back to previous …"
      ]
     },
     "metadata": {},
     "output_type": "display_data"
    },
    {
     "data": {
      "application/vnd.jupyter.widget-view+json": {
       "model_id": "7dd9bb98c9dc46a6b91185d776ef8f78",
       "version_major": 2,
       "version_minor": 0
      },
      "text/plain": [
       "Canvas(toolbar=Toolbar(toolitems=[('Home', 'Reset original view', 'home', 'home'), ('Back', 'Back to previous …"
      ]
     },
     "metadata": {},
     "output_type": "display_data"
    },
    {
     "data": {
      "application/vnd.jupyter.widget-view+json": {
       "model_id": "b7c76120f30e4a8e8f9ff431702a68c8",
       "version_major": 2,
       "version_minor": 0
      },
      "text/plain": [
       "Canvas(toolbar=Toolbar(toolitems=[('Home', 'Reset original view', 'home', 'home'), ('Back', 'Back to previous …"
      ]
     },
     "metadata": {},
     "output_type": "display_data"
    },
    {
     "data": {
      "application/vnd.jupyter.widget-view+json": {
       "model_id": "9224078672df4fe484e4e8c3c83ac225",
       "version_major": 2,
       "version_minor": 0
      },
      "text/plain": [
       "Canvas(toolbar=Toolbar(toolitems=[('Home', 'Reset original view', 'home', 'home'), ('Back', 'Back to previous …"
      ]
     },
     "metadata": {},
     "output_type": "display_data"
    },
    {
     "data": {
      "application/vnd.jupyter.widget-view+json": {
       "model_id": "92caf2effd9e4674807d5996067b8db3",
       "version_major": 2,
       "version_minor": 0
      },
      "text/plain": [
       "Canvas(toolbar=Toolbar(toolitems=[('Home', 'Reset original view', 'home', 'home'), ('Back', 'Back to previous …"
      ]
     },
     "metadata": {},
     "output_type": "display_data"
    },
    {
     "data": {
      "application/vnd.jupyter.widget-view+json": {
       "model_id": "4b1ae6e04f8e4bd99d424de507843751",
       "version_major": 2,
       "version_minor": 0
      },
      "text/plain": [
       "Canvas(toolbar=Toolbar(toolitems=[('Home', 'Reset original view', 'home', 'home'), ('Back', 'Back to previous …"
      ]
     },
     "metadata": {},
     "output_type": "display_data"
    },
    {
     "data": {
      "application/vnd.jupyter.widget-view+json": {
       "model_id": "82991ea49b044d49af5e6c244aea5758",
       "version_major": 2,
       "version_minor": 0
      },
      "text/plain": [
       "Canvas(toolbar=Toolbar(toolitems=[('Home', 'Reset original view', 'home', 'home'), ('Back', 'Back to previous …"
      ]
     },
     "metadata": {},
     "output_type": "display_data"
    },
    {
     "data": {
      "application/vnd.jupyter.widget-view+json": {
       "model_id": "30fb166246fc4395a412bf25985d2135",
       "version_major": 2,
       "version_minor": 0
      },
      "text/plain": [
       "Canvas(toolbar=Toolbar(toolitems=[('Home', 'Reset original view', 'home', 'home'), ('Back', 'Back to previous …"
      ]
     },
     "metadata": {},
     "output_type": "display_data"
    },
    {
     "data": {
      "application/vnd.jupyter.widget-view+json": {
       "model_id": "d8007be739b247d5a5ffbf5301e9e855",
       "version_major": 2,
       "version_minor": 0
      },
      "text/plain": [
       "Canvas(toolbar=Toolbar(toolitems=[('Home', 'Reset original view', 'home', 'home'), ('Back', 'Back to previous …"
      ]
     },
     "metadata": {},
     "output_type": "display_data"
    },
    {
     "data": {
      "application/vnd.jupyter.widget-view+json": {
       "model_id": "2278fd61803c4b03b65ed96e2c01e14c",
       "version_major": 2,
       "version_minor": 0
      },
      "text/plain": [
       "Canvas(toolbar=Toolbar(toolitems=[('Home', 'Reset original view', 'home', 'home'), ('Back', 'Back to previous …"
      ]
     },
     "metadata": {},
     "output_type": "display_data"
    },
    {
     "data": {
      "application/vnd.jupyter.widget-view+json": {
       "model_id": "57af8fa14b194d63b763dd7a0506c6e3",
       "version_major": 2,
       "version_minor": 0
      },
      "text/plain": [
       "Canvas(toolbar=Toolbar(toolitems=[('Home', 'Reset original view', 'home', 'home'), ('Back', 'Back to previous …"
      ]
     },
     "metadata": {},
     "output_type": "display_data"
    },
    {
     "data": {
      "application/vnd.jupyter.widget-view+json": {
       "model_id": "3dc8280a9e9b45348e5538eaedabb366",
       "version_major": 2,
       "version_minor": 0
      },
      "text/plain": [
       "Canvas(toolbar=Toolbar(toolitems=[('Home', 'Reset original view', 'home', 'home'), ('Back', 'Back to previous …"
      ]
     },
     "metadata": {},
     "output_type": "display_data"
    },
    {
     "data": {
      "application/vnd.jupyter.widget-view+json": {
       "model_id": "acfe73500ec844c295c22161f27528a3",
       "version_major": 2,
       "version_minor": 0
      },
      "text/plain": [
       "Canvas(toolbar=Toolbar(toolitems=[('Home', 'Reset original view', 'home', 'home'), ('Back', 'Back to previous …"
      ]
     },
     "metadata": {},
     "output_type": "display_data"
    },
    {
     "data": {
      "application/vnd.jupyter.widget-view+json": {
       "model_id": "812c0c76c0f7497ca16c8f632c45ddf3",
       "version_major": 2,
       "version_minor": 0
      },
      "text/plain": [
       "Canvas(toolbar=Toolbar(toolitems=[('Home', 'Reset original view', 'home', 'home'), ('Back', 'Back to previous …"
      ]
     },
     "metadata": {},
     "output_type": "display_data"
    },
    {
     "data": {
      "application/vnd.jupyter.widget-view+json": {
       "model_id": "afbbdcc5fe2d4694a70b3b2b9699313d",
       "version_major": 2,
       "version_minor": 0
      },
      "text/plain": [
       "Canvas(toolbar=Toolbar(toolitems=[('Home', 'Reset original view', 'home', 'home'), ('Back', 'Back to previous …"
      ]
     },
     "metadata": {},
     "output_type": "display_data"
    },
    {
     "data": {
      "application/vnd.jupyter.widget-view+json": {
       "model_id": "c6c2626daac34660bbc84e4cbd053a35",
       "version_major": 2,
       "version_minor": 0
      },
      "text/plain": [
       "Canvas(toolbar=Toolbar(toolitems=[('Home', 'Reset original view', 'home', 'home'), ('Back', 'Back to previous …"
      ]
     },
     "metadata": {},
     "output_type": "display_data"
    },
    {
     "data": {
      "application/vnd.jupyter.widget-view+json": {
       "model_id": "86e796b603e045068e63c92a3d503200",
       "version_major": 2,
       "version_minor": 0
      },
      "text/plain": [
       "Canvas(toolbar=Toolbar(toolitems=[('Home', 'Reset original view', 'home', 'home'), ('Back', 'Back to previous …"
      ]
     },
     "metadata": {},
     "output_type": "display_data"
    },
    {
     "data": {
      "application/vnd.jupyter.widget-view+json": {
       "model_id": "bcf2df5983a9438bbe141bbbb63410ff",
       "version_major": 2,
       "version_minor": 0
      },
      "text/plain": [
       "Canvas(toolbar=Toolbar(toolitems=[('Home', 'Reset original view', 'home', 'home'), ('Back', 'Back to previous …"
      ]
     },
     "metadata": {},
     "output_type": "display_data"
    },
    {
     "data": {
      "application/vnd.jupyter.widget-view+json": {
       "model_id": "0e8aad2824f943af9668a47752e28ac9",
       "version_major": 2,
       "version_minor": 0
      },
      "text/plain": [
       "Canvas(toolbar=Toolbar(toolitems=[('Home', 'Reset original view', 'home', 'home'), ('Back', 'Back to previous …"
      ]
     },
     "metadata": {},
     "output_type": "display_data"
    },
    {
     "data": {
      "application/vnd.jupyter.widget-view+json": {
       "model_id": "2353a6eab0f44322b2c38f2bd08fa9c8",
       "version_major": 2,
       "version_minor": 0
      },
      "text/plain": [
       "Canvas(toolbar=Toolbar(toolitems=[('Home', 'Reset original view', 'home', 'home'), ('Back', 'Back to previous …"
      ]
     },
     "metadata": {},
     "output_type": "display_data"
    },
    {
     "data": {
      "application/vnd.jupyter.widget-view+json": {
       "model_id": "9abc049adae64757af2f66febd47bd33",
       "version_major": 2,
       "version_minor": 0
      },
      "text/plain": [
       "Canvas(toolbar=Toolbar(toolitems=[('Home', 'Reset original view', 'home', 'home'), ('Back', 'Back to previous …"
      ]
     },
     "metadata": {},
     "output_type": "display_data"
    },
    {
     "data": {
      "application/vnd.jupyter.widget-view+json": {
       "model_id": "ff243488dca04dec9602902d0f427e6e",
       "version_major": 2,
       "version_minor": 0
      },
      "text/plain": [
       "Canvas(toolbar=Toolbar(toolitems=[('Home', 'Reset original view', 'home', 'home'), ('Back', 'Back to previous …"
      ]
     },
     "metadata": {},
     "output_type": "display_data"
    },
    {
     "data": {
      "application/vnd.jupyter.widget-view+json": {
       "model_id": "96ef91ceb46d469792aaaea8c6706807",
       "version_major": 2,
       "version_minor": 0
      },
      "text/plain": [
       "Canvas(toolbar=Toolbar(toolitems=[('Home', 'Reset original view', 'home', 'home'), ('Back', 'Back to previous …"
      ]
     },
     "metadata": {},
     "output_type": "display_data"
    },
    {
     "data": {
      "application/vnd.jupyter.widget-view+json": {
       "model_id": "1885d5f0043a4eb0b9dc9a054ac0d112",
       "version_major": 2,
       "version_minor": 0
      },
      "text/plain": [
       "Canvas(toolbar=Toolbar(toolitems=[('Home', 'Reset original view', 'home', 'home'), ('Back', 'Back to previous …"
      ]
     },
     "metadata": {},
     "output_type": "display_data"
    },
    {
     "data": {
      "application/vnd.jupyter.widget-view+json": {
       "model_id": "27c48c1dbba34480a22749b7e0f4a6e2",
       "version_major": 2,
       "version_minor": 0
      },
      "text/plain": [
       "Canvas(toolbar=Toolbar(toolitems=[('Home', 'Reset original view', 'home', 'home'), ('Back', 'Back to previous …"
      ]
     },
     "metadata": {},
     "output_type": "display_data"
    },
    {
     "data": {
      "application/vnd.jupyter.widget-view+json": {
       "model_id": "7f2127a5416b4d20a8d695671e4d6fdb",
       "version_major": 2,
       "version_minor": 0
      },
      "text/plain": [
       "Canvas(toolbar=Toolbar(toolitems=[('Home', 'Reset original view', 'home', 'home'), ('Back', 'Back to previous …"
      ]
     },
     "metadata": {},
     "output_type": "display_data"
    },
    {
     "data": {
      "application/vnd.jupyter.widget-view+json": {
       "model_id": "64718f8879d14cfc99b453eadd408069",
       "version_major": 2,
       "version_minor": 0
      },
      "text/plain": [
       "Canvas(toolbar=Toolbar(toolitems=[('Home', 'Reset original view', 'home', 'home'), ('Back', 'Back to previous …"
      ]
     },
     "metadata": {},
     "output_type": "display_data"
    },
    {
     "data": {
      "application/vnd.jupyter.widget-view+json": {
       "model_id": "419e8f19bb8b4e1fa67f17687a283dab",
       "version_major": 2,
       "version_minor": 0
      },
      "text/plain": [
       "Canvas(toolbar=Toolbar(toolitems=[('Home', 'Reset original view', 'home', 'home'), ('Back', 'Back to previous …"
      ]
     },
     "metadata": {},
     "output_type": "display_data"
    },
    {
     "data": {
      "application/vnd.jupyter.widget-view+json": {
       "model_id": "6d072ec82f774c018e095327873ee226",
       "version_major": 2,
       "version_minor": 0
      },
      "text/plain": [
       "Canvas(toolbar=Toolbar(toolitems=[('Home', 'Reset original view', 'home', 'home'), ('Back', 'Back to previous …"
      ]
     },
     "metadata": {},
     "output_type": "display_data"
    },
    {
     "data": {
      "application/vnd.jupyter.widget-view+json": {
       "model_id": "014f735a0ed9418897d8d8fcbb3612e2",
       "version_major": 2,
       "version_minor": 0
      },
      "text/plain": [
       "Canvas(toolbar=Toolbar(toolitems=[('Home', 'Reset original view', 'home', 'home'), ('Back', 'Back to previous …"
      ]
     },
     "metadata": {},
     "output_type": "display_data"
    },
    {
     "data": {
      "application/vnd.jupyter.widget-view+json": {
       "model_id": "bade216710b44529bbfee61ad10289ba",
       "version_major": 2,
       "version_minor": 0
      },
      "text/plain": [
       "Canvas(toolbar=Toolbar(toolitems=[('Home', 'Reset original view', 'home', 'home'), ('Back', 'Back to previous …"
      ]
     },
     "metadata": {},
     "output_type": "display_data"
    },
    {
     "data": {
      "application/vnd.jupyter.widget-view+json": {
       "model_id": "31710733fba04a07b2e7088c4d1baf77",
       "version_major": 2,
       "version_minor": 0
      },
      "text/plain": [
       "Canvas(toolbar=Toolbar(toolitems=[('Home', 'Reset original view', 'home', 'home'), ('Back', 'Back to previous …"
      ]
     },
     "metadata": {},
     "output_type": "display_data"
    },
    {
     "data": {
      "application/vnd.jupyter.widget-view+json": {
       "model_id": "a4798fb43b764ac18d36fcdd63933952",
       "version_major": 2,
       "version_minor": 0
      },
      "text/plain": [
       "Canvas(toolbar=Toolbar(toolitems=[('Home', 'Reset original view', 'home', 'home'), ('Back', 'Back to previous …"
      ]
     },
     "metadata": {},
     "output_type": "display_data"
    },
    {
     "data": {
      "application/vnd.jupyter.widget-view+json": {
       "model_id": "f333fd8a6fca4f77ba6f4cd968f2a4e5",
       "version_major": 2,
       "version_minor": 0
      },
      "text/plain": [
       "Canvas(toolbar=Toolbar(toolitems=[('Home', 'Reset original view', 'home', 'home'), ('Back', 'Back to previous …"
      ]
     },
     "metadata": {},
     "output_type": "display_data"
    },
    {
     "data": {
      "application/vnd.jupyter.widget-view+json": {
       "model_id": "e4dd27d7183243188f4c1678a5b6f36c",
       "version_major": 2,
       "version_minor": 0
      },
      "text/plain": [
       "Canvas(toolbar=Toolbar(toolitems=[('Home', 'Reset original view', 'home', 'home'), ('Back', 'Back to previous …"
      ]
     },
     "metadata": {},
     "output_type": "display_data"
    },
    {
     "data": {
      "application/vnd.jupyter.widget-view+json": {
       "model_id": "c3fd447b5ba947bfacaecab16846c32b",
       "version_major": 2,
       "version_minor": 0
      },
      "text/plain": [
       "Canvas(toolbar=Toolbar(toolitems=[('Home', 'Reset original view', 'home', 'home'), ('Back', 'Back to previous …"
      ]
     },
     "metadata": {},
     "output_type": "display_data"
    },
    {
     "data": {
      "application/vnd.jupyter.widget-view+json": {
       "model_id": "9e9e585c6c5c40fa943dfc02aa90e3f5",
       "version_major": 2,
       "version_minor": 0
      },
      "text/plain": [
       "Canvas(toolbar=Toolbar(toolitems=[('Home', 'Reset original view', 'home', 'home'), ('Back', 'Back to previous …"
      ]
     },
     "metadata": {},
     "output_type": "display_data"
    },
    {
     "data": {
      "application/vnd.jupyter.widget-view+json": {
       "model_id": "86bffb9cc050443096d83c7ea50e1113",
       "version_major": 2,
       "version_minor": 0
      },
      "text/plain": [
       "Canvas(toolbar=Toolbar(toolitems=[('Home', 'Reset original view', 'home', 'home'), ('Back', 'Back to previous …"
      ]
     },
     "metadata": {},
     "output_type": "display_data"
    },
    {
     "data": {
      "application/vnd.jupyter.widget-view+json": {
       "model_id": "4bce72933d3341a78f172aafa698b9b2",
       "version_major": 2,
       "version_minor": 0
      },
      "text/plain": [
       "Canvas(toolbar=Toolbar(toolitems=[('Home', 'Reset original view', 'home', 'home'), ('Back', 'Back to previous …"
      ]
     },
     "metadata": {},
     "output_type": "display_data"
    },
    {
     "data": {
      "application/vnd.jupyter.widget-view+json": {
       "model_id": "7832e1f971a648e9bc30b0fc3756898a",
       "version_major": 2,
       "version_minor": 0
      },
      "text/plain": [
       "Canvas(toolbar=Toolbar(toolitems=[('Home', 'Reset original view', 'home', 'home'), ('Back', 'Back to previous …"
      ]
     },
     "metadata": {},
     "output_type": "display_data"
    },
    {
     "data": {
      "application/vnd.jupyter.widget-view+json": {
       "model_id": "6324cc1dcf854d35b18d80d8eb019dff",
       "version_major": 2,
       "version_minor": 0
      },
      "text/plain": [
       "Canvas(toolbar=Toolbar(toolitems=[('Home', 'Reset original view', 'home', 'home'), ('Back', 'Back to previous …"
      ]
     },
     "metadata": {},
     "output_type": "display_data"
    },
    {
     "data": {
      "application/vnd.jupyter.widget-view+json": {
       "model_id": "b7e396dbdd3043d888d3253c1c7b2d3d",
       "version_major": 2,
       "version_minor": 0
      },
      "text/plain": [
       "Canvas(toolbar=Toolbar(toolitems=[('Home', 'Reset original view', 'home', 'home'), ('Back', 'Back to previous …"
      ]
     },
     "metadata": {},
     "output_type": "display_data"
    },
    {
     "data": {
      "application/vnd.jupyter.widget-view+json": {
       "model_id": "d33416fd879e4f60abdeaf9128eba87a",
       "version_major": 2,
       "version_minor": 0
      },
      "text/plain": [
       "Canvas(toolbar=Toolbar(toolitems=[('Home', 'Reset original view', 'home', 'home'), ('Back', 'Back to previous …"
      ]
     },
     "metadata": {},
     "output_type": "display_data"
    },
    {
     "data": {
      "application/vnd.jupyter.widget-view+json": {
       "model_id": "b61fc37bc72c4c488eb69696fe7b23f2",
       "version_major": 2,
       "version_minor": 0
      },
      "text/plain": [
       "Canvas(toolbar=Toolbar(toolitems=[('Home', 'Reset original view', 'home', 'home'), ('Back', 'Back to previous …"
      ]
     },
     "metadata": {},
     "output_type": "display_data"
    },
    {
     "data": {
      "application/vnd.jupyter.widget-view+json": {
       "model_id": "bfd34051d44d42858d568bf16467265c",
       "version_major": 2,
       "version_minor": 0
      },
      "text/plain": [
       "Canvas(toolbar=Toolbar(toolitems=[('Home', 'Reset original view', 'home', 'home'), ('Back', 'Back to previous …"
      ]
     },
     "metadata": {},
     "output_type": "display_data"
    },
    {
     "data": {
      "application/vnd.jupyter.widget-view+json": {
       "model_id": "3fff6463406a436db0cc625185f93df2",
       "version_major": 2,
       "version_minor": 0
      },
      "text/plain": [
       "Canvas(toolbar=Toolbar(toolitems=[('Home', 'Reset original view', 'home', 'home'), ('Back', 'Back to previous …"
      ]
     },
     "metadata": {},
     "output_type": "display_data"
    },
    {
     "data": {
      "application/vnd.jupyter.widget-view+json": {
       "model_id": "cfe6c237439b45feb8ec2a55b6bf51d3",
       "version_major": 2,
       "version_minor": 0
      },
      "text/plain": [
       "Canvas(toolbar=Toolbar(toolitems=[('Home', 'Reset original view', 'home', 'home'), ('Back', 'Back to previous …"
      ]
     },
     "metadata": {},
     "output_type": "display_data"
    },
    {
     "data": {
      "application/vnd.jupyter.widget-view+json": {
       "model_id": "bd72be29f3ef494bb4642621598d9f92",
       "version_major": 2,
       "version_minor": 0
      },
      "text/plain": [
       "Canvas(toolbar=Toolbar(toolitems=[('Home', 'Reset original view', 'home', 'home'), ('Back', 'Back to previous …"
      ]
     },
     "metadata": {},
     "output_type": "display_data"
    },
    {
     "data": {
      "application/vnd.jupyter.widget-view+json": {
       "model_id": "042b579f3c0b47e28b71b5ed36cf468f",
       "version_major": 2,
       "version_minor": 0
      },
      "text/plain": [
       "Canvas(toolbar=Toolbar(toolitems=[('Home', 'Reset original view', 'home', 'home'), ('Back', 'Back to previous …"
      ]
     },
     "metadata": {},
     "output_type": "display_data"
    },
    {
     "data": {
      "application/vnd.jupyter.widget-view+json": {
       "model_id": "9e0e07fa13d5472dac0bda727af22f4d",
       "version_major": 2,
       "version_minor": 0
      },
      "text/plain": [
       "Canvas(toolbar=Toolbar(toolitems=[('Home', 'Reset original view', 'home', 'home'), ('Back', 'Back to previous …"
      ]
     },
     "metadata": {},
     "output_type": "display_data"
    },
    {
     "data": {
      "application/vnd.jupyter.widget-view+json": {
       "model_id": "0f9a853bdd6e43fbb44a7bb55a94e168",
       "version_major": 2,
       "version_minor": 0
      },
      "text/plain": [
       "Canvas(toolbar=Toolbar(toolitems=[('Home', 'Reset original view', 'home', 'home'), ('Back', 'Back to previous …"
      ]
     },
     "metadata": {},
     "output_type": "display_data"
    },
    {
     "data": {
      "application/vnd.jupyter.widget-view+json": {
       "model_id": "b1e74562c00f4704b5dbe78a0f349436",
       "version_major": 2,
       "version_minor": 0
      },
      "text/plain": [
       "Canvas(toolbar=Toolbar(toolitems=[('Home', 'Reset original view', 'home', 'home'), ('Back', 'Back to previous …"
      ]
     },
     "metadata": {},
     "output_type": "display_data"
    },
    {
     "data": {
      "application/vnd.jupyter.widget-view+json": {
       "model_id": "5f186586d4cb4c5b8940c83301415fc4",
       "version_major": 2,
       "version_minor": 0
      },
      "text/plain": [
       "Canvas(toolbar=Toolbar(toolitems=[('Home', 'Reset original view', 'home', 'home'), ('Back', 'Back to previous …"
      ]
     },
     "metadata": {},
     "output_type": "display_data"
    },
    {
     "data": {
      "application/vnd.jupyter.widget-view+json": {
       "model_id": "8ae07db5e66d4d31ba7d291d394df761",
       "version_major": 2,
       "version_minor": 0
      },
      "text/plain": [
       "Canvas(toolbar=Toolbar(toolitems=[('Home', 'Reset original view', 'home', 'home'), ('Back', 'Back to previous …"
      ]
     },
     "metadata": {},
     "output_type": "display_data"
    },
    {
     "data": {
      "application/vnd.jupyter.widget-view+json": {
       "model_id": "cb845cb9770449079c0c2bb4580ba05c",
       "version_major": 2,
       "version_minor": 0
      },
      "text/plain": [
       "Canvas(toolbar=Toolbar(toolitems=[('Home', 'Reset original view', 'home', 'home'), ('Back', 'Back to previous …"
      ]
     },
     "metadata": {},
     "output_type": "display_data"
    },
    {
     "data": {
      "application/vnd.jupyter.widget-view+json": {
       "model_id": "522015581b29444c9d28bc1a5030c900",
       "version_major": 2,
       "version_minor": 0
      },
      "text/plain": [
       "Canvas(toolbar=Toolbar(toolitems=[('Home', 'Reset original view', 'home', 'home'), ('Back', 'Back to previous …"
      ]
     },
     "metadata": {},
     "output_type": "display_data"
    },
    {
     "data": {
      "application/vnd.jupyter.widget-view+json": {
       "model_id": "f67709ef2a4d4ec09b5b322e87276f8b",
       "version_major": 2,
       "version_minor": 0
      },
      "text/plain": [
       "Canvas(toolbar=Toolbar(toolitems=[('Home', 'Reset original view', 'home', 'home'), ('Back', 'Back to previous …"
      ]
     },
     "metadata": {},
     "output_type": "display_data"
    },
    {
     "data": {
      "application/vnd.jupyter.widget-view+json": {
       "model_id": "fc87c1156cda4840b341d8a632ac6787",
       "version_major": 2,
       "version_minor": 0
      },
      "text/plain": [
       "Canvas(toolbar=Toolbar(toolitems=[('Home', 'Reset original view', 'home', 'home'), ('Back', 'Back to previous …"
      ]
     },
     "metadata": {},
     "output_type": "display_data"
    },
    {
     "data": {
      "application/vnd.jupyter.widget-view+json": {
       "model_id": "94243bd7c4eb4ef0a69fbec5ec931890",
       "version_major": 2,
       "version_minor": 0
      },
      "text/plain": [
       "Canvas(toolbar=Toolbar(toolitems=[('Home', 'Reset original view', 'home', 'home'), ('Back', 'Back to previous …"
      ]
     },
     "metadata": {},
     "output_type": "display_data"
    },
    {
     "data": {
      "application/vnd.jupyter.widget-view+json": {
       "model_id": "258f982dfd53402a93bc1d411bdec6dc",
       "version_major": 2,
       "version_minor": 0
      },
      "text/plain": [
       "Canvas(toolbar=Toolbar(toolitems=[('Home', 'Reset original view', 'home', 'home'), ('Back', 'Back to previous …"
      ]
     },
     "metadata": {},
     "output_type": "display_data"
    },
    {
     "data": {
      "application/vnd.jupyter.widget-view+json": {
       "model_id": "1a2596086019484bbc0c8fb47a9360a0",
       "version_major": 2,
       "version_minor": 0
      },
      "text/plain": [
       "Canvas(toolbar=Toolbar(toolitems=[('Home', 'Reset original view', 'home', 'home'), ('Back', 'Back to previous …"
      ]
     },
     "metadata": {},
     "output_type": "display_data"
    },
    {
     "data": {
      "application/vnd.jupyter.widget-view+json": {
       "model_id": "520254f93cfb483b9fe160a80d022812",
       "version_major": 2,
       "version_minor": 0
      },
      "text/plain": [
       "Canvas(toolbar=Toolbar(toolitems=[('Home', 'Reset original view', 'home', 'home'), ('Back', 'Back to previous …"
      ]
     },
     "metadata": {},
     "output_type": "display_data"
    },
    {
     "data": {
      "application/vnd.jupyter.widget-view+json": {
       "model_id": "7128999e98bc47c1b7debedac562b688",
       "version_major": 2,
       "version_minor": 0
      },
      "text/plain": [
       "Canvas(toolbar=Toolbar(toolitems=[('Home', 'Reset original view', 'home', 'home'), ('Back', 'Back to previous …"
      ]
     },
     "metadata": {},
     "output_type": "display_data"
    },
    {
     "data": {
      "application/vnd.jupyter.widget-view+json": {
       "model_id": "662d659979e34b30b638e9143de01411",
       "version_major": 2,
       "version_minor": 0
      },
      "text/plain": [
       "Canvas(toolbar=Toolbar(toolitems=[('Home', 'Reset original view', 'home', 'home'), ('Back', 'Back to previous …"
      ]
     },
     "metadata": {},
     "output_type": "display_data"
    },
    {
     "data": {
      "application/vnd.jupyter.widget-view+json": {
       "model_id": "8f8a2dd1368446c8b0ec035a0404af88",
       "version_major": 2,
       "version_minor": 0
      },
      "text/plain": [
       "Canvas(toolbar=Toolbar(toolitems=[('Home', 'Reset original view', 'home', 'home'), ('Back', 'Back to previous …"
      ]
     },
     "metadata": {},
     "output_type": "display_data"
    },
    {
     "data": {
      "application/vnd.jupyter.widget-view+json": {
       "model_id": "3ae936f7c9c148168d4f91124bd09552",
       "version_major": 2,
       "version_minor": 0
      },
      "text/plain": [
       "Canvas(toolbar=Toolbar(toolitems=[('Home', 'Reset original view', 'home', 'home'), ('Back', 'Back to previous …"
      ]
     },
     "metadata": {},
     "output_type": "display_data"
    },
    {
     "data": {
      "application/vnd.jupyter.widget-view+json": {
       "model_id": "7c4677b086794438a1406f30b9cbb050",
       "version_major": 2,
       "version_minor": 0
      },
      "text/plain": [
       "Canvas(toolbar=Toolbar(toolitems=[('Home', 'Reset original view', 'home', 'home'), ('Back', 'Back to previous …"
      ]
     },
     "metadata": {},
     "output_type": "display_data"
    },
    {
     "data": {
      "application/vnd.jupyter.widget-view+json": {
       "model_id": "7de7faf119d8411ba0b20b32e692c808",
       "version_major": 2,
       "version_minor": 0
      },
      "text/plain": [
       "Canvas(toolbar=Toolbar(toolitems=[('Home', 'Reset original view', 'home', 'home'), ('Back', 'Back to previous …"
      ]
     },
     "metadata": {},
     "output_type": "display_data"
    },
    {
     "data": {
      "application/vnd.jupyter.widget-view+json": {
       "model_id": "110ccdd105bd4073b7ec43938d471f95",
       "version_major": 2,
       "version_minor": 0
      },
      "text/plain": [
       "Canvas(toolbar=Toolbar(toolitems=[('Home', 'Reset original view', 'home', 'home'), ('Back', 'Back to previous …"
      ]
     },
     "metadata": {},
     "output_type": "display_data"
    },
    {
     "data": {
      "application/vnd.jupyter.widget-view+json": {
       "model_id": "ef3812c690144df393e8bcff11292435",
       "version_major": 2,
       "version_minor": 0
      },
      "text/plain": [
       "Canvas(toolbar=Toolbar(toolitems=[('Home', 'Reset original view', 'home', 'home'), ('Back', 'Back to previous …"
      ]
     },
     "metadata": {},
     "output_type": "display_data"
    },
    {
     "data": {
      "application/vnd.jupyter.widget-view+json": {
       "model_id": "80452094568248148b53973fa1ed786b",
       "version_major": 2,
       "version_minor": 0
      },
      "text/plain": [
       "Canvas(toolbar=Toolbar(toolitems=[('Home', 'Reset original view', 'home', 'home'), ('Back', 'Back to previous …"
      ]
     },
     "metadata": {},
     "output_type": "display_data"
    },
    {
     "data": {
      "application/vnd.jupyter.widget-view+json": {
       "model_id": "64b8d3bb61ff460d9dbf2f5161f5bddb",
       "version_major": 2,
       "version_minor": 0
      },
      "text/plain": [
       "Canvas(toolbar=Toolbar(toolitems=[('Home', 'Reset original view', 'home', 'home'), ('Back', 'Back to previous …"
      ]
     },
     "metadata": {},
     "output_type": "display_data"
    },
    {
     "data": {
      "application/vnd.jupyter.widget-view+json": {
       "model_id": "6bca398eb8a84ac7b8d7b208400d6adf",
       "version_major": 2,
       "version_minor": 0
      },
      "text/plain": [
       "Canvas(toolbar=Toolbar(toolitems=[('Home', 'Reset original view', 'home', 'home'), ('Back', 'Back to previous …"
      ]
     },
     "metadata": {},
     "output_type": "display_data"
    },
    {
     "data": {
      "application/vnd.jupyter.widget-view+json": {
       "model_id": "0d53679d54744e44af77aba572b49f08",
       "version_major": 2,
       "version_minor": 0
      },
      "text/plain": [
       "Canvas(toolbar=Toolbar(toolitems=[('Home', 'Reset original view', 'home', 'home'), ('Back', 'Back to previous …"
      ]
     },
     "metadata": {},
     "output_type": "display_data"
    },
    {
     "data": {
      "application/vnd.jupyter.widget-view+json": {
       "model_id": "1dbfaf6d3518448093868d0e6d934354",
       "version_major": 2,
       "version_minor": 0
      },
      "text/plain": [
       "Canvas(toolbar=Toolbar(toolitems=[('Home', 'Reset original view', 'home', 'home'), ('Back', 'Back to previous …"
      ]
     },
     "metadata": {},
     "output_type": "display_data"
    },
    {
     "data": {
      "application/vnd.jupyter.widget-view+json": {
       "model_id": "8cea92e756dc4c9d823950a43a2153ab",
       "version_major": 2,
       "version_minor": 0
      },
      "text/plain": [
       "Canvas(toolbar=Toolbar(toolitems=[('Home', 'Reset original view', 'home', 'home'), ('Back', 'Back to previous …"
      ]
     },
     "metadata": {},
     "output_type": "display_data"
    },
    {
     "data": {
      "application/vnd.jupyter.widget-view+json": {
       "model_id": "6ba0300ace1c464eb1e1ddb9d59180c2",
       "version_major": 2,
       "version_minor": 0
      },
      "text/plain": [
       "Canvas(toolbar=Toolbar(toolitems=[('Home', 'Reset original view', 'home', 'home'), ('Back', 'Back to previous …"
      ]
     },
     "metadata": {},
     "output_type": "display_data"
    },
    {
     "data": {
      "application/vnd.jupyter.widget-view+json": {
       "model_id": "dc44d95c06434dcb978e0772c7e7b937",
       "version_major": 2,
       "version_minor": 0
      },
      "text/plain": [
       "Canvas(toolbar=Toolbar(toolitems=[('Home', 'Reset original view', 'home', 'home'), ('Back', 'Back to previous …"
      ]
     },
     "metadata": {},
     "output_type": "display_data"
    },
    {
     "data": {
      "application/vnd.jupyter.widget-view+json": {
       "model_id": "ea9bd16936b249faa4dbe7f6b9870db7",
       "version_major": 2,
       "version_minor": 0
      },
      "text/plain": [
       "Canvas(toolbar=Toolbar(toolitems=[('Home', 'Reset original view', 'home', 'home'), ('Back', 'Back to previous …"
      ]
     },
     "metadata": {},
     "output_type": "display_data"
    },
    {
     "data": {
      "application/vnd.jupyter.widget-view+json": {
       "model_id": "b7f1f14f34d4467fbf54cf374b309a47",
       "version_major": 2,
       "version_minor": 0
      },
      "text/plain": [
       "Canvas(toolbar=Toolbar(toolitems=[('Home', 'Reset original view', 'home', 'home'), ('Back', 'Back to previous …"
      ]
     },
     "metadata": {},
     "output_type": "display_data"
    },
    {
     "data": {
      "application/vnd.jupyter.widget-view+json": {
       "model_id": "6ab974f91e4649ca8403b583998b8090",
       "version_major": 2,
       "version_minor": 0
      },
      "text/plain": [
       "Canvas(toolbar=Toolbar(toolitems=[('Home', 'Reset original view', 'home', 'home'), ('Back', 'Back to previous …"
      ]
     },
     "metadata": {},
     "output_type": "display_data"
    },
    {
     "data": {
      "application/vnd.jupyter.widget-view+json": {
       "model_id": "febb7ddfa13b4a6c8e276e01aebb6428",
       "version_major": 2,
       "version_minor": 0
      },
      "text/plain": [
       "Canvas(toolbar=Toolbar(toolitems=[('Home', 'Reset original view', 'home', 'home'), ('Back', 'Back to previous …"
      ]
     },
     "metadata": {},
     "output_type": "display_data"
    },
    {
     "data": {
      "application/vnd.jupyter.widget-view+json": {
       "model_id": "dfb6589a7e0246ba96e62962ebf267c5",
       "version_major": 2,
       "version_minor": 0
      },
      "text/plain": [
       "Canvas(toolbar=Toolbar(toolitems=[('Home', 'Reset original view', 'home', 'home'), ('Back', 'Back to previous …"
      ]
     },
     "metadata": {},
     "output_type": "display_data"
    },
    {
     "data": {
      "application/vnd.jupyter.widget-view+json": {
       "model_id": "dd2153f08dde47c2bea9cc8f2ab7fa4d",
       "version_major": 2,
       "version_minor": 0
      },
      "text/plain": [
       "Canvas(toolbar=Toolbar(toolitems=[('Home', 'Reset original view', 'home', 'home'), ('Back', 'Back to previous …"
      ]
     },
     "metadata": {},
     "output_type": "display_data"
    },
    {
     "data": {
      "application/vnd.jupyter.widget-view+json": {
       "model_id": "5cd8ca4e54fe4fb3a3ddd570af7d7fd8",
       "version_major": 2,
       "version_minor": 0
      },
      "text/plain": [
       "Canvas(toolbar=Toolbar(toolitems=[('Home', 'Reset original view', 'home', 'home'), ('Back', 'Back to previous …"
      ]
     },
     "metadata": {},
     "output_type": "display_data"
    },
    {
     "data": {
      "application/vnd.jupyter.widget-view+json": {
       "model_id": "19c4ec345c7e4374bb9f165095814a1d",
       "version_major": 2,
       "version_minor": 0
      },
      "text/plain": [
       "Canvas(toolbar=Toolbar(toolitems=[('Home', 'Reset original view', 'home', 'home'), ('Back', 'Back to previous …"
      ]
     },
     "metadata": {},
     "output_type": "display_data"
    },
    {
     "data": {
      "application/vnd.jupyter.widget-view+json": {
       "model_id": "d60fe23aee884d3b88b834cb2238afb4",
       "version_major": 2,
       "version_minor": 0
      },
      "text/plain": [
       "Canvas(toolbar=Toolbar(toolitems=[('Home', 'Reset original view', 'home', 'home'), ('Back', 'Back to previous …"
      ]
     },
     "metadata": {},
     "output_type": "display_data"
    },
    {
     "data": {
      "application/vnd.jupyter.widget-view+json": {
       "model_id": "37ce23fc733c4b36a51a85cbc9b2e7a2",
       "version_major": 2,
       "version_minor": 0
      },
      "text/plain": [
       "Canvas(toolbar=Toolbar(toolitems=[('Home', 'Reset original view', 'home', 'home'), ('Back', 'Back to previous …"
      ]
     },
     "metadata": {},
     "output_type": "display_data"
    },
    {
     "data": {
      "application/vnd.jupyter.widget-view+json": {
       "model_id": "3de8eab7229e4b2ea1a397c35f714be2",
       "version_major": 2,
       "version_minor": 0
      },
      "text/plain": [
       "Canvas(toolbar=Toolbar(toolitems=[('Home', 'Reset original view', 'home', 'home'), ('Back', 'Back to previous …"
      ]
     },
     "metadata": {},
     "output_type": "display_data"
    },
    {
     "data": {
      "application/vnd.jupyter.widget-view+json": {
       "model_id": "2a35615941884bce9f12806b0e15a15d",
       "version_major": 2,
       "version_minor": 0
      },
      "text/plain": [
       "Canvas(toolbar=Toolbar(toolitems=[('Home', 'Reset original view', 'home', 'home'), ('Back', 'Back to previous …"
      ]
     },
     "metadata": {},
     "output_type": "display_data"
    },
    {
     "data": {
      "application/vnd.jupyter.widget-view+json": {
       "model_id": "dc681ceeecd84ee882d3dc52c82877fb",
       "version_major": 2,
       "version_minor": 0
      },
      "text/plain": [
       "Canvas(toolbar=Toolbar(toolitems=[('Home', 'Reset original view', 'home', 'home'), ('Back', 'Back to previous …"
      ]
     },
     "metadata": {},
     "output_type": "display_data"
    },
    {
     "data": {
      "application/vnd.jupyter.widget-view+json": {
       "model_id": "3a086d64acf1475a852b04dd35799450",
       "version_major": 2,
       "version_minor": 0
      },
      "text/plain": [
       "Canvas(toolbar=Toolbar(toolitems=[('Home', 'Reset original view', 'home', 'home'), ('Back', 'Back to previous …"
      ]
     },
     "metadata": {},
     "output_type": "display_data"
    },
    {
     "data": {
      "application/vnd.jupyter.widget-view+json": {
       "model_id": "1f45b3c37134496787e5b85e4a5cb776",
       "version_major": 2,
       "version_minor": 0
      },
      "text/plain": [
       "Canvas(toolbar=Toolbar(toolitems=[('Home', 'Reset original view', 'home', 'home'), ('Back', 'Back to previous …"
      ]
     },
     "metadata": {},
     "output_type": "display_data"
    },
    {
     "data": {
      "application/vnd.jupyter.widget-view+json": {
       "model_id": "41b7c099efc34a658c31fe184a9f983f",
       "version_major": 2,
       "version_minor": 0
      },
      "text/plain": [
       "Canvas(toolbar=Toolbar(toolitems=[('Home', 'Reset original view', 'home', 'home'), ('Back', 'Back to previous …"
      ]
     },
     "metadata": {},
     "output_type": "display_data"
    },
    {
     "data": {
      "application/vnd.jupyter.widget-view+json": {
       "model_id": "d0d8971aeceb463580392d4df31720d6",
       "version_major": 2,
       "version_minor": 0
      },
      "text/plain": [
       "Canvas(toolbar=Toolbar(toolitems=[('Home', 'Reset original view', 'home', 'home'), ('Back', 'Back to previous …"
      ]
     },
     "metadata": {},
     "output_type": "display_data"
    },
    {
     "data": {
      "application/vnd.jupyter.widget-view+json": {
       "model_id": "a64ffb5161c9409092d9ac21d70292f1",
       "version_major": 2,
       "version_minor": 0
      },
      "text/plain": [
       "Canvas(toolbar=Toolbar(toolitems=[('Home', 'Reset original view', 'home', 'home'), ('Back', 'Back to previous …"
      ]
     },
     "metadata": {},
     "output_type": "display_data"
    },
    {
     "data": {
      "application/vnd.jupyter.widget-view+json": {
       "model_id": "89b7681ce2534fd0a6e953d44bba9998",
       "version_major": 2,
       "version_minor": 0
      },
      "text/plain": [
       "Canvas(toolbar=Toolbar(toolitems=[('Home', 'Reset original view', 'home', 'home'), ('Back', 'Back to previous …"
      ]
     },
     "metadata": {},
     "output_type": "display_data"
    },
    {
     "data": {
      "application/vnd.jupyter.widget-view+json": {
       "model_id": "408aeb45b3954f7694064ba76a33726a",
       "version_major": 2,
       "version_minor": 0
      },
      "text/plain": [
       "Canvas(toolbar=Toolbar(toolitems=[('Home', 'Reset original view', 'home', 'home'), ('Back', 'Back to previous …"
      ]
     },
     "metadata": {},
     "output_type": "display_data"
    },
    {
     "data": {
      "application/vnd.jupyter.widget-view+json": {
       "model_id": "2ffb7dbd3ea74cedb762940f217665ea",
       "version_major": 2,
       "version_minor": 0
      },
      "text/plain": [
       "Canvas(toolbar=Toolbar(toolitems=[('Home', 'Reset original view', 'home', 'home'), ('Back', 'Back to previous …"
      ]
     },
     "metadata": {},
     "output_type": "display_data"
    },
    {
     "data": {
      "application/vnd.jupyter.widget-view+json": {
       "model_id": "26bfb40e134942c68873522fb7e83fc4",
       "version_major": 2,
       "version_minor": 0
      },
      "text/plain": [
       "Canvas(toolbar=Toolbar(toolitems=[('Home', 'Reset original view', 'home', 'home'), ('Back', 'Back to previous …"
      ]
     },
     "metadata": {},
     "output_type": "display_data"
    },
    {
     "data": {
      "application/vnd.jupyter.widget-view+json": {
       "model_id": "dd8559cd949e4843b8c2f1d43ba16d2c",
       "version_major": 2,
       "version_minor": 0
      },
      "text/plain": [
       "Canvas(toolbar=Toolbar(toolitems=[('Home', 'Reset original view', 'home', 'home'), ('Back', 'Back to previous …"
      ]
     },
     "metadata": {},
     "output_type": "display_data"
    },
    {
     "data": {
      "application/vnd.jupyter.widget-view+json": {
       "model_id": "ec8d49a85a18406a9b3a1313f8ac7e12",
       "version_major": 2,
       "version_minor": 0
      },
      "text/plain": [
       "Canvas(toolbar=Toolbar(toolitems=[('Home', 'Reset original view', 'home', 'home'), ('Back', 'Back to previous …"
      ]
     },
     "metadata": {},
     "output_type": "display_data"
    },
    {
     "data": {
      "application/vnd.jupyter.widget-view+json": {
       "model_id": "90bb62bada8a420e99ce264037288307",
       "version_major": 2,
       "version_minor": 0
      },
      "text/plain": [
       "Canvas(toolbar=Toolbar(toolitems=[('Home', 'Reset original view', 'home', 'home'), ('Back', 'Back to previous …"
      ]
     },
     "metadata": {},
     "output_type": "display_data"
    },
    {
     "data": {
      "application/vnd.jupyter.widget-view+json": {
       "model_id": "8edf7712fb9d4626921b9c924e476288",
       "version_major": 2,
       "version_minor": 0
      },
      "text/plain": [
       "Canvas(toolbar=Toolbar(toolitems=[('Home', 'Reset original view', 'home', 'home'), ('Back', 'Back to previous …"
      ]
     },
     "metadata": {},
     "output_type": "display_data"
    },
    {
     "data": {
      "application/vnd.jupyter.widget-view+json": {
       "model_id": "b65a6183a4aa48c9a2fb7a40810110e4",
       "version_major": 2,
       "version_minor": 0
      },
      "text/plain": [
       "Canvas(toolbar=Toolbar(toolitems=[('Home', 'Reset original view', 'home', 'home'), ('Back', 'Back to previous …"
      ]
     },
     "metadata": {},
     "output_type": "display_data"
    },
    {
     "data": {
      "application/vnd.jupyter.widget-view+json": {
       "model_id": "2dab9548cf044341a8936638512caa42",
       "version_major": 2,
       "version_minor": 0
      },
      "text/plain": [
       "Canvas(toolbar=Toolbar(toolitems=[('Home', 'Reset original view', 'home', 'home'), ('Back', 'Back to previous …"
      ]
     },
     "metadata": {},
     "output_type": "display_data"
    },
    {
     "data": {
      "application/vnd.jupyter.widget-view+json": {
       "model_id": "bbb16424f55745c8b946230dbb0c4b62",
       "version_major": 2,
       "version_minor": 0
      },
      "text/plain": [
       "Canvas(toolbar=Toolbar(toolitems=[('Home', 'Reset original view', 'home', 'home'), ('Back', 'Back to previous …"
      ]
     },
     "metadata": {},
     "output_type": "display_data"
    },
    {
     "data": {
      "application/vnd.jupyter.widget-view+json": {
       "model_id": "e40210eb3d5e4890aefaa4b08c249dd8",
       "version_major": 2,
       "version_minor": 0
      },
      "text/plain": [
       "Canvas(toolbar=Toolbar(toolitems=[('Home', 'Reset original view', 'home', 'home'), ('Back', 'Back to previous …"
      ]
     },
     "metadata": {},
     "output_type": "display_data"
    },
    {
     "data": {
      "application/vnd.jupyter.widget-view+json": {
       "model_id": "de9047dc0a87469db125b787e94650bd",
       "version_major": 2,
       "version_minor": 0
      },
      "text/plain": [
       "Canvas(toolbar=Toolbar(toolitems=[('Home', 'Reset original view', 'home', 'home'), ('Back', 'Back to previous …"
      ]
     },
     "metadata": {},
     "output_type": "display_data"
    },
    {
     "data": {
      "application/vnd.jupyter.widget-view+json": {
       "model_id": "dc2f237531a64466b009b617a90033f6",
       "version_major": 2,
       "version_minor": 0
      },
      "text/plain": [
       "Canvas(toolbar=Toolbar(toolitems=[('Home', 'Reset original view', 'home', 'home'), ('Back', 'Back to previous …"
      ]
     },
     "metadata": {},
     "output_type": "display_data"
    },
    {
     "data": {
      "application/vnd.jupyter.widget-view+json": {
       "model_id": "12d0d614dcba498484e6a6f6a3fbae62",
       "version_major": 2,
       "version_minor": 0
      },
      "text/plain": [
       "Canvas(toolbar=Toolbar(toolitems=[('Home', 'Reset original view', 'home', 'home'), ('Back', 'Back to previous …"
      ]
     },
     "metadata": {},
     "output_type": "display_data"
    },
    {
     "data": {
      "application/vnd.jupyter.widget-view+json": {
       "model_id": "67d898bfbf614800bf4579afba60be28",
       "version_major": 2,
       "version_minor": 0
      },
      "text/plain": [
       "Canvas(toolbar=Toolbar(toolitems=[('Home', 'Reset original view', 'home', 'home'), ('Back', 'Back to previous …"
      ]
     },
     "metadata": {},
     "output_type": "display_data"
    },
    {
     "data": {
      "application/vnd.jupyter.widget-view+json": {
       "model_id": "ea8fc7638789466badb74462868ab704",
       "version_major": 2,
       "version_minor": 0
      },
      "text/plain": [
       "Canvas(toolbar=Toolbar(toolitems=[('Home', 'Reset original view', 'home', 'home'), ('Back', 'Back to previous …"
      ]
     },
     "metadata": {},
     "output_type": "display_data"
    },
    {
     "data": {
      "application/vnd.jupyter.widget-view+json": {
       "model_id": "019b8a4760684912aed03240daed7283",
       "version_major": 2,
       "version_minor": 0
      },
      "text/plain": [
       "Canvas(toolbar=Toolbar(toolitems=[('Home', 'Reset original view', 'home', 'home'), ('Back', 'Back to previous …"
      ]
     },
     "metadata": {},
     "output_type": "display_data"
    },
    {
     "data": {
      "application/vnd.jupyter.widget-view+json": {
       "model_id": "47f54026ee0c4a98b73e5413c9dded49",
       "version_major": 2,
       "version_minor": 0
      },
      "text/plain": [
       "Canvas(toolbar=Toolbar(toolitems=[('Home', 'Reset original view', 'home', 'home'), ('Back', 'Back to previous …"
      ]
     },
     "metadata": {},
     "output_type": "display_data"
    },
    {
     "data": {
      "application/vnd.jupyter.widget-view+json": {
       "model_id": "9cfcb00b8e1c4098a295e177b92be3d0",
       "version_major": 2,
       "version_minor": 0
      },
      "text/plain": [
       "Canvas(toolbar=Toolbar(toolitems=[('Home', 'Reset original view', 'home', 'home'), ('Back', 'Back to previous …"
      ]
     },
     "metadata": {},
     "output_type": "display_data"
    },
    {
     "data": {
      "application/vnd.jupyter.widget-view+json": {
       "model_id": "8b65bacac0414d5aa1dfcff41966f7f4",
       "version_major": 2,
       "version_minor": 0
      },
      "text/plain": [
       "Canvas(toolbar=Toolbar(toolitems=[('Home', 'Reset original view', 'home', 'home'), ('Back', 'Back to previous …"
      ]
     },
     "metadata": {},
     "output_type": "display_data"
    },
    {
     "data": {
      "application/vnd.jupyter.widget-view+json": {
       "model_id": "312d115ea3004821b277f3f0bf1ab617",
       "version_major": 2,
       "version_minor": 0
      },
      "text/plain": [
       "Canvas(toolbar=Toolbar(toolitems=[('Home', 'Reset original view', 'home', 'home'), ('Back', 'Back to previous …"
      ]
     },
     "metadata": {},
     "output_type": "display_data"
    },
    {
     "data": {
      "application/vnd.jupyter.widget-view+json": {
       "model_id": "15da7b1401ca477fb26945ddcc7a50ab",
       "version_major": 2,
       "version_minor": 0
      },
      "text/plain": [
       "Canvas(toolbar=Toolbar(toolitems=[('Home', 'Reset original view', 'home', 'home'), ('Back', 'Back to previous …"
      ]
     },
     "metadata": {},
     "output_type": "display_data"
    },
    {
     "data": {
      "application/vnd.jupyter.widget-view+json": {
       "model_id": "37b5ce1c5cd949429ee1d99951188f31",
       "version_major": 2,
       "version_minor": 0
      },
      "text/plain": [
       "Canvas(toolbar=Toolbar(toolitems=[('Home', 'Reset original view', 'home', 'home'), ('Back', 'Back to previous …"
      ]
     },
     "metadata": {},
     "output_type": "display_data"
    },
    {
     "data": {
      "application/vnd.jupyter.widget-view+json": {
       "model_id": "65c1b7af4205485bad20a986c06c222c",
       "version_major": 2,
       "version_minor": 0
      },
      "text/plain": [
       "Canvas(toolbar=Toolbar(toolitems=[('Home', 'Reset original view', 'home', 'home'), ('Back', 'Back to previous …"
      ]
     },
     "metadata": {},
     "output_type": "display_data"
    },
    {
     "data": {
      "application/vnd.jupyter.widget-view+json": {
       "model_id": "aa4580a787d24cdc86a609145593bf18",
       "version_major": 2,
       "version_minor": 0
      },
      "text/plain": [
       "Canvas(toolbar=Toolbar(toolitems=[('Home', 'Reset original view', 'home', 'home'), ('Back', 'Back to previous …"
      ]
     },
     "metadata": {},
     "output_type": "display_data"
    },
    {
     "data": {
      "application/vnd.jupyter.widget-view+json": {
       "model_id": "f59711dd651b41a6945a9bf126dfbbdf",
       "version_major": 2,
       "version_minor": 0
      },
      "text/plain": [
       "Canvas(toolbar=Toolbar(toolitems=[('Home', 'Reset original view', 'home', 'home'), ('Back', 'Back to previous …"
      ]
     },
     "metadata": {},
     "output_type": "display_data"
    },
    {
     "data": {
      "application/vnd.jupyter.widget-view+json": {
       "model_id": "9a066b80651b4bd0aebae635a31fd0e8",
       "version_major": 2,
       "version_minor": 0
      },
      "text/plain": [
       "Canvas(toolbar=Toolbar(toolitems=[('Home', 'Reset original view', 'home', 'home'), ('Back', 'Back to previous …"
      ]
     },
     "metadata": {},
     "output_type": "display_data"
    },
    {
     "data": {
      "application/vnd.jupyter.widget-view+json": {
       "model_id": "9517c7bedc574d25b28a42d2a431dc1a",
       "version_major": 2,
       "version_minor": 0
      },
      "text/plain": [
       "Canvas(toolbar=Toolbar(toolitems=[('Home', 'Reset original view', 'home', 'home'), ('Back', 'Back to previous …"
      ]
     },
     "metadata": {},
     "output_type": "display_data"
    },
    {
     "data": {
      "application/vnd.jupyter.widget-view+json": {
       "model_id": "b1765689d6cd440ebf0b9aeab52f117a",
       "version_major": 2,
       "version_minor": 0
      },
      "text/plain": [
       "Canvas(toolbar=Toolbar(toolitems=[('Home', 'Reset original view', 'home', 'home'), ('Back', 'Back to previous …"
      ]
     },
     "metadata": {},
     "output_type": "display_data"
    },
    {
     "data": {
      "application/vnd.jupyter.widget-view+json": {
       "model_id": "c53af075479c4201bb24fe995d71388e",
       "version_major": 2,
       "version_minor": 0
      },
      "text/plain": [
       "Canvas(toolbar=Toolbar(toolitems=[('Home', 'Reset original view', 'home', 'home'), ('Back', 'Back to previous …"
      ]
     },
     "metadata": {},
     "output_type": "display_data"
    },
    {
     "data": {
      "application/vnd.jupyter.widget-view+json": {
       "model_id": "756dc87427634de98482ed42cb29a778",
       "version_major": 2,
       "version_minor": 0
      },
      "text/plain": [
       "Canvas(toolbar=Toolbar(toolitems=[('Home', 'Reset original view', 'home', 'home'), ('Back', 'Back to previous …"
      ]
     },
     "metadata": {},
     "output_type": "display_data"
    },
    {
     "data": {
      "application/vnd.jupyter.widget-view+json": {
       "model_id": "a984a001c7e24c31a15d2e7b6e58f133",
       "version_major": 2,
       "version_minor": 0
      },
      "text/plain": [
       "Canvas(toolbar=Toolbar(toolitems=[('Home', 'Reset original view', 'home', 'home'), ('Back', 'Back to previous …"
      ]
     },
     "metadata": {},
     "output_type": "display_data"
    },
    {
     "data": {
      "application/vnd.jupyter.widget-view+json": {
       "model_id": "7f1157bf9a8f49c498e42e48dfeec414",
       "version_major": 2,
       "version_minor": 0
      },
      "text/plain": [
       "Canvas(toolbar=Toolbar(toolitems=[('Home', 'Reset original view', 'home', 'home'), ('Back', 'Back to previous …"
      ]
     },
     "metadata": {},
     "output_type": "display_data"
    },
    {
     "data": {
      "application/vnd.jupyter.widget-view+json": {
       "model_id": "76af02740c2d457aa7525b584d69eeea",
       "version_major": 2,
       "version_minor": 0
      },
      "text/plain": [
       "Canvas(toolbar=Toolbar(toolitems=[('Home', 'Reset original view', 'home', 'home'), ('Back', 'Back to previous …"
      ]
     },
     "metadata": {},
     "output_type": "display_data"
    },
    {
     "data": {
      "application/vnd.jupyter.widget-view+json": {
       "model_id": "3c7c63d31d3f43768bebc1620653a759",
       "version_major": 2,
       "version_minor": 0
      },
      "text/plain": [
       "Canvas(toolbar=Toolbar(toolitems=[('Home', 'Reset original view', 'home', 'home'), ('Back', 'Back to previous …"
      ]
     },
     "metadata": {},
     "output_type": "display_data"
    },
    {
     "data": {
      "application/vnd.jupyter.widget-view+json": {
       "model_id": "e6d75e3848c84bf7acdfda9bf2598e9c",
       "version_major": 2,
       "version_minor": 0
      },
      "text/plain": [
       "Canvas(toolbar=Toolbar(toolitems=[('Home', 'Reset original view', 'home', 'home'), ('Back', 'Back to previous …"
      ]
     },
     "metadata": {},
     "output_type": "display_data"
    },
    {
     "data": {
      "application/vnd.jupyter.widget-view+json": {
       "model_id": "990cb88a1d744612a0a8afbb1f73a850",
       "version_major": 2,
       "version_minor": 0
      },
      "text/plain": [
       "Canvas(toolbar=Toolbar(toolitems=[('Home', 'Reset original view', 'home', 'home'), ('Back', 'Back to previous …"
      ]
     },
     "metadata": {},
     "output_type": "display_data"
    },
    {
     "data": {
      "application/vnd.jupyter.widget-view+json": {
       "model_id": "b7fe0094d6864ba294472a54107437a0",
       "version_major": 2,
       "version_minor": 0
      },
      "text/plain": [
       "Canvas(toolbar=Toolbar(toolitems=[('Home', 'Reset original view', 'home', 'home'), ('Back', 'Back to previous …"
      ]
     },
     "metadata": {},
     "output_type": "display_data"
    },
    {
     "data": {
      "application/vnd.jupyter.widget-view+json": {
       "model_id": "c5b3608823b14b04a991fc49361adc1c",
       "version_major": 2,
       "version_minor": 0
      },
      "text/plain": [
       "Canvas(toolbar=Toolbar(toolitems=[('Home', 'Reset original view', 'home', 'home'), ('Back', 'Back to previous …"
      ]
     },
     "metadata": {},
     "output_type": "display_data"
    },
    {
     "data": {
      "application/vnd.jupyter.widget-view+json": {
       "model_id": "4b04e924f5ef42cd86f665d959f87955",
       "version_major": 2,
       "version_minor": 0
      },
      "text/plain": [
       "Canvas(toolbar=Toolbar(toolitems=[('Home', 'Reset original view', 'home', 'home'), ('Back', 'Back to previous …"
      ]
     },
     "metadata": {},
     "output_type": "display_data"
    },
    {
     "data": {
      "application/vnd.jupyter.widget-view+json": {
       "model_id": "9f51db98b0284bbdb56837ef6794525f",
       "version_major": 2,
       "version_minor": 0
      },
      "text/plain": [
       "Canvas(toolbar=Toolbar(toolitems=[('Home', 'Reset original view', 'home', 'home'), ('Back', 'Back to previous …"
      ]
     },
     "metadata": {},
     "output_type": "display_data"
    },
    {
     "data": {
      "application/vnd.jupyter.widget-view+json": {
       "model_id": "d882057ee1ed4c27aa06cd45131a81f5",
       "version_major": 2,
       "version_minor": 0
      },
      "text/plain": [
       "Canvas(toolbar=Toolbar(toolitems=[('Home', 'Reset original view', 'home', 'home'), ('Back', 'Back to previous …"
      ]
     },
     "metadata": {},
     "output_type": "display_data"
    },
    {
     "data": {
      "application/vnd.jupyter.widget-view+json": {
       "model_id": "73a27a00b69740e69d6e40967b97ddeb",
       "version_major": 2,
       "version_minor": 0
      },
      "text/plain": [
       "Canvas(toolbar=Toolbar(toolitems=[('Home', 'Reset original view', 'home', 'home'), ('Back', 'Back to previous …"
      ]
     },
     "metadata": {},
     "output_type": "display_data"
    },
    {
     "data": {
      "application/vnd.jupyter.widget-view+json": {
       "model_id": "47cede6ca4e547a48824d0cd2d0cc6d1",
       "version_major": 2,
       "version_minor": 0
      },
      "text/plain": [
       "Canvas(toolbar=Toolbar(toolitems=[('Home', 'Reset original view', 'home', 'home'), ('Back', 'Back to previous …"
      ]
     },
     "metadata": {},
     "output_type": "display_data"
    },
    {
     "data": {
      "application/vnd.jupyter.widget-view+json": {
       "model_id": "c55b858b739e4700a96db21d7c74203e",
       "version_major": 2,
       "version_minor": 0
      },
      "text/plain": [
       "Canvas(toolbar=Toolbar(toolitems=[('Home', 'Reset original view', 'home', 'home'), ('Back', 'Back to previous …"
      ]
     },
     "metadata": {},
     "output_type": "display_data"
    },
    {
     "data": {
      "application/vnd.jupyter.widget-view+json": {
       "model_id": "23c88d42302149f795167c09159730d3",
       "version_major": 2,
       "version_minor": 0
      },
      "text/plain": [
       "Canvas(toolbar=Toolbar(toolitems=[('Home', 'Reset original view', 'home', 'home'), ('Back', 'Back to previous …"
      ]
     },
     "metadata": {},
     "output_type": "display_data"
    },
    {
     "data": {
      "application/vnd.jupyter.widget-view+json": {
       "model_id": "12ebd02747d9462f8cbaf92cd899c2de",
       "version_major": 2,
       "version_minor": 0
      },
      "text/plain": [
       "Canvas(toolbar=Toolbar(toolitems=[('Home', 'Reset original view', 'home', 'home'), ('Back', 'Back to previous …"
      ]
     },
     "metadata": {},
     "output_type": "display_data"
    },
    {
     "data": {
      "application/vnd.jupyter.widget-view+json": {
       "model_id": "8113bc13cd4c4e98a6ad91d58eb1d65c",
       "version_major": 2,
       "version_minor": 0
      },
      "text/plain": [
       "Canvas(toolbar=Toolbar(toolitems=[('Home', 'Reset original view', 'home', 'home'), ('Back', 'Back to previous …"
      ]
     },
     "metadata": {},
     "output_type": "display_data"
    },
    {
     "data": {
      "application/vnd.jupyter.widget-view+json": {
       "model_id": "39a04d999b3b46498d306bd3edea2e11",
       "version_major": 2,
       "version_minor": 0
      },
      "text/plain": [
       "Canvas(toolbar=Toolbar(toolitems=[('Home', 'Reset original view', 'home', 'home'), ('Back', 'Back to previous …"
      ]
     },
     "metadata": {},
     "output_type": "display_data"
    },
    {
     "data": {
      "application/vnd.jupyter.widget-view+json": {
       "model_id": "6ef4b0582ac44dab8b889ac89a391649",
       "version_major": 2,
       "version_minor": 0
      },
      "text/plain": [
       "Canvas(toolbar=Toolbar(toolitems=[('Home', 'Reset original view', 'home', 'home'), ('Back', 'Back to previous …"
      ]
     },
     "metadata": {},
     "output_type": "display_data"
    },
    {
     "data": {
      "application/vnd.jupyter.widget-view+json": {
       "model_id": "11e83f8fb54c48509206bd6d1dfd4004",
       "version_major": 2,
       "version_minor": 0
      },
      "text/plain": [
       "Canvas(toolbar=Toolbar(toolitems=[('Home', 'Reset original view', 'home', 'home'), ('Back', 'Back to previous …"
      ]
     },
     "metadata": {},
     "output_type": "display_data"
    },
    {
     "data": {
      "application/vnd.jupyter.widget-view+json": {
       "model_id": "e5511a814c8242639fc6ff4319ca82b9",
       "version_major": 2,
       "version_minor": 0
      },
      "text/plain": [
       "Canvas(toolbar=Toolbar(toolitems=[('Home', 'Reset original view', 'home', 'home'), ('Back', 'Back to previous …"
      ]
     },
     "metadata": {},
     "output_type": "display_data"
    },
    {
     "data": {
      "application/vnd.jupyter.widget-view+json": {
       "model_id": "7775b24d942649fdb1080ecc337ca6f5",
       "version_major": 2,
       "version_minor": 0
      },
      "text/plain": [
       "Canvas(toolbar=Toolbar(toolitems=[('Home', 'Reset original view', 'home', 'home'), ('Back', 'Back to previous …"
      ]
     },
     "metadata": {},
     "output_type": "display_data"
    },
    {
     "data": {
      "application/vnd.jupyter.widget-view+json": {
       "model_id": "ca502609a1d14ffabce695d121d4b2bc",
       "version_major": 2,
       "version_minor": 0
      },
      "text/plain": [
       "Canvas(toolbar=Toolbar(toolitems=[('Home', 'Reset original view', 'home', 'home'), ('Back', 'Back to previous …"
      ]
     },
     "metadata": {},
     "output_type": "display_data"
    },
    {
     "data": {
      "application/vnd.jupyter.widget-view+json": {
       "model_id": "139f4412fc214b19bcc27c248aa426d2",
       "version_major": 2,
       "version_minor": 0
      },
      "text/plain": [
       "Canvas(toolbar=Toolbar(toolitems=[('Home', 'Reset original view', 'home', 'home'), ('Back', 'Back to previous …"
      ]
     },
     "metadata": {},
     "output_type": "display_data"
    },
    {
     "data": {
      "application/vnd.jupyter.widget-view+json": {
       "model_id": "72783657590548d29d8ac0c710857b19",
       "version_major": 2,
       "version_minor": 0
      },
      "text/plain": [
       "Canvas(toolbar=Toolbar(toolitems=[('Home', 'Reset original view', 'home', 'home'), ('Back', 'Back to previous …"
      ]
     },
     "metadata": {},
     "output_type": "display_data"
    },
    {
     "data": {
      "application/vnd.jupyter.widget-view+json": {
       "model_id": "c04c207627e14d4b951ab1fb3a5394bf",
       "version_major": 2,
       "version_minor": 0
      },
      "text/plain": [
       "Canvas(toolbar=Toolbar(toolitems=[('Home', 'Reset original view', 'home', 'home'), ('Back', 'Back to previous …"
      ]
     },
     "metadata": {},
     "output_type": "display_data"
    },
    {
     "data": {
      "application/vnd.jupyter.widget-view+json": {
       "model_id": "0f7f1a533e234aeabdc946f070ca0503",
       "version_major": 2,
       "version_minor": 0
      },
      "text/plain": [
       "Canvas(toolbar=Toolbar(toolitems=[('Home', 'Reset original view', 'home', 'home'), ('Back', 'Back to previous …"
      ]
     },
     "metadata": {},
     "output_type": "display_data"
    },
    {
     "data": {
      "application/vnd.jupyter.widget-view+json": {
       "model_id": "5ee76df6a5e143c1a26e9e09db440d4e",
       "version_major": 2,
       "version_minor": 0
      },
      "text/plain": [
       "Canvas(toolbar=Toolbar(toolitems=[('Home', 'Reset original view', 'home', 'home'), ('Back', 'Back to previous …"
      ]
     },
     "metadata": {},
     "output_type": "display_data"
    },
    {
     "data": {
      "application/vnd.jupyter.widget-view+json": {
       "model_id": "5cc7c77f42744a4784391423be69221c",
       "version_major": 2,
       "version_minor": 0
      },
      "text/plain": [
       "Canvas(toolbar=Toolbar(toolitems=[('Home', 'Reset original view', 'home', 'home'), ('Back', 'Back to previous …"
      ]
     },
     "metadata": {},
     "output_type": "display_data"
    },
    {
     "data": {
      "application/vnd.jupyter.widget-view+json": {
       "model_id": "ade7791e513d4a0c884d0f2ea70f9fcc",
       "version_major": 2,
       "version_minor": 0
      },
      "text/plain": [
       "Canvas(toolbar=Toolbar(toolitems=[('Home', 'Reset original view', 'home', 'home'), ('Back', 'Back to previous …"
      ]
     },
     "metadata": {},
     "output_type": "display_data"
    },
    {
     "data": {
      "application/vnd.jupyter.widget-view+json": {
       "model_id": "72ed439cfe8848ed9ad3d9db5aef3725",
       "version_major": 2,
       "version_minor": 0
      },
      "text/plain": [
       "Canvas(toolbar=Toolbar(toolitems=[('Home', 'Reset original view', 'home', 'home'), ('Back', 'Back to previous …"
      ]
     },
     "metadata": {},
     "output_type": "display_data"
    },
    {
     "data": {
      "application/vnd.jupyter.widget-view+json": {
       "model_id": "444e6bc3d1a041b5a0581bb8cbad69a6",
       "version_major": 2,
       "version_minor": 0
      },
      "text/plain": [
       "Canvas(toolbar=Toolbar(toolitems=[('Home', 'Reset original view', 'home', 'home'), ('Back', 'Back to previous …"
      ]
     },
     "metadata": {},
     "output_type": "display_data"
    },
    {
     "data": {
      "application/vnd.jupyter.widget-view+json": {
       "model_id": "bc406cc37e674ba4b8250cbf282cbbf4",
       "version_major": 2,
       "version_minor": 0
      },
      "text/plain": [
       "Canvas(toolbar=Toolbar(toolitems=[('Home', 'Reset original view', 'home', 'home'), ('Back', 'Back to previous …"
      ]
     },
     "metadata": {},
     "output_type": "display_data"
    },
    {
     "data": {
      "application/vnd.jupyter.widget-view+json": {
       "model_id": "784ac4e55870487ba82c280eeb78e82e",
       "version_major": 2,
       "version_minor": 0
      },
      "text/plain": [
       "Canvas(toolbar=Toolbar(toolitems=[('Home', 'Reset original view', 'home', 'home'), ('Back', 'Back to previous …"
      ]
     },
     "metadata": {},
     "output_type": "display_data"
    },
    {
     "data": {
      "application/vnd.jupyter.widget-view+json": {
       "model_id": "b1175ebeab3247d09c0c01e71af615fb",
       "version_major": 2,
       "version_minor": 0
      },
      "text/plain": [
       "Canvas(toolbar=Toolbar(toolitems=[('Home', 'Reset original view', 'home', 'home'), ('Back', 'Back to previous …"
      ]
     },
     "metadata": {},
     "output_type": "display_data"
    },
    {
     "data": {
      "application/vnd.jupyter.widget-view+json": {
       "model_id": "df87f196c6e046b289613c6cf1f22d69",
       "version_major": 2,
       "version_minor": 0
      },
      "text/plain": [
       "Canvas(toolbar=Toolbar(toolitems=[('Home', 'Reset original view', 'home', 'home'), ('Back', 'Back to previous …"
      ]
     },
     "metadata": {},
     "output_type": "display_data"
    },
    {
     "data": {
      "application/vnd.jupyter.widget-view+json": {
       "model_id": "4d861ff0ff9646708e08e29732bcd71e",
       "version_major": 2,
       "version_minor": 0
      },
      "text/plain": [
       "Canvas(toolbar=Toolbar(toolitems=[('Home', 'Reset original view', 'home', 'home'), ('Back', 'Back to previous …"
      ]
     },
     "metadata": {},
     "output_type": "display_data"
    },
    {
     "data": {
      "application/vnd.jupyter.widget-view+json": {
       "model_id": "912edb4c555b43b186d3baa59f7b461e",
       "version_major": 2,
       "version_minor": 0
      },
      "text/plain": [
       "Canvas(toolbar=Toolbar(toolitems=[('Home', 'Reset original view', 'home', 'home'), ('Back', 'Back to previous …"
      ]
     },
     "metadata": {},
     "output_type": "display_data"
    },
    {
     "data": {
      "application/vnd.jupyter.widget-view+json": {
       "model_id": "550341b3249e4db080fe6dd860aececd",
       "version_major": 2,
       "version_minor": 0
      },
      "text/plain": [
       "Canvas(toolbar=Toolbar(toolitems=[('Home', 'Reset original view', 'home', 'home'), ('Back', 'Back to previous …"
      ]
     },
     "metadata": {},
     "output_type": "display_data"
    },
    {
     "data": {
      "application/vnd.jupyter.widget-view+json": {
       "model_id": "21b9e930f3884825babf62f4cfe42568",
       "version_major": 2,
       "version_minor": 0
      },
      "text/plain": [
       "Canvas(toolbar=Toolbar(toolitems=[('Home', 'Reset original view', 'home', 'home'), ('Back', 'Back to previous …"
      ]
     },
     "metadata": {},
     "output_type": "display_data"
    }
   ],
   "source": [
    "for it,t in enumerate(np.arange(0,10,0.05)):    \n",
    "    ions95 = r2.GetParticles(t, [\"protons\", \"beam\"])\n",
    "    particles95 = finest_part_data(ions95)\n",
    "\n",
    "    plt.figure(figsize=(10,4))\n",
    "    plt.scatter(particles95[\"protons_domain\"].x,\n",
    "                particles95[\"protons_domain\"].v[:,0],\n",
    "                s=particles95[\"protons_domain\"].weights*1000)\n",
    "    plt.scatter(particles95[\"beam_domain\"].x,\n",
    "                particles95[\"beam_domain\"].v[:,0],\n",
    "                s=particles95[\"beam_domain\"].weights*1000)\n",
    "    plt.xlim((2.5,9.5))\n",
    "    plt.ylim((-1.2,1.3))\n",
    "    plt.title(\"t = {:4.2f}\".format(t))\n",
    "    plt.savefig(\"scatter_{:04d}.png\".format(it))\n",
    "    plt.close()\n",
    "\n"
   ]
  },
  {
   "cell_type": "code",
   "execution_count": 22,
   "metadata": {
    "ExecuteTime": {
     "end_time": "2021-03-11T15:47:21.139912Z",
     "start_time": "2021-03-11T15:47:21.101494Z"
    }
   },
   "outputs": [
    {
     "data": {
      "application/javascript": [
       "/* Put everything inside the global mpl namespace */\n",
       "window.mpl = {};\n",
       "\n",
       "\n",
       "mpl.get_websocket_type = function() {\n",
       "    if (typeof(WebSocket) !== 'undefined') {\n",
       "        return WebSocket;\n",
       "    } else if (typeof(MozWebSocket) !== 'undefined') {\n",
       "        return MozWebSocket;\n",
       "    } else {\n",
       "        alert('Your browser does not have WebSocket support. ' +\n",
       "              'Please try Chrome, Safari or Firefox ≥ 6. ' +\n",
       "              'Firefox 4 and 5 are also supported but you ' +\n",
       "              'have to enable WebSockets in about:config.');\n",
       "    };\n",
       "}\n",
       "\n",
       "mpl.figure = function(figure_id, websocket, ondownload, parent_element) {\n",
       "    this.id = figure_id;\n",
       "\n",
       "    this.ws = websocket;\n",
       "\n",
       "    this.supports_binary = (this.ws.binaryType != undefined);\n",
       "\n",
       "    if (!this.supports_binary) {\n",
       "        var warnings = document.getElementById(\"mpl-warnings\");\n",
       "        if (warnings) {\n",
       "            warnings.style.display = 'block';\n",
       "            warnings.textContent = (\n",
       "                \"This browser does not support binary websocket messages. \" +\n",
       "                    \"Performance may be slow.\");\n",
       "        }\n",
       "    }\n",
       "\n",
       "    this.imageObj = new Image();\n",
       "\n",
       "    this.context = undefined;\n",
       "    this.message = undefined;\n",
       "    this.canvas = undefined;\n",
       "    this.rubberband_canvas = undefined;\n",
       "    this.rubberband_context = undefined;\n",
       "    this.format_dropdown = undefined;\n",
       "\n",
       "    this.image_mode = 'full';\n",
       "\n",
       "    this.root = $('<div/>');\n",
       "    this._root_extra_style(this.root)\n",
       "    this.root.attr('style', 'display: inline-block');\n",
       "\n",
       "    $(parent_element).append(this.root);\n",
       "\n",
       "    this._init_header(this);\n",
       "    this._init_canvas(this);\n",
       "    this._init_toolbar(this);\n",
       "\n",
       "    var fig = this;\n",
       "\n",
       "    this.waiting = false;\n",
       "\n",
       "    this.ws.onopen =  function () {\n",
       "            fig.send_message(\"supports_binary\", {value: fig.supports_binary});\n",
       "            fig.send_message(\"send_image_mode\", {});\n",
       "            if (mpl.ratio != 1) {\n",
       "                fig.send_message(\"set_dpi_ratio\", {'dpi_ratio': mpl.ratio});\n",
       "            }\n",
       "            fig.send_message(\"refresh\", {});\n",
       "        }\n",
       "\n",
       "    this.imageObj.onload = function() {\n",
       "            if (fig.image_mode == 'full') {\n",
       "                // Full images could contain transparency (where diff images\n",
       "                // almost always do), so we need to clear the canvas so that\n",
       "                // there is no ghosting.\n",
       "                fig.context.clearRect(0, 0, fig.canvas.width, fig.canvas.height);\n",
       "            }\n",
       "            fig.context.drawImage(fig.imageObj, 0, 0);\n",
       "        };\n",
       "\n",
       "    this.imageObj.onunload = function() {\n",
       "        fig.ws.close();\n",
       "    }\n",
       "\n",
       "    this.ws.onmessage = this._make_on_message_function(this);\n",
       "\n",
       "    this.ondownload = ondownload;\n",
       "}\n",
       "\n",
       "mpl.figure.prototype._init_header = function() {\n",
       "    var titlebar = $(\n",
       "        '<div class=\"ui-dialog-titlebar ui-widget-header ui-corner-all ' +\n",
       "        'ui-helper-clearfix\"/>');\n",
       "    var titletext = $(\n",
       "        '<div class=\"ui-dialog-title\" style=\"width: 100%; ' +\n",
       "        'text-align: center; padding: 3px;\"/>');\n",
       "    titlebar.append(titletext)\n",
       "    this.root.append(titlebar);\n",
       "    this.header = titletext[0];\n",
       "}\n",
       "\n",
       "\n",
       "\n",
       "mpl.figure.prototype._canvas_extra_style = function(canvas_div) {\n",
       "\n",
       "}\n",
       "\n",
       "\n",
       "mpl.figure.prototype._root_extra_style = function(canvas_div) {\n",
       "\n",
       "}\n",
       "\n",
       "mpl.figure.prototype._init_canvas = function() {\n",
       "    var fig = this;\n",
       "\n",
       "    var canvas_div = $('<div/>');\n",
       "\n",
       "    canvas_div.attr('style', 'position: relative; clear: both; outline: 0');\n",
       "\n",
       "    function canvas_keyboard_event(event) {\n",
       "        return fig.key_event(event, event['data']);\n",
       "    }\n",
       "\n",
       "    canvas_div.keydown('key_press', canvas_keyboard_event);\n",
       "    canvas_div.keyup('key_release', canvas_keyboard_event);\n",
       "    this.canvas_div = canvas_div\n",
       "    this._canvas_extra_style(canvas_div)\n",
       "    this.root.append(canvas_div);\n",
       "\n",
       "    var canvas = $('<canvas/>');\n",
       "    canvas.addClass('mpl-canvas');\n",
       "    canvas.attr('style', \"left: 0; top: 0; z-index: 0; outline: 0\")\n",
       "\n",
       "    this.canvas = canvas[0];\n",
       "    this.context = canvas[0].getContext(\"2d\");\n",
       "\n",
       "    var backingStore = this.context.backingStorePixelRatio ||\n",
       "\tthis.context.webkitBackingStorePixelRatio ||\n",
       "\tthis.context.mozBackingStorePixelRatio ||\n",
       "\tthis.context.msBackingStorePixelRatio ||\n",
       "\tthis.context.oBackingStorePixelRatio ||\n",
       "\tthis.context.backingStorePixelRatio || 1;\n",
       "\n",
       "    mpl.ratio = (window.devicePixelRatio || 1) / backingStore;\n",
       "\n",
       "    var rubberband = $('<canvas/>');\n",
       "    rubberband.attr('style', \"position: absolute; left: 0; top: 0; z-index: 1;\")\n",
       "\n",
       "    var pass_mouse_events = true;\n",
       "\n",
       "    canvas_div.resizable({\n",
       "        start: function(event, ui) {\n",
       "            pass_mouse_events = false;\n",
       "        },\n",
       "        resize: function(event, ui) {\n",
       "            fig.request_resize(ui.size.width, ui.size.height);\n",
       "        },\n",
       "        stop: function(event, ui) {\n",
       "            pass_mouse_events = true;\n",
       "            fig.request_resize(ui.size.width, ui.size.height);\n",
       "        },\n",
       "    });\n",
       "\n",
       "    function mouse_event_fn(event) {\n",
       "        if (pass_mouse_events)\n",
       "            return fig.mouse_event(event, event['data']);\n",
       "    }\n",
       "\n",
       "    rubberband.mousedown('button_press', mouse_event_fn);\n",
       "    rubberband.mouseup('button_release', mouse_event_fn);\n",
       "    // Throttle sequential mouse events to 1 every 20ms.\n",
       "    rubberband.mousemove('motion_notify', mouse_event_fn);\n",
       "\n",
       "    rubberband.mouseenter('figure_enter', mouse_event_fn);\n",
       "    rubberband.mouseleave('figure_leave', mouse_event_fn);\n",
       "\n",
       "    canvas_div.on(\"wheel\", function (event) {\n",
       "        event = event.originalEvent;\n",
       "        event['data'] = 'scroll'\n",
       "        if (event.deltaY < 0) {\n",
       "            event.step = 1;\n",
       "        } else {\n",
       "            event.step = -1;\n",
       "        }\n",
       "        mouse_event_fn(event);\n",
       "    });\n",
       "\n",
       "    canvas_div.append(canvas);\n",
       "    canvas_div.append(rubberband);\n",
       "\n",
       "    this.rubberband = rubberband;\n",
       "    this.rubberband_canvas = rubberband[0];\n",
       "    this.rubberband_context = rubberband[0].getContext(\"2d\");\n",
       "    this.rubberband_context.strokeStyle = \"#000000\";\n",
       "\n",
       "    this._resize_canvas = function(width, height) {\n",
       "        // Keep the size of the canvas, canvas container, and rubber band\n",
       "        // canvas in synch.\n",
       "        canvas_div.css('width', width)\n",
       "        canvas_div.css('height', height)\n",
       "\n",
       "        canvas.attr('width', width * mpl.ratio);\n",
       "        canvas.attr('height', height * mpl.ratio);\n",
       "        canvas.attr('style', 'width: ' + width + 'px; height: ' + height + 'px;');\n",
       "\n",
       "        rubberband.attr('width', width);\n",
       "        rubberband.attr('height', height);\n",
       "    }\n",
       "\n",
       "    // Set the figure to an initial 600x600px, this will subsequently be updated\n",
       "    // upon first draw.\n",
       "    this._resize_canvas(600, 600);\n",
       "\n",
       "    // Disable right mouse context menu.\n",
       "    $(this.rubberband_canvas).bind(\"contextmenu\",function(e){\n",
       "        return false;\n",
       "    });\n",
       "\n",
       "    function set_focus () {\n",
       "        canvas.focus();\n",
       "        canvas_div.focus();\n",
       "    }\n",
       "\n",
       "    window.setTimeout(set_focus, 100);\n",
       "}\n",
       "\n",
       "mpl.figure.prototype._init_toolbar = function() {\n",
       "    var fig = this;\n",
       "\n",
       "    var nav_element = $('<div/>');\n",
       "    nav_element.attr('style', 'width: 100%');\n",
       "    this.root.append(nav_element);\n",
       "\n",
       "    // Define a callback function for later on.\n",
       "    function toolbar_event(event) {\n",
       "        return fig.toolbar_button_onclick(event['data']);\n",
       "    }\n",
       "    function toolbar_mouse_event(event) {\n",
       "        return fig.toolbar_button_onmouseover(event['data']);\n",
       "    }\n",
       "\n",
       "    for(var toolbar_ind in mpl.toolbar_items) {\n",
       "        var name = mpl.toolbar_items[toolbar_ind][0];\n",
       "        var tooltip = mpl.toolbar_items[toolbar_ind][1];\n",
       "        var image = mpl.toolbar_items[toolbar_ind][2];\n",
       "        var method_name = mpl.toolbar_items[toolbar_ind][3];\n",
       "\n",
       "        if (!name) {\n",
       "            // put a spacer in here.\n",
       "            continue;\n",
       "        }\n",
       "        var button = $('<button/>');\n",
       "        button.addClass('ui-button ui-widget ui-state-default ui-corner-all ' +\n",
       "                        'ui-button-icon-only');\n",
       "        button.attr('role', 'button');\n",
       "        button.attr('aria-disabled', 'false');\n",
       "        button.click(method_name, toolbar_event);\n",
       "        button.mouseover(tooltip, toolbar_mouse_event);\n",
       "\n",
       "        var icon_img = $('<span/>');\n",
       "        icon_img.addClass('ui-button-icon-primary ui-icon');\n",
       "        icon_img.addClass(image);\n",
       "        icon_img.addClass('ui-corner-all');\n",
       "\n",
       "        var tooltip_span = $('<span/>');\n",
       "        tooltip_span.addClass('ui-button-text');\n",
       "        tooltip_span.html(tooltip);\n",
       "\n",
       "        button.append(icon_img);\n",
       "        button.append(tooltip_span);\n",
       "\n",
       "        nav_element.append(button);\n",
       "    }\n",
       "\n",
       "    var fmt_picker_span = $('<span/>');\n",
       "\n",
       "    var fmt_picker = $('<select/>');\n",
       "    fmt_picker.addClass('mpl-toolbar-option ui-widget ui-widget-content');\n",
       "    fmt_picker_span.append(fmt_picker);\n",
       "    nav_element.append(fmt_picker_span);\n",
       "    this.format_dropdown = fmt_picker[0];\n",
       "\n",
       "    for (var ind in mpl.extensions) {\n",
       "        var fmt = mpl.extensions[ind];\n",
       "        var option = $(\n",
       "            '<option/>', {selected: fmt === mpl.default_extension}).html(fmt);\n",
       "        fmt_picker.append(option);\n",
       "    }\n",
       "\n",
       "    // Add hover states to the ui-buttons\n",
       "    $( \".ui-button\" ).hover(\n",
       "        function() { $(this).addClass(\"ui-state-hover\");},\n",
       "        function() { $(this).removeClass(\"ui-state-hover\");}\n",
       "    );\n",
       "\n",
       "    var status_bar = $('<span class=\"mpl-message\"/>');\n",
       "    nav_element.append(status_bar);\n",
       "    this.message = status_bar[0];\n",
       "}\n",
       "\n",
       "mpl.figure.prototype.request_resize = function(x_pixels, y_pixels) {\n",
       "    // Request matplotlib to resize the figure. Matplotlib will then trigger a resize in the client,\n",
       "    // which will in turn request a refresh of the image.\n",
       "    this.send_message('resize', {'width': x_pixels, 'height': y_pixels});\n",
       "}\n",
       "\n",
       "mpl.figure.prototype.send_message = function(type, properties) {\n",
       "    properties['type'] = type;\n",
       "    properties['figure_id'] = this.id;\n",
       "    this.ws.send(JSON.stringify(properties));\n",
       "}\n",
       "\n",
       "mpl.figure.prototype.send_draw_message = function() {\n",
       "    if (!this.waiting) {\n",
       "        this.waiting = true;\n",
       "        this.ws.send(JSON.stringify({type: \"draw\", figure_id: this.id}));\n",
       "    }\n",
       "}\n",
       "\n",
       "\n",
       "mpl.figure.prototype.handle_save = function(fig, msg) {\n",
       "    var format_dropdown = fig.format_dropdown;\n",
       "    var format = format_dropdown.options[format_dropdown.selectedIndex].value;\n",
       "    fig.ondownload(fig, format);\n",
       "}\n",
       "\n",
       "\n",
       "mpl.figure.prototype.handle_resize = function(fig, msg) {\n",
       "    var size = msg['size'];\n",
       "    if (size[0] != fig.canvas.width || size[1] != fig.canvas.height) {\n",
       "        fig._resize_canvas(size[0], size[1]);\n",
       "        fig.send_message(\"refresh\", {});\n",
       "    };\n",
       "}\n",
       "\n",
       "mpl.figure.prototype.handle_rubberband = function(fig, msg) {\n",
       "    var x0 = msg['x0'] / mpl.ratio;\n",
       "    var y0 = (fig.canvas.height - msg['y0']) / mpl.ratio;\n",
       "    var x1 = msg['x1'] / mpl.ratio;\n",
       "    var y1 = (fig.canvas.height - msg['y1']) / mpl.ratio;\n",
       "    x0 = Math.floor(x0) + 0.5;\n",
       "    y0 = Math.floor(y0) + 0.5;\n",
       "    x1 = Math.floor(x1) + 0.5;\n",
       "    y1 = Math.floor(y1) + 0.5;\n",
       "    var min_x = Math.min(x0, x1);\n",
       "    var min_y = Math.min(y0, y1);\n",
       "    var width = Math.abs(x1 - x0);\n",
       "    var height = Math.abs(y1 - y0);\n",
       "\n",
       "    fig.rubberband_context.clearRect(\n",
       "        0, 0, fig.canvas.width / mpl.ratio, fig.canvas.height / mpl.ratio);\n",
       "\n",
       "    fig.rubberband_context.strokeRect(min_x, min_y, width, height);\n",
       "}\n",
       "\n",
       "mpl.figure.prototype.handle_figure_label = function(fig, msg) {\n",
       "    // Updates the figure title.\n",
       "    fig.header.textContent = msg['label'];\n",
       "}\n",
       "\n",
       "mpl.figure.prototype.handle_cursor = function(fig, msg) {\n",
       "    var cursor = msg['cursor'];\n",
       "    switch(cursor)\n",
       "    {\n",
       "    case 0:\n",
       "        cursor = 'pointer';\n",
       "        break;\n",
       "    case 1:\n",
       "        cursor = 'default';\n",
       "        break;\n",
       "    case 2:\n",
       "        cursor = 'crosshair';\n",
       "        break;\n",
       "    case 3:\n",
       "        cursor = 'move';\n",
       "        break;\n",
       "    }\n",
       "    fig.rubberband_canvas.style.cursor = cursor;\n",
       "}\n",
       "\n",
       "mpl.figure.prototype.handle_message = function(fig, msg) {\n",
       "    fig.message.textContent = msg['message'];\n",
       "}\n",
       "\n",
       "mpl.figure.prototype.handle_draw = function(fig, msg) {\n",
       "    // Request the server to send over a new figure.\n",
       "    fig.send_draw_message();\n",
       "}\n",
       "\n",
       "mpl.figure.prototype.handle_image_mode = function(fig, msg) {\n",
       "    fig.image_mode = msg['mode'];\n",
       "}\n",
       "\n",
       "mpl.figure.prototype.updated_canvas_event = function() {\n",
       "    // Called whenever the canvas gets updated.\n",
       "    this.send_message(\"ack\", {});\n",
       "}\n",
       "\n",
       "// A function to construct a web socket function for onmessage handling.\n",
       "// Called in the figure constructor.\n",
       "mpl.figure.prototype._make_on_message_function = function(fig) {\n",
       "    return function socket_on_message(evt) {\n",
       "        if (evt.data instanceof Blob) {\n",
       "            /* FIXME: We get \"Resource interpreted as Image but\n",
       "             * transferred with MIME type text/plain:\" errors on\n",
       "             * Chrome.  But how to set the MIME type?  It doesn't seem\n",
       "             * to be part of the websocket stream */\n",
       "            evt.data.type = \"image/png\";\n",
       "\n",
       "            /* Free the memory for the previous frames */\n",
       "            if (fig.imageObj.src) {\n",
       "                (window.URL || window.webkitURL).revokeObjectURL(\n",
       "                    fig.imageObj.src);\n",
       "            }\n",
       "\n",
       "            fig.imageObj.src = (window.URL || window.webkitURL).createObjectURL(\n",
       "                evt.data);\n",
       "            fig.updated_canvas_event();\n",
       "            fig.waiting = false;\n",
       "            return;\n",
       "        }\n",
       "        else if (typeof evt.data === 'string' && evt.data.slice(0, 21) == \"data:image/png;base64\") {\n",
       "            fig.imageObj.src = evt.data;\n",
       "            fig.updated_canvas_event();\n",
       "            fig.waiting = false;\n",
       "            return;\n",
       "        }\n",
       "\n",
       "        var msg = JSON.parse(evt.data);\n",
       "        var msg_type = msg['type'];\n",
       "\n",
       "        // Call the  \"handle_{type}\" callback, which takes\n",
       "        // the figure and JSON message as its only arguments.\n",
       "        try {\n",
       "            var callback = fig[\"handle_\" + msg_type];\n",
       "        } catch (e) {\n",
       "            console.log(\"No handler for the '\" + msg_type + \"' message type: \", msg);\n",
       "            return;\n",
       "        }\n",
       "\n",
       "        if (callback) {\n",
       "            try {\n",
       "                // console.log(\"Handling '\" + msg_type + \"' message: \", msg);\n",
       "                callback(fig, msg);\n",
       "            } catch (e) {\n",
       "                console.log(\"Exception inside the 'handler_\" + msg_type + \"' callback:\", e, e.stack, msg);\n",
       "            }\n",
       "        }\n",
       "    };\n",
       "}\n",
       "\n",
       "// from http://stackoverflow.com/questions/1114465/getting-mouse-location-in-canvas\n",
       "mpl.findpos = function(e) {\n",
       "    //this section is from http://www.quirksmode.org/js/events_properties.html\n",
       "    var targ;\n",
       "    if (!e)\n",
       "        e = window.event;\n",
       "    if (e.target)\n",
       "        targ = e.target;\n",
       "    else if (e.srcElement)\n",
       "        targ = e.srcElement;\n",
       "    if (targ.nodeType == 3) // defeat Safari bug\n",
       "        targ = targ.parentNode;\n",
       "\n",
       "    // jQuery normalizes the pageX and pageY\n",
       "    // pageX,Y are the mouse positions relative to the document\n",
       "    // offset() returns the position of the element relative to the document\n",
       "    var x = e.pageX - $(targ).offset().left;\n",
       "    var y = e.pageY - $(targ).offset().top;\n",
       "\n",
       "    return {\"x\": x, \"y\": y};\n",
       "};\n",
       "\n",
       "/*\n",
       " * return a copy of an object with only non-object keys\n",
       " * we need this to avoid circular references\n",
       " * http://stackoverflow.com/a/24161582/3208463\n",
       " */\n",
       "function simpleKeys (original) {\n",
       "  return Object.keys(original).reduce(function (obj, key) {\n",
       "    if (typeof original[key] !== 'object')\n",
       "        obj[key] = original[key]\n",
       "    return obj;\n",
       "  }, {});\n",
       "}\n",
       "\n",
       "mpl.figure.prototype.mouse_event = function(event, name) {\n",
       "    var canvas_pos = mpl.findpos(event)\n",
       "\n",
       "    if (name === 'button_press')\n",
       "    {\n",
       "        this.canvas.focus();\n",
       "        this.canvas_div.focus();\n",
       "    }\n",
       "\n",
       "    var x = canvas_pos.x * mpl.ratio;\n",
       "    var y = canvas_pos.y * mpl.ratio;\n",
       "\n",
       "    this.send_message(name, {x: x, y: y, button: event.button,\n",
       "                             step: event.step,\n",
       "                             guiEvent: simpleKeys(event)});\n",
       "\n",
       "    /* This prevents the web browser from automatically changing to\n",
       "     * the text insertion cursor when the button is pressed.  We want\n",
       "     * to control all of the cursor setting manually through the\n",
       "     * 'cursor' event from matplotlib */\n",
       "    event.preventDefault();\n",
       "    return false;\n",
       "}\n",
       "\n",
       "mpl.figure.prototype._key_event_extra = function(event, name) {\n",
       "    // Handle any extra behaviour associated with a key event\n",
       "}\n",
       "\n",
       "mpl.figure.prototype.key_event = function(event, name) {\n",
       "\n",
       "    // Prevent repeat events\n",
       "    if (name == 'key_press')\n",
       "    {\n",
       "        if (event.which === this._key)\n",
       "            return;\n",
       "        else\n",
       "            this._key = event.which;\n",
       "    }\n",
       "    if (name == 'key_release')\n",
       "        this._key = null;\n",
       "\n",
       "    var value = '';\n",
       "    if (event.ctrlKey && event.which != 17)\n",
       "        value += \"ctrl+\";\n",
       "    if (event.altKey && event.which != 18)\n",
       "        value += \"alt+\";\n",
       "    if (event.shiftKey && event.which != 16)\n",
       "        value += \"shift+\";\n",
       "\n",
       "    value += 'k';\n",
       "    value += event.which.toString();\n",
       "\n",
       "    this._key_event_extra(event, name);\n",
       "\n",
       "    this.send_message(name, {key: value,\n",
       "                             guiEvent: simpleKeys(event)});\n",
       "    return false;\n",
       "}\n",
       "\n",
       "mpl.figure.prototype.toolbar_button_onclick = function(name) {\n",
       "    if (name == 'download') {\n",
       "        this.handle_save(this, null);\n",
       "    } else {\n",
       "        this.send_message(\"toolbar_button\", {name: name});\n",
       "    }\n",
       "};\n",
       "\n",
       "mpl.figure.prototype.toolbar_button_onmouseover = function(tooltip) {\n",
       "    this.message.textContent = tooltip;\n",
       "};\n",
       "mpl.toolbar_items = [[\"Home\", \"Reset original view\", \"fa fa-home icon-home\", \"home\"], [\"Back\", \"Back to previous view\", \"fa fa-arrow-left icon-arrow-left\", \"back\"], [\"Forward\", \"Forward to next view\", \"fa fa-arrow-right icon-arrow-right\", \"forward\"], [\"\", \"\", \"\", \"\"], [\"Pan\", \"Pan axes with left mouse, zoom with right\", \"fa fa-arrows icon-move\", \"pan\"], [\"Zoom\", \"Zoom to rectangle\", \"fa fa-square-o icon-check-empty\", \"zoom\"], [\"\", \"\", \"\", \"\"], [\"Download\", \"Download plot\", \"fa fa-floppy-o icon-save\", \"download\"]];\n",
       "\n",
       "mpl.extensions = [\"eps\", \"jpeg\", \"pdf\", \"png\", \"ps\", \"raw\", \"svg\", \"tif\"];\n",
       "\n",
       "mpl.default_extension = \"png\";var comm_websocket_adapter = function(comm) {\n",
       "    // Create a \"websocket\"-like object which calls the given IPython comm\n",
       "    // object with the appropriate methods. Currently this is a non binary\n",
       "    // socket, so there is still some room for performance tuning.\n",
       "    var ws = {};\n",
       "\n",
       "    ws.close = function() {\n",
       "        comm.close()\n",
       "    };\n",
       "    ws.send = function(m) {\n",
       "        //console.log('sending', m);\n",
       "        comm.send(m);\n",
       "    };\n",
       "    // Register the callback with on_msg.\n",
       "    comm.on_msg(function(msg) {\n",
       "        //console.log('receiving', msg['content']['data'], msg);\n",
       "        // Pass the mpl event to the overridden (by mpl) onmessage function.\n",
       "        ws.onmessage(msg['content']['data'])\n",
       "    });\n",
       "    return ws;\n",
       "}\n",
       "\n",
       "mpl.mpl_figure_comm = function(comm, msg) {\n",
       "    // This is the function which gets called when the mpl process\n",
       "    // starts-up an IPython Comm through the \"matplotlib\" channel.\n",
       "\n",
       "    var id = msg.content.data.id;\n",
       "    // Get hold of the div created by the display call when the Comm\n",
       "    // socket was opened in Python.\n",
       "    var element = $(\"#\" + id);\n",
       "    var ws_proxy = comm_websocket_adapter(comm)\n",
       "\n",
       "    function ondownload(figure, format) {\n",
       "        window.open(figure.imageObj.src);\n",
       "    }\n",
       "\n",
       "    var fig = new mpl.figure(id, ws_proxy,\n",
       "                           ondownload,\n",
       "                           element.get(0));\n",
       "\n",
       "    // Call onopen now - mpl needs it, as it is assuming we've passed it a real\n",
       "    // web socket which is closed, not our websocket->open comm proxy.\n",
       "    ws_proxy.onopen();\n",
       "\n",
       "    fig.parent_element = element.get(0);\n",
       "    fig.cell_info = mpl.find_output_cell(\"<div id='\" + id + \"'></div>\");\n",
       "    if (!fig.cell_info) {\n",
       "        console.error(\"Failed to find cell for figure\", id, fig);\n",
       "        return;\n",
       "    }\n",
       "\n",
       "    var output_index = fig.cell_info[2]\n",
       "    var cell = fig.cell_info[0];\n",
       "\n",
       "};\n",
       "\n",
       "mpl.figure.prototype.handle_close = function(fig, msg) {\n",
       "    var width = fig.canvas.width/mpl.ratio\n",
       "    fig.root.unbind('remove')\n",
       "\n",
       "    // Update the output cell to use the data from the current canvas.\n",
       "    fig.push_to_output();\n",
       "    var dataURL = fig.canvas.toDataURL();\n",
       "    // Re-enable the keyboard manager in IPython - without this line, in FF,\n",
       "    // the notebook keyboard shortcuts fail.\n",
       "    IPython.keyboard_manager.enable()\n",
       "    $(fig.parent_element).html('<img src=\"' + dataURL + '\" width=\"' + width + '\">');\n",
       "    fig.close_ws(fig, msg);\n",
       "}\n",
       "\n",
       "mpl.figure.prototype.close_ws = function(fig, msg){\n",
       "    fig.send_message('closing', msg);\n",
       "    // fig.ws.close()\n",
       "}\n",
       "\n",
       "mpl.figure.prototype.push_to_output = function(remove_interactive) {\n",
       "    // Turn the data on the canvas into data in the output cell.\n",
       "    var width = this.canvas.width/mpl.ratio\n",
       "    var dataURL = this.canvas.toDataURL();\n",
       "    this.cell_info[1]['text/html'] = '<img src=\"' + dataURL + '\" width=\"' + width + '\">';\n",
       "}\n",
       "\n",
       "mpl.figure.prototype.updated_canvas_event = function() {\n",
       "    // Tell IPython that the notebook contents must change.\n",
       "    IPython.notebook.set_dirty(true);\n",
       "    this.send_message(\"ack\", {});\n",
       "    var fig = this;\n",
       "    // Wait a second, then push the new image to the DOM so\n",
       "    // that it is saved nicely (might be nice to debounce this).\n",
       "    setTimeout(function () { fig.push_to_output() }, 1000);\n",
       "}\n",
       "\n",
       "mpl.figure.prototype._init_toolbar = function() {\n",
       "    var fig = this;\n",
       "\n",
       "    var nav_element = $('<div/>');\n",
       "    nav_element.attr('style', 'width: 100%');\n",
       "    this.root.append(nav_element);\n",
       "\n",
       "    // Define a callback function for later on.\n",
       "    function toolbar_event(event) {\n",
       "        return fig.toolbar_button_onclick(event['data']);\n",
       "    }\n",
       "    function toolbar_mouse_event(event) {\n",
       "        return fig.toolbar_button_onmouseover(event['data']);\n",
       "    }\n",
       "\n",
       "    for(var toolbar_ind in mpl.toolbar_items){\n",
       "        var name = mpl.toolbar_items[toolbar_ind][0];\n",
       "        var tooltip = mpl.toolbar_items[toolbar_ind][1];\n",
       "        var image = mpl.toolbar_items[toolbar_ind][2];\n",
       "        var method_name = mpl.toolbar_items[toolbar_ind][3];\n",
       "\n",
       "        if (!name) { continue; };\n",
       "\n",
       "        var button = $('<button class=\"btn btn-default\" href=\"#\" title=\"' + name + '\"><i class=\"fa ' + image + ' fa-lg\"></i></button>');\n",
       "        button.click(method_name, toolbar_event);\n",
       "        button.mouseover(tooltip, toolbar_mouse_event);\n",
       "        nav_element.append(button);\n",
       "    }\n",
       "\n",
       "    // Add the status bar.\n",
       "    var status_bar = $('<span class=\"mpl-message\" style=\"text-align:right; float: right;\"/>');\n",
       "    nav_element.append(status_bar);\n",
       "    this.message = status_bar[0];\n",
       "\n",
       "    // Add the close button to the window.\n",
       "    var buttongrp = $('<div class=\"btn-group inline pull-right\"></div>');\n",
       "    var button = $('<button class=\"btn btn-mini btn-primary\" href=\"#\" title=\"Stop Interaction\"><i class=\"fa fa-power-off icon-remove icon-large\"></i></button>');\n",
       "    button.click(function (evt) { fig.handle_close(fig, {}); } );\n",
       "    button.mouseover('Stop Interaction', toolbar_mouse_event);\n",
       "    buttongrp.append(button);\n",
       "    var titlebar = this.root.find($('.ui-dialog-titlebar'));\n",
       "    titlebar.prepend(buttongrp);\n",
       "}\n",
       "\n",
       "mpl.figure.prototype._root_extra_style = function(el){\n",
       "    var fig = this\n",
       "    el.on(\"remove\", function(){\n",
       "\tfig.close_ws(fig, {});\n",
       "    });\n",
       "}\n",
       "\n",
       "mpl.figure.prototype._canvas_extra_style = function(el){\n",
       "    // this is important to make the div 'focusable\n",
       "    el.attr('tabindex', 0)\n",
       "    // reach out to IPython and tell the keyboard manager to turn it's self\n",
       "    // off when our div gets focus\n",
       "\n",
       "    // location in version 3\n",
       "    if (IPython.notebook.keyboard_manager) {\n",
       "        IPython.notebook.keyboard_manager.register_events(el);\n",
       "    }\n",
       "    else {\n",
       "        // location in version 2\n",
       "        IPython.keyboard_manager.register_events(el);\n",
       "    }\n",
       "\n",
       "}\n",
       "\n",
       "mpl.figure.prototype._key_event_extra = function(event, name) {\n",
       "    var manager = IPython.notebook.keyboard_manager;\n",
       "    if (!manager)\n",
       "        manager = IPython.keyboard_manager;\n",
       "\n",
       "    // Check for shift+enter\n",
       "    if (event.shiftKey && event.which == 13) {\n",
       "        this.canvas_div.blur();\n",
       "        // select the cell after this one\n",
       "        var index = IPython.notebook.find_cell_index(this.cell_info[0]);\n",
       "        IPython.notebook.select(index + 1);\n",
       "    }\n",
       "}\n",
       "\n",
       "mpl.figure.prototype.handle_save = function(fig, msg) {\n",
       "    fig.ondownload(fig, null);\n",
       "}\n",
       "\n",
       "\n",
       "mpl.find_output_cell = function(html_output) {\n",
       "    // Return the cell and output element which can be found *uniquely* in the notebook.\n",
       "    // Note - this is a bit hacky, but it is done because the \"notebook_saving.Notebook\"\n",
       "    // IPython event is triggered only after the cells have been serialised, which for\n",
       "    // our purposes (turning an active figure into a static one), is too late.\n",
       "    var cells = IPython.notebook.get_cells();\n",
       "    var ncells = cells.length;\n",
       "    for (var i=0; i<ncells; i++) {\n",
       "        var cell = cells[i];\n",
       "        if (cell.cell_type === 'code'){\n",
       "            for (var j=0; j<cell.output_area.outputs.length; j++) {\n",
       "                var data = cell.output_area.outputs[j];\n",
       "                if (data.data) {\n",
       "                    // IPython >= 3 moved mimebundle to data attribute of output\n",
       "                    data = data.data;\n",
       "                }\n",
       "                if (data['text/html'] == html_output) {\n",
       "                    return [cell, data, j];\n",
       "                }\n",
       "            }\n",
       "        }\n",
       "    }\n",
       "}\n",
       "\n",
       "// Register the function which deals with the matplotlib target/channel.\n",
       "// The kernel may be null if the page has been refreshed.\n",
       "if (IPython.notebook.kernel != null) {\n",
       "    IPython.notebook.kernel.comm_manager.register_target('matplotlib', mpl.mpl_figure_comm);\n",
       "}\n"
      ],
      "text/plain": [
       "<IPython.core.display.Javascript object>"
      ]
     },
     "metadata": {},
     "output_type": "display_data"
    },
    {
     "data": {
      "text/html": [
       "<img src=\"data:image/png;base64,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\" width=\"800\">"
      ],
      "text/plain": [
       "<IPython.core.display.HTML object>"
      ]
     },
     "metadata": {},
     "output_type": "display_data"
    },
    {
     "name": "stderr",
     "output_type": "stream",
     "text": [
      "No handles with labels found to put in legend.\n"
     ]
    },
    {
     "data": {
      "text/plain": [
       "({'protons_domain': <pyphare.pharesee.particles.Particles at 0x7f03c8528e20>,\n",
       "  'beam_domain': <pyphare.pharesee.particles.Particles at 0x7f03c851bb50>},\n",
       " (<Figure size 800x400 with 2 Axes>,\n",
       "  <matplotlib.axes._subplots.AxesSubplot at 0x7f03c851b7f0>))"
      ]
     },
     "execution_count": 22,
     "metadata": {},
     "output_type": "execute_result"
    }
   ],
   "source": [
    "fig, ax = plt.subplots(figsize=(8,4))\n",
    "hdist_plot(ions, axis=(\"x\", \"Vx\"), ax=ax)"
   ]
  },
  {
   "cell_type": "code",
   "execution_count": null,
   "metadata": {},
   "outputs": [],
   "source": []
  }
 ],
 "metadata": {
  "kernelspec": {
   "display_name": "Python 3.8",
   "language": "python",
   "name": "python38"
  },
  "language_info": {
   "codemirror_mode": {
    "name": "ipython",
    "version": 3
   },
   "file_extension": ".py",
   "mimetype": "text/x-python",
   "name": "python",
   "nbconvert_exporter": "python",
   "pygments_lexer": "ipython3",
   "version": "3.8.5"
  },
  "varInspector": {
   "cols": {
    "lenName": 16,
    "lenType": 16,
    "lenVar": 40
   },
   "kernels_config": {
    "python": {
     "delete_cmd_postfix": "",
     "delete_cmd_prefix": "del ",
     "library": "var_list.py",
     "varRefreshCmd": "print(var_dic_list())"
    },
    "r": {
     "delete_cmd_postfix": ") ",
     "delete_cmd_prefix": "rm(",
     "library": "var_list.r",
     "varRefreshCmd": "cat(var_dic_list()) "
    }
   },
   "types_to_exclude": [
    "module",
    "function",
    "builtin_function_or_method",
    "instance",
    "_Feature"
   ],
   "window_display": false
  }
 },
 "nbformat": 4,
 "nbformat_minor": 4
}
