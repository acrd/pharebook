{
 "cells": [
  {
   "cell_type": "markdown",
   "metadata": {},
   "source": [
    "# Plotting phase space\n",
    "\n"
   ]
  },
  {
   "cell_type": "code",
   "execution_count": 1,
   "metadata": {
    "ExecuteTime": {
     "end_time": "2021-03-08T10:05:50.742762Z",
     "start_time": "2021-03-08T10:05:50.223150Z"
    }
   },
   "outputs": [],
   "source": [
    "# some preliminary settings and functions\n",
    "\n",
    "import sys\n",
    "sys.path.append(\"/home/aunai/build_phare\")\n",
    "sys.path.append(\"/home/aunai/PHARE/pyphare/\")\n",
    "import os\n",
    "import numpy as np\n",
    "import pyphare\n",
    "from pyphare.pharesee.hierarchy import finest_data, finest_part_data\n",
    "from pyphare.pharesee.hierarchy import hierarchy_from\n",
    "from pyphare.pharesee.plotting import zoom_effect\n",
    "import pyphare.core.box as boxm\n",
    "import matplotlib.pyplot as plt\n",
    "from pyphare.pharesee.run import Run\n",
    "%matplotlib widget"
   ]
  },
  {
   "cell_type": "markdown",
   "metadata": {
    "ExecuteTime": {
     "end_time": "2021-03-05T09:24:43.087460Z",
     "start_time": "2021-03-05T09:24:43.040565Z"
    }
   },
   "source": [
    "## Run001"
   ]
  },
  {
   "cell_type": "code",
   "execution_count": 2,
   "metadata": {
    "jupyter": {
     "source_hidden": true
    }
   },
   "outputs": [],
   "source": [
    "def finest_part_data(hierarchy):\n",
    "    \"\"\"\n",
    "    returns a dict {popname : Particles}\n",
    "    Particles contained in the dict are those from\n",
    "    the finest patches available at a given location\n",
    "    \"\"\"\n",
    "    from .particles import remove\n",
    "    from copy import deepcopy\n",
    "    \n",
    "    # we are going to return a dict {popname : Particles}\n",
    "    # we prepare it with population names\n",
    "    aPatch = hierarchy.patch_levels[0].patches[0]\n",
    "    particles = {popname:{} for popname in aPatch.patch_datas.keys()}\n",
    "\n",
    "    # our strategy is to explore the hierarchy from the finest\n",
    "    # level to the coarsest. at Each level we keep only particles\n",
    "    # that are in cells that are not overlaped by finer boxes\n",
    "    \n",
    "    # this dict keeps boxes for patches at each level\n",
    "    # each level will thus need this dict to see next finer boxes\n",
    "    lvlPatchBoxes = {ilvl:[] for ilvl in range(hierarchy.finest_level()+1)}\n",
    "    \n",
    "\n",
    "    for ilvl in range(hierarchy.finest_level()+1)[::-1]:\n",
    "        plvl = hierarchy.patch_levels[ilvl]\n",
    "        for ip, patch in enumerate(plvl.patches):\n",
    "            lvlPatchBoxes[ilvl].append(patch.box)\n",
    "            for popname, pdata in patch.patch_datas.items():\n",
    "                \n",
    "                # if we're at the finest level\n",
    "                # we need to keep all particles\n",
    "                if ilvl == hierarchy.finest_level():        \n",
    "                    if ilvl not in particles[popname]:\n",
    "                        particles[popname][ilvl] = pdata.dataset\n",
    "                    else:\n",
    "                        particles[popname][ilvl].add(pdata.dataset)\n",
    "                                            \n",
    "                # if there is a finer level\n",
    "                # we need to keep only those of the current patch\n",
    "                # that are not in cells overlaped by finer patch boxes\n",
    "                else:\n",
    "                    icells = pdata.dataset.iCells\n",
    "                    parts = pdata.dataset\n",
    "                    create = True\n",
    "                    for finerBox in lvlPatchBoxes[ilvl+1]:\n",
    "                        coarseFinerBox = boxm.coarsen(finerBox, 2)\n",
    "                        within = np.where((icells >= coarseFinerBox.lower[0]) &\\\n",
    "                                                 (icells <= coarseFinerBox.upper[0]))[0]                        \n",
    "                        if create:\n",
    "                            toRemove = within\n",
    "                            create=False\n",
    "                        else:\n",
    "                            toRemove = np.concatenate((toRemove, within))\n",
    "                            \n",
    "                    parts = remove(parts, toRemove)\n",
    "                    if parts is not None:\n",
    "                        if ilvl not in particles[popname]:\n",
    "                            particles[popname][ilvl] = parts\n",
    "                        else:\n",
    "                            particles[popname][ilvl].add(parts)\n",
    "                                        \n",
    "    return particles"
   ]
  },
  {
   "cell_type": "code",
   "execution_count": 101,
   "metadata": {},
   "outputs": [],
   "source": [
    "def dist_plot(particles, **kwargs):\n",
    "    \"\"\"\n",
    "    plot the phase space of given particles\n",
    "    particles can be of type Particles, list(Particles), dict{popname:Particles}\n",
    "    \n",
    "    kwargs:\n",
    "    * axis : (\"x\", \"Vx\"), (\"x\", \"Vy\"), (\"x\", \"Vz\"), (\"Vx\", \"Vy\") (default) --\n",
    "       (\"Vx\", \"Vz\"), (\"Vy\", \"Vz\")\n",
    "    * bins :  number of bins in each dimension, default is (50,50)\n",
    "    * sigma : width of the gaussian filter, default is (0,0)\n",
    "    * norm  : histogram will be normed to Normalize(0,norm)\n",
    "    * kde : (default False) : adds contours of kernel density estimate\n",
    "    * title : (str) title of the plot\n",
    "    * xlabel, ylabel\n",
    "    * xlim, ylim\n",
    "    * bulk : (bool) (default : False), adds vertical/horizontal lines -- \n",
    "             at in-plane bulk velocity for velocity axis\n",
    "    * filename : (str) if exists, save plot to figure under that name\n",
    "    \n",
    "    return value : fig,ax\n",
    "    \"\"\"\n",
    "    from pyphare.pharesee.particles import Particles, aggregate\n",
    "    from matplotlib.colors import Normalize\n",
    "    \n",
    "    if isinstance(particles, list):\n",
    "        particles = aggregate(particles)\n",
    "    elif isinstance(particles, dict):\n",
    "        particles = aggregate([p for p in particles.values()])\n",
    "    \n",
    "    if not isinstance(particles, Particles):\n",
    "        raise ValueError(\"Error, 'particles' type should be Particles, list or dict\")\n",
    "    \n",
    "    from scipy.ndimage import gaussian_filter as gf\n",
    "    if \"ax\" not in kwargs:\n",
    "        fig, ax = plt.subplots()\n",
    "    else:\n",
    "        ax = kwargs[\"ax\"]\n",
    "        fig = ax.figure\n",
    "    axis = kwargs.get(\"axis\",(\"Vx\",\"Vy\"))\n",
    "    vaxis = {\"Vx\":0, \"Vy\":1, \"Vz\":2}\n",
    "    \n",
    "    if axis[0] in vaxis:\n",
    "        x = particles.v[:,vaxis[axis[0]]]\n",
    "    elif axis[0] == \"x\":\n",
    "        x = particles.x\n",
    "    if axis[1] in vaxis:\n",
    "        y = particles.v[:,vaxis[axis[1]]]\n",
    "\n",
    "    bins = kwargs.get(\"bins\", (50,50))\n",
    "    h, xh, yh  = np.histogram2d(x, y,\n",
    "              bins=kwargs.get(\"bins\", bins),\n",
    "              weights=particles.weights)\n",
    "\n",
    "    xc = 0.5*(xh[1:] + xh[:-1])\n",
    "    yc = 0.5*(yh[1:] + yh[:-1])\n",
    "    sig = kwargs.get(\"sigma\", (0,0))\n",
    "    hm = kwargs.get(\"norm\", h.max())\n",
    "    ax.pcolormesh(xh, yh, gf(h.T, sigma=sig), cmap=\"jet\", norm=Normalize(0,hm))\n",
    "\n",
    "    if kwargs.get(\"kde\",False) is True:\n",
    "        sns.kdeplot(x, y, ax=ax, color=\"w\")\n",
    "\n",
    "\n",
    "    ax.set_title(kwargs.get(\"title\",\"\"))\n",
    "    ax.set_xlabel(kwargs.get(\"xlabel\", axis[0]))\n",
    "    ax.set_ylabel(kwargs.get(\"ylabel\", axis[1]))\n",
    "    if \"xlim\" in kwargs:\n",
    "        ax.set_xlim(kwargs[\"xlim\"])\n",
    "    if \"ylim\" in kwargs:\n",
    "        ax.set_ylim(kwargs[\"ylim\"])\n",
    "    ax.legend()\n",
    "\n",
    "    if \"bulk\" in kwargs:\n",
    "        if kwargs[\"bulk\"] is True:\n",
    "            if axis[0] in vaxis:\n",
    "                ax.axvline(particles.v[:,vaxis[axis[0]]].mean(), color=\"w\",ls=\"--\")\n",
    "            if axis[1] in vaxis:\n",
    "                ax.axhline(particles.v[:,vaxis[axis[1]]].mean(), color=\"w\",ls=\"--\")\n",
    "\n",
    "\n",
    "    if \"filename\" in kwargs:\n",
    "        fig.savefig(kwargs[\"filename\"])\n",
    "    \n",
    "    return fig,ax\n",
    "        \n",
    "        \n",
    "def hdist_plot(self, **kwargs):    \n",
    "    \"\"\"\n",
    "    plot phase space of a particle hierarchy\n",
    "    \"\"\"\n",
    "    import copy\n",
    "    usr_lvls = kwargs.get(\"levels\",(0,))\n",
    "    finest = kwargs.get(\"finest\", False)\n",
    "    pops = kwargs.get(\"pop\",[])\n",
    "    time = kwargs.get(\"time\", self.times()[0])\n",
    "    axis = kwargs.get(\"axis\", (\"Vx\", \"Vy\"))\n",
    "    if finest:\n",
    "        final = finest_part_data(self)\n",
    "        vmin = kwargs.get(\"vmin\", -2)\n",
    "        vmax = kwargs.get(\"vmax\", 2)\n",
    "        dv = kwargs.get(\"dv\", 0.05)\n",
    "        vbins = vmin + dv*np.arange(int((vmax-vmin)/dv))\n",
    "        \n",
    "        for ilvl, lvl in self.levels(time).items():\n",
    "            \n",
    "            if axis[0] == \"x\":\n",
    "                dx = lvl.patches[0].layout.dl[0]\n",
    "                xmin = min([ p.layout.box.lower[0]*dx for p in lvl.patches])\n",
    "                xmax = max([ (p.layout.box.upper[0]+1)*dx for p in lvl.patches])\n",
    "                nx = int((xmax-xmin)/dx) +1\n",
    "                xbins = xmin + dx*np.arange(nx)\n",
    "                if ilvl==0:\n",
    "                    fig, ax = dist_plot([final[pop][ilvl] for pop in final.keys()],\n",
    "                                        axis=(\"x\", \"Vx\"),\n",
    "                                        bins=(xbins, vbins))\n",
    "                else:\n",
    "                    fig, ax = dist_plot([final[pop][ilvl] for pop in final.keys()],\n",
    "                                        axis=(\"x\", \"Vx\"),bins=(xbins, vbins), ax=ax)\n",
    "            else:\n",
    "                if ilvl==0:\n",
    "                    fig, ax = dist_plot([final[pop][ilvl] for pop in final.keys()],\n",
    "                                        axis=axis,\n",
    "                                        bins=(vbins, vbins))\n",
    "                else:\n",
    "                    fig, ax = dist_plot([final[pop][ilvl] for pop in final.keys()],\n",
    "                                        axis=axis,bins=(vbins, vbins), ax=ax)\n",
    "                \n",
    "        \n",
    "    else:\n",
    "        cpt = 0\n",
    "        for lvl_nbr,level in self.levels(time).items():\n",
    "            if lvl_nbr not in usr_lvls:\n",
    "                continue\n",
    "            for ip, patch in enumerate(level.patches):\n",
    "                if len(pops)==0:\n",
    "                    pops = list(patch.patch_datas.keys())\n",
    "\n",
    "                for pop in pops:\n",
    "                    tmp = copy.copy(patch.patch_datas[pop].dataset)\n",
    "\n",
    "                    # select particles\n",
    "                    if \"select\" in kwargs:\n",
    "                        selected = kwargs[\"select\"](tmp)\n",
    "                    else:\n",
    "                        selected = tmp\n",
    "                    if cpt == 0:\n",
    "                        final = selected\n",
    "                    else:\n",
    "                        final.add(selected)\n",
    "\n",
    "                    cpt += 1\n",
    "        return final, dist_plot(final, **kwargs)\n",
    "    "
   ]
  },
  {
   "cell_type": "code",
   "execution_count": 102,
   "metadata": {},
   "outputs": [],
   "source": [
    "r2 = Run(\"/home/aunai/phare_jobs/tests/phase_space/run002/\")\n",
    "ions = r2.GetParticles(0., [\"protons\", \"beam\"])\n",
    "protons = r2.GetParticles(0., [\"protons\"])\n",
    "beam = r2.GetParticles(0., [\"beam\"])\n",
    "#particles = finest_part_data(ions)"
   ]
  },
  {
   "cell_type": "code",
   "execution_count": 103,
   "metadata": {},
   "outputs": [
    {
     "data": {
      "application/vnd.jupyter.widget-view+json": {
       "model_id": "96522e5dfa244ea583f066840a49df82",
       "version_major": 2,
       "version_minor": 0
      },
      "text/plain": [
       "Canvas(toolbar=Toolbar(toolitems=[('Home', 'Reset original view', 'home', 'home'), ('Back', 'Back to previous …"
      ]
     },
     "metadata": {},
     "output_type": "display_data"
    },
    {
     "name": "stderr",
     "output_type": "stream",
     "text": [
      "No handles with labels found to put in legend.\n",
      "No handles with labels found to put in legend.\n",
      "No handles with labels found to put in legend.\n"
     ]
    }
   ],
   "source": [
    "hdist_plot(ions, finest=True)"
   ]
  },
  {
   "cell_type": "code",
   "execution_count": 6,
   "metadata": {},
   "outputs": [
    {
     "data": {
      "text/plain": [
       "8.200000000000001"
      ]
     },
     "execution_count": 6,
     "metadata": {},
     "output_type": "execute_result"
    }
   ],
   "source": [
    "41*0.2"
   ]
  },
  {
   "cell_type": "code",
   "execution_count": 10,
   "metadata": {},
   "outputs": [
    {
     "data": {
      "text/plain": [
       "7.1000000000000005"
      ]
     },
     "execution_count": 10,
     "metadata": {},
     "output_type": "execute_result"
    }
   ],
   "source": [
    "71*0.1"
   ]
  },
  {
   "cell_type": "code",
   "execution_count": 9,
   "metadata": {},
   "outputs": [
    {
     "data": {
      "text/plain": [
       "7.05"
      ]
     },
     "execution_count": 9,
     "metadata": {},
     "output_type": "execute_result"
    }
   ],
   "source": [
    "int(70/2)*0.2+0.05"
   ]
  },
  {
   "cell_type": "code",
   "execution_count": 5,
   "metadata": {},
   "outputs": [
    {
     "data": {
      "application/vnd.jupyter.widget-view+json": {
       "model_id": "6be3ff73e29b41829c3faefd84518b14",
       "version_major": 2,
       "version_minor": 0
      },
      "text/plain": [
       "Canvas(toolbar=Toolbar(toolitems=[('Home', 'Reset original view', 'home', 'home'), ('Back', 'Back to previous …"
      ]
     },
     "metadata": {},
     "output_type": "display_data"
    },
    {
     "name": "stderr",
     "output_type": "stream",
     "text": [
      "No handles with labels found to put in legend.\n",
      "No handles with labels found to put in legend.\n",
      "No handles with labels found to put in legend.\n"
     ]
    }
   ],
   "source": [
    "fig, ax = plt.subplots(figsize=(10,5))\n",
    "dv = 0.05\n",
    "vmin = -2\n",
    "vmax = 2\n",
    "vbins = np.arange(vmin, vmax+dv, dv)\n",
    "fig, ax = dist_plot([particles[pop][0] for pop in particles.keys()],\n",
    "                     axis=(\"x\", \"Vx\"),bins=(np.arange(0,20.2,0.2), vbins), ax=ax)\n",
    "\n",
    "ax.axvline(20*0.2, ls=\"-\", color=\"w\")\n",
    "ax.axvline(41*0.2, ls=\"-\", color=\"w\")\n",
    "ax.axvline(25*0.2, ls=\"-\", color=\"r\")\n",
    "ax.axvline(71*0.1+0.05, ls=\"-\", color=\"r\")\n",
    "\n",
    "fig,ax = dist_plot([particles[pop][1] for pop in particles.keys()],\n",
    "                   axis=(\"x\", \"Vx\"),\n",
    "                   bins=(np.arange(4,8.21,0.1),vbins), ax=ax)\n",
    "\n",
    "fig,ax, = dist_plot([particles[pop][2] for pop in particles.keys()],\n",
    "                    axis=(\"x\", \"Vx\"), bins=(np.arange(5,7.16,0.05),vbins), ax=ax)\n"
   ]
  },
  {
   "cell_type": "code",
   "execution_count": 7,
   "metadata": {},
   "outputs": [
    {
     "data": {
      "application/vnd.jupyter.widget-view+json": {
       "model_id": "d8c5df15a7c249d3b95eb67b575c127e",
       "version_major": 2,
       "version_minor": 0
      },
      "text/plain": [
       "Canvas(toolbar=Toolbar(toolitems=[('Home', 'Reset original view', 'home', 'home'), ('Back', 'Back to previous …"
      ]
     },
     "metadata": {},
     "output_type": "display_data"
    },
    {
     "name": "stderr",
     "output_type": "stream",
     "text": [
      "No handles with labels found to put in legend.\n",
      "No handles with labels found to put in legend.\n",
      "No handles with labels found to put in legend.\n"
     ]
    }
   ],
   "source": [
    "fig, ax = plt.subplots(figsize=(10,5))\n",
    "dv = 0.05\n",
    "vmin = -2\n",
    "vmax = 2\n",
    "vbins = np.arange(vmin, vmax+dv, dv)\n",
    "fig, ax = dist_plot([particles[pop][0] for pop in particles.keys()],\n",
    "                     axis=(\"x\", \"Vx\"),bins=(np.arange(0,20.2,0.2), vbins), ax=ax)\n",
    "\n",
    "ax.axvline(20*0.2, ls=\"-\", color=\"w\")\n",
    "ax.axvline(41*0.2, ls=\"-\", color=\"w\")\n",
    "ax.axvline(25*0.2, ls=\"-\", color=\"r\")\n",
    "ax.axvline(71*0.1+0.05, ls=\"-\", color=\"r\")\n",
    "\n",
    "fig,ax = dist_plot([particles[pop][1] for pop in particles.keys()],\n",
    "                   axis=(\"x\", \"Vx\"),\n",
    "                   bins=(np.arange(4,8.21,0.1),vbins), ax=ax)\n",
    "\n",
    "fig,ax, = dist_plot([particles[pop][2] for pop in particles.keys()],\n",
    "                    axis=(\"x\", \"Vx\"), bins=(np.arange(5,7.16,0.05),vbins), ax=ax)\n",
    "\n"
   ]
  },
  {
   "cell_type": "code",
   "execution_count": null,
   "metadata": {},
   "outputs": [],
   "source": []
  }
 ],
 "metadata": {
  "kernelspec": {
   "display_name": "Python 3.8",
   "language": "python",
   "name": "python38"
  },
  "language_info": {
   "codemirror_mode": {
    "name": "ipython",
    "version": 3
   },
   "file_extension": ".py",
   "mimetype": "text/x-python",
   "name": "python",
   "nbconvert_exporter": "python",
   "pygments_lexer": "ipython3",
   "version": "3.8.5"
  },
  "varInspector": {
   "cols": {
    "lenName": 16,
    "lenType": 16,
    "lenVar": 40
   },
   "kernels_config": {
    "python": {
     "delete_cmd_postfix": "",
     "delete_cmd_prefix": "del ",
     "library": "var_list.py",
     "varRefreshCmd": "print(var_dic_list())"
    },
    "r": {
     "delete_cmd_postfix": ") ",
     "delete_cmd_prefix": "rm(",
     "library": "var_list.r",
     "varRefreshCmd": "cat(var_dic_list()) "
    }
   },
   "types_to_exclude": [
    "module",
    "function",
    "builtin_function_or_method",
    "instance",
    "_Feature"
   ],
   "window_display": false
  }
 },
 "nbformat": 4,
 "nbformat_minor": 4
}
